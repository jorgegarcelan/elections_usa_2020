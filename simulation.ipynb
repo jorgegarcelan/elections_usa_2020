{
 "cells": [
  {
   "cell_type": "markdown",
   "metadata": {},
   "source": [
    "## 📊 Simulación"
   ]
  },
  {
   "cell_type": "markdown",
   "metadata": {},
   "source": [
    "🧑‍💻 Lucía Cordero | Cristina Sanchís | Jorge Garcelán"
   ]
  },
  {
   "cell_type": "markdown",
   "metadata": {},
   "source": [
    "![Election Results](https://elordenmundial.com/wp-content/uploads/2020/10/editable-portada-especial-.png)\n"
   ]
  },
  {
   "cell_type": "markdown",
   "metadata": {},
   "source": [
    "<div class=\"warning\" style='padding:0.1em; border-left: 4px solid #17a2b8; background-color:#e8f8ff;'>\n",
    "<span>\n",
    "<p style='margin-top:1em; margin-left:1em; text-align:left'>\n",
    "<b>💡Interpretación de la simulación</b></p>\n",
    "<p style='margin-left:1em;'>\n",
    "Imaginemos que estamos en el día de las elecciones y nos van llegando datos de condados (equivalentes a dataset de train) y queremos hacer un forecast de cómo van a acabar las elecciones, es decir, hacer un forecast de los condados que todavía no tenemos los datos (test). En ese sentido, podríamos hacer un modelo con los datos que sí tenemos (train) y predecir los condados que todavía no tenemos (test). Y así podemos repetir el proceso N veces y crear una simulación.\n",
    "</p>\n",
    "</span>\n",
    "</div>"
   ]
  },
  {
   "cell_type": "markdown",
   "metadata": {},
   "source": [
    "## Libraries"
   ]
  },
  {
   "cell_type": "code",
   "execution_count": 150,
   "metadata": {},
   "outputs": [],
   "source": [
    "import pandas as pd\n",
    "from pandas import read_csv\n",
    "import numpy as np\n",
    "from sklearn.linear_model import LinearRegression\n",
    "from sklearn.ensemble import RandomForestRegressor\n",
    "from sklearn.neighbors import KNeighborsRegressor\n",
    "from sklearn.model_selection import train_test_split\n",
    "import json\n",
    "import plotly.express as px\n",
    "import plotly.graph_objects as go\n",
    "import seaborn as sns\n",
    "import matplotlib.pyplot as plt\n",
    "from scipy.stats import gaussian_kde"
   ]
  },
  {
   "cell_type": "markdown",
   "metadata": {},
   "source": [
    "## Load data"
   ]
  },
  {
   "cell_type": "code",
   "execution_count": 151,
   "metadata": {},
   "outputs": [],
   "source": [
    "def load_seats_data(path, state_to_code):\n",
    "    # Cargar datos\n",
    "    seats_data = pd.read_csv(path, header=0, sep=\",\")\n",
    "\n",
    "    # Seleccionar las primeras tres columnas y las columnas que contienen \"2019\"\n",
    "    seats_data = seats_data.iloc[:, [0, 1]]\n",
    "\n",
    "    # Renombrar columnas\n",
    "    seats_data.columns = [\"state\", \"electoral_votes_number\"]\n",
    "\n",
    "    # Añadir District of Columbia pues no aparece\n",
    "    new_row = pd.DataFrame({\n",
    "        'state': ['District of Columbia'],\n",
    "        'electoral_votes_number': [3]\n",
    "    })\n",
    "\n",
    "    # Añadir la nueva fila al DataFrame utilizando pd.concat\n",
    "    seats_data = pd.concat([seats_data, new_row], ignore_index=True)\n",
    "\n",
    "    \n",
    "    seats_data[\"state_code\"] = seats_data['state'].map(state_to_code)\n",
    "\n",
    "    return seats_data"
   ]
  },
  {
   "cell_type": "code",
   "execution_count": 152,
   "metadata": {},
   "outputs": [],
   "source": [
    "# Cargar datos\n",
    "data = read_csv(\"data/final_data.csv\")\n",
    "columns_to_drop = ['Total_2020', 'Other_2020', 'Winner_2020', \"Biden_2020\"]  # Nombres de las columnas a eliminar\n",
    "data_sim = data.drop(columns=columns_to_drop)\n",
    "\n",
    "# Cargar codigo de estados\n",
    "with open(\"data/state_to_code.json\", \"r\") as file:\n",
    "    state_to_code = json.load(file)\n",
    "\n",
    "\n",
    "# Cargar datos de escaños por estado\n",
    "seats_data = load_seats_data(\"data/seats2020.csv\", state_to_code)\n",
    "\n",
    "# Cargar datos de state, county, fips\n",
    "state_fips_county = read_csv('data/state_fips_county.csv')\n",
    "state_names = state_fips_county['state']\n",
    "fips_codes = state_fips_county['fips']\n",
    "county_names = state_fips_county['county']"
   ]
  },
  {
   "cell_type": "code",
   "execution_count": 153,
   "metadata": {},
   "outputs": [
    {
     "data": {
      "text/html": [
       "<div>\n",
       "<style scoped>\n",
       "    .dataframe tbody tr th:only-of-type {\n",
       "        vertical-align: middle;\n",
       "    }\n",
       "\n",
       "    .dataframe tbody tr th {\n",
       "        vertical-align: top;\n",
       "    }\n",
       "\n",
       "    .dataframe thead th {\n",
       "        text-align: right;\n",
       "    }\n",
       "</style>\n",
       "<table border=\"1\" class=\"dataframe\">\n",
       "  <thead>\n",
       "    <tr style=\"text-align: right;\">\n",
       "      <th></th>\n",
       "      <th>state</th>\n",
       "      <th>electoral_votes_number</th>\n",
       "      <th>state_code</th>\n",
       "      <th>Votes_Biden_2020</th>\n",
       "      <th>Votes_Trump_2020</th>\n",
       "      <th>Votes_Other_2020</th>\n",
       "      <th>Votes_Total_2020</th>\n",
       "      <th>Perc_Biden_2020</th>\n",
       "      <th>Perc_Trump_2020</th>\n",
       "      <th>Winner_2020</th>\n",
       "      <th>Difference</th>\n",
       "      <th>Status</th>\n",
       "    </tr>\n",
       "  </thead>\n",
       "  <tbody>\n",
       "    <tr>\n",
       "      <th>0</th>\n",
       "      <td>California</td>\n",
       "      <td>55</td>\n",
       "      <td>CA</td>\n",
       "      <td>11109764</td>\n",
       "      <td>6005961</td>\n",
       "      <td>380181</td>\n",
       "      <td>17495906</td>\n",
       "      <td>0.634992</td>\n",
       "      <td>0.343278</td>\n",
       "      <td>Biden</td>\n",
       "      <td>29.171413</td>\n",
       "      <td>Safe Biden</td>\n",
       "    </tr>\n",
       "    <tr>\n",
       "      <th>1</th>\n",
       "      <td>Texas</td>\n",
       "      <td>38</td>\n",
       "      <td>TX</td>\n",
       "      <td>5259126</td>\n",
       "      <td>5890347</td>\n",
       "      <td>168438</td>\n",
       "      <td>11317911</td>\n",
       "      <td>0.464673</td>\n",
       "      <td>0.520445</td>\n",
       "      <td>Trump</td>\n",
       "      <td>-5.577186</td>\n",
       "      <td>Likely Trump</td>\n",
       "    </tr>\n",
       "    <tr>\n",
       "      <th>2</th>\n",
       "      <td>New York</td>\n",
       "      <td>29</td>\n",
       "      <td>NY</td>\n",
       "      <td>5244006</td>\n",
       "      <td>3250230</td>\n",
       "      <td>121969</td>\n",
       "      <td>8616205</td>\n",
       "      <td>0.608621</td>\n",
       "      <td>0.377223</td>\n",
       "      <td>Biden</td>\n",
       "      <td>23.139839</td>\n",
       "      <td>Safe Biden</td>\n",
       "    </tr>\n",
       "    <tr>\n",
       "      <th>3</th>\n",
       "      <td>Florida</td>\n",
       "      <td>29</td>\n",
       "      <td>FL</td>\n",
       "      <td>5297045</td>\n",
       "      <td>5668731</td>\n",
       "      <td>101680</td>\n",
       "      <td>11067456</td>\n",
       "      <td>0.478615</td>\n",
       "      <td>0.512198</td>\n",
       "      <td>Trump</td>\n",
       "      <td>-3.358369</td>\n",
       "      <td>Likely Trump</td>\n",
       "    </tr>\n",
       "    <tr>\n",
       "      <th>4</th>\n",
       "      <td>Pennsylvania</td>\n",
       "      <td>20</td>\n",
       "      <td>PA</td>\n",
       "      <td>3459923</td>\n",
       "      <td>3378263</td>\n",
       "      <td>87069</td>\n",
       "      <td>6925255</td>\n",
       "      <td>0.499609</td>\n",
       "      <td>0.487818</td>\n",
       "      <td>Biden</td>\n",
       "      <td>1.179162</td>\n",
       "      <td>Toss-Up</td>\n",
       "    </tr>\n",
       "    <tr>\n",
       "      <th>5</th>\n",
       "      <td>Illinois</td>\n",
       "      <td>20</td>\n",
       "      <td>IL</td>\n",
       "      <td>3471915</td>\n",
       "      <td>2446891</td>\n",
       "      <td>120044</td>\n",
       "      <td>6038850</td>\n",
       "      <td>0.574930</td>\n",
       "      <td>0.405192</td>\n",
       "      <td>Biden</td>\n",
       "      <td>16.973828</td>\n",
       "      <td>Safe Biden</td>\n",
       "    </tr>\n",
       "    <tr>\n",
       "      <th>6</th>\n",
       "      <td>Ohio</td>\n",
       "      <td>18</td>\n",
       "      <td>OH</td>\n",
       "      <td>2679165</td>\n",
       "      <td>3154834</td>\n",
       "      <td>88203</td>\n",
       "      <td>5922202</td>\n",
       "      <td>0.452393</td>\n",
       "      <td>0.532713</td>\n",
       "      <td>Trump</td>\n",
       "      <td>-8.031962</td>\n",
       "      <td>Likely Trump</td>\n",
       "    </tr>\n",
       "    <tr>\n",
       "      <th>7</th>\n",
       "      <td>Michigan</td>\n",
       "      <td>16</td>\n",
       "      <td>MI</td>\n",
       "      <td>2804040</td>\n",
       "      <td>2649852</td>\n",
       "      <td>85410</td>\n",
       "      <td>5539302</td>\n",
       "      <td>0.506208</td>\n",
       "      <td>0.478373</td>\n",
       "      <td>Biden</td>\n",
       "      <td>2.783528</td>\n",
       "      <td>Likely Biden</td>\n",
       "    </tr>\n",
       "    <tr>\n",
       "      <th>8</th>\n",
       "      <td>Georgia</td>\n",
       "      <td>16</td>\n",
       "      <td>GA</td>\n",
       "      <td>2473633</td>\n",
       "      <td>2461854</td>\n",
       "      <td>62229</td>\n",
       "      <td>4997716</td>\n",
       "      <td>0.494953</td>\n",
       "      <td>0.492596</td>\n",
       "      <td>Biden</td>\n",
       "      <td>0.235688</td>\n",
       "      <td>Toss-Up</td>\n",
       "    </tr>\n",
       "    <tr>\n",
       "      <th>9</th>\n",
       "      <td>North Carolina</td>\n",
       "      <td>15</td>\n",
       "      <td>NC</td>\n",
       "      <td>2684292</td>\n",
       "      <td>2758773</td>\n",
       "      <td>81736</td>\n",
       "      <td>5524801</td>\n",
       "      <td>0.485862</td>\n",
       "      <td>0.499343</td>\n",
       "      <td>Trump</td>\n",
       "      <td>-1.348121</td>\n",
       "      <td>Toss-Up</td>\n",
       "    </tr>\n",
       "    <tr>\n",
       "      <th>10</th>\n",
       "      <td>New Jersey</td>\n",
       "      <td>14</td>\n",
       "      <td>NJ</td>\n",
       "      <td>2608335</td>\n",
       "      <td>1883274</td>\n",
       "      <td>72625</td>\n",
       "      <td>4564234</td>\n",
       "      <td>0.571473</td>\n",
       "      <td>0.412616</td>\n",
       "      <td>Biden</td>\n",
       "      <td>15.885711</td>\n",
       "      <td>Safe Biden</td>\n",
       "    </tr>\n",
       "    <tr>\n",
       "      <th>11</th>\n",
       "      <td>Virginia</td>\n",
       "      <td>13</td>\n",
       "      <td>VA</td>\n",
       "      <td>2413568</td>\n",
       "      <td>1962430</td>\n",
       "      <td>84526</td>\n",
       "      <td>4460524</td>\n",
       "      <td>0.541095</td>\n",
       "      <td>0.439955</td>\n",
       "      <td>Biden</td>\n",
       "      <td>10.114014</td>\n",
       "      <td>Safe Biden</td>\n",
       "    </tr>\n",
       "    <tr>\n",
       "      <th>12</th>\n",
       "      <td>Washington</td>\n",
       "      <td>12</td>\n",
       "      <td>WA</td>\n",
       "      <td>2369612</td>\n",
       "      <td>1584651</td>\n",
       "      <td>133368</td>\n",
       "      <td>4087631</td>\n",
       "      <td>0.579703</td>\n",
       "      <td>0.387670</td>\n",
       "      <td>Biden</td>\n",
       "      <td>19.203323</td>\n",
       "      <td>Safe Biden</td>\n",
       "    </tr>\n",
       "    <tr>\n",
       "      <th>13</th>\n",
       "      <td>Tennessee</td>\n",
       "      <td>11</td>\n",
       "      <td>TN</td>\n",
       "      <td>1143711</td>\n",
       "      <td>1852475</td>\n",
       "      <td>57665</td>\n",
       "      <td>3053851</td>\n",
       "      <td>0.374514</td>\n",
       "      <td>0.606603</td>\n",
       "      <td>Trump</td>\n",
       "      <td>-23.208860</td>\n",
       "      <td>Safe Trump</td>\n",
       "    </tr>\n",
       "    <tr>\n",
       "      <th>14</th>\n",
       "      <td>Massachusetts</td>\n",
       "      <td>11</td>\n",
       "      <td>MA</td>\n",
       "      <td>2382202</td>\n",
       "      <td>1167202</td>\n",
       "      <td>81998</td>\n",
       "      <td>3631402</td>\n",
       "      <td>0.656001</td>\n",
       "      <td>0.321419</td>\n",
       "      <td>Biden</td>\n",
       "      <td>33.458152</td>\n",
       "      <td>Safe Biden</td>\n",
       "    </tr>\n",
       "    <tr>\n",
       "      <th>15</th>\n",
       "      <td>Indiana</td>\n",
       "      <td>11</td>\n",
       "      <td>IN</td>\n",
       "      <td>1242495</td>\n",
       "      <td>1729852</td>\n",
       "      <td>60851</td>\n",
       "      <td>3033198</td>\n",
       "      <td>0.409632</td>\n",
       "      <td>0.570306</td>\n",
       "      <td>Trump</td>\n",
       "      <td>-16.067431</td>\n",
       "      <td>Safe Trump</td>\n",
       "    </tr>\n",
       "    <tr>\n",
       "      <th>16</th>\n",
       "      <td>Arizona</td>\n",
       "      <td>11</td>\n",
       "      <td>AZ</td>\n",
       "      <td>1672143</td>\n",
       "      <td>1661686</td>\n",
       "      <td>53497</td>\n",
       "      <td>3387326</td>\n",
       "      <td>0.493647</td>\n",
       "      <td>0.490560</td>\n",
       "      <td>Biden</td>\n",
       "      <td>0.308710</td>\n",
       "      <td>Toss-Up</td>\n",
       "    </tr>\n",
       "    <tr>\n",
       "      <th>17</th>\n",
       "      <td>Wisconsin</td>\n",
       "      <td>10</td>\n",
       "      <td>WI</td>\n",
       "      <td>1630673</td>\n",
       "      <td>1610065</td>\n",
       "      <td>56614</td>\n",
       "      <td>3297352</td>\n",
       "      <td>0.494540</td>\n",
       "      <td>0.488290</td>\n",
       "      <td>Biden</td>\n",
       "      <td>0.624986</td>\n",
       "      <td>Toss-Up</td>\n",
       "    </tr>\n",
       "    <tr>\n",
       "      <th>18</th>\n",
       "      <td>Missouri</td>\n",
       "      <td>10</td>\n",
       "      <td>MO</td>\n",
       "      <td>1253014</td>\n",
       "      <td>1718736</td>\n",
       "      <td>54212</td>\n",
       "      <td>3025962</td>\n",
       "      <td>0.414088</td>\n",
       "      <td>0.567997</td>\n",
       "      <td>Trump</td>\n",
       "      <td>-15.390874</td>\n",
       "      <td>Safe Trump</td>\n",
       "    </tr>\n",
       "    <tr>\n",
       "      <th>19</th>\n",
       "      <td>Minnesota</td>\n",
       "      <td>10</td>\n",
       "      <td>MN</td>\n",
       "      <td>1717077</td>\n",
       "      <td>1484065</td>\n",
       "      <td>76029</td>\n",
       "      <td>3277171</td>\n",
       "      <td>0.523951</td>\n",
       "      <td>0.452849</td>\n",
       "      <td>Biden</td>\n",
       "      <td>7.110157</td>\n",
       "      <td>Likely Biden</td>\n",
       "    </tr>\n",
       "    <tr>\n",
       "      <th>20</th>\n",
       "      <td>Maryland</td>\n",
       "      <td>10</td>\n",
       "      <td>MD</td>\n",
       "      <td>1985023</td>\n",
       "      <td>976414</td>\n",
       "      <td>75593</td>\n",
       "      <td>3037030</td>\n",
       "      <td>0.653607</td>\n",
       "      <td>0.321503</td>\n",
       "      <td>Biden</td>\n",
       "      <td>33.210373</td>\n",
       "      <td>Safe Biden</td>\n",
       "    </tr>\n",
       "    <tr>\n",
       "      <th>21</th>\n",
       "      <td>South Carolina</td>\n",
       "      <td>9</td>\n",
       "      <td>SC</td>\n",
       "      <td>1091541</td>\n",
       "      <td>1385103</td>\n",
       "      <td>36685</td>\n",
       "      <td>2513329</td>\n",
       "      <td>0.434301</td>\n",
       "      <td>0.551103</td>\n",
       "      <td>Trump</td>\n",
       "      <td>-11.680206</td>\n",
       "      <td>Safe Trump</td>\n",
       "    </tr>\n",
       "    <tr>\n",
       "      <th>22</th>\n",
       "      <td>Colorado</td>\n",
       "      <td>9</td>\n",
       "      <td>CO</td>\n",
       "      <td>1804352</td>\n",
       "      <td>1364607</td>\n",
       "      <td>87994</td>\n",
       "      <td>3256953</td>\n",
       "      <td>0.554000</td>\n",
       "      <td>0.418983</td>\n",
       "      <td>Biden</td>\n",
       "      <td>13.501730</td>\n",
       "      <td>Safe Biden</td>\n",
       "    </tr>\n",
       "    <tr>\n",
       "      <th>23</th>\n",
       "      <td>Alabama</td>\n",
       "      <td>9</td>\n",
       "      <td>AL</td>\n",
       "      <td>849648</td>\n",
       "      <td>1441168</td>\n",
       "      <td>32488</td>\n",
       "      <td>2323304</td>\n",
       "      <td>0.365707</td>\n",
       "      <td>0.620310</td>\n",
       "      <td>Trump</td>\n",
       "      <td>-25.460293</td>\n",
       "      <td>Safe Trump</td>\n",
       "    </tr>\n",
       "    <tr>\n",
       "      <th>24</th>\n",
       "      <td>Louisiana</td>\n",
       "      <td>8</td>\n",
       "      <td>LA</td>\n",
       "      <td>856034</td>\n",
       "      <td>1255776</td>\n",
       "      <td>36252</td>\n",
       "      <td>2148062</td>\n",
       "      <td>0.398515</td>\n",
       "      <td>0.584609</td>\n",
       "      <td>Trump</td>\n",
       "      <td>-18.609426</td>\n",
       "      <td>Safe Trump</td>\n",
       "    </tr>\n",
       "    <tr>\n",
       "      <th>25</th>\n",
       "      <td>Kentucky</td>\n",
       "      <td>8</td>\n",
       "      <td>KY</td>\n",
       "      <td>772474</td>\n",
       "      <td>1326646</td>\n",
       "      <td>37648</td>\n",
       "      <td>2136768</td>\n",
       "      <td>0.361515</td>\n",
       "      <td>0.620866</td>\n",
       "      <td>Trump</td>\n",
       "      <td>-25.935057</td>\n",
       "      <td>Safe Trump</td>\n",
       "    </tr>\n",
       "    <tr>\n",
       "      <th>26</th>\n",
       "      <td>Oregon</td>\n",
       "      <td>7</td>\n",
       "      <td>OR</td>\n",
       "      <td>1340383</td>\n",
       "      <td>958448</td>\n",
       "      <td>75490</td>\n",
       "      <td>2374321</td>\n",
       "      <td>0.564533</td>\n",
       "      <td>0.403672</td>\n",
       "      <td>Biden</td>\n",
       "      <td>16.086073</td>\n",
       "      <td>Safe Biden</td>\n",
       "    </tr>\n",
       "    <tr>\n",
       "      <th>27</th>\n",
       "      <td>Oklahoma</td>\n",
       "      <td>7</td>\n",
       "      <td>OK</td>\n",
       "      <td>503890</td>\n",
       "      <td>1020280</td>\n",
       "      <td>36529</td>\n",
       "      <td>1560699</td>\n",
       "      <td>0.322862</td>\n",
       "      <td>0.653733</td>\n",
       "      <td>Trump</td>\n",
       "      <td>-33.087098</td>\n",
       "      <td>Safe Trump</td>\n",
       "    </tr>\n",
       "    <tr>\n",
       "      <th>28</th>\n",
       "      <td>Connecticut</td>\n",
       "      <td>7</td>\n",
       "      <td>CT</td>\n",
       "      <td>1080680</td>\n",
       "      <td>715291</td>\n",
       "      <td>28309</td>\n",
       "      <td>1824280</td>\n",
       "      <td>0.592387</td>\n",
       "      <td>0.392095</td>\n",
       "      <td>Biden</td>\n",
       "      <td>20.029217</td>\n",
       "      <td>Safe Biden</td>\n",
       "    </tr>\n",
       "    <tr>\n",
       "      <th>29</th>\n",
       "      <td>Utah</td>\n",
       "      <td>6</td>\n",
       "      <td>UT</td>\n",
       "      <td>560282</td>\n",
       "      <td>865140</td>\n",
       "      <td>62867</td>\n",
       "      <td>1488289</td>\n",
       "      <td>0.376460</td>\n",
       "      <td>0.581298</td>\n",
       "      <td>Trump</td>\n",
       "      <td>-20.483790</td>\n",
       "      <td>Safe Trump</td>\n",
       "    </tr>\n",
       "    <tr>\n",
       "      <th>30</th>\n",
       "      <td>Nevada</td>\n",
       "      <td>6</td>\n",
       "      <td>NV</td>\n",
       "      <td>703486</td>\n",
       "      <td>669890</td>\n",
       "      <td>32000</td>\n",
       "      <td>1405376</td>\n",
       "      <td>0.500568</td>\n",
       "      <td>0.476662</td>\n",
       "      <td>Biden</td>\n",
       "      <td>2.390535</td>\n",
       "      <td>Toss-Up</td>\n",
       "    </tr>\n",
       "    <tr>\n",
       "      <th>31</th>\n",
       "      <td>Mississippi</td>\n",
       "      <td>6</td>\n",
       "      <td>MS</td>\n",
       "      <td>539398</td>\n",
       "      <td>756764</td>\n",
       "      <td>19016</td>\n",
       "      <td>1315178</td>\n",
       "      <td>0.410133</td>\n",
       "      <td>0.575408</td>\n",
       "      <td>Trump</td>\n",
       "      <td>-16.527497</td>\n",
       "      <td>Safe Trump</td>\n",
       "    </tr>\n",
       "    <tr>\n",
       "      <th>32</th>\n",
       "      <td>Kansas</td>\n",
       "      <td>6</td>\n",
       "      <td>KS</td>\n",
       "      <td>558669</td>\n",
       "      <td>758100</td>\n",
       "      <td>32798</td>\n",
       "      <td>1349567</td>\n",
       "      <td>0.413962</td>\n",
       "      <td>0.561736</td>\n",
       "      <td>Trump</td>\n",
       "      <td>-14.777406</td>\n",
       "      <td>Safe Trump</td>\n",
       "    </tr>\n",
       "    <tr>\n",
       "      <th>33</th>\n",
       "      <td>Iowa</td>\n",
       "      <td>6</td>\n",
       "      <td>IA</td>\n",
       "      <td>759061</td>\n",
       "      <td>897672</td>\n",
       "      <td>34138</td>\n",
       "      <td>1690871</td>\n",
       "      <td>0.448917</td>\n",
       "      <td>0.530893</td>\n",
       "      <td>Trump</td>\n",
       "      <td>-8.197609</td>\n",
       "      <td>Likely Trump</td>\n",
       "    </tr>\n",
       "    <tr>\n",
       "      <th>34</th>\n",
       "      <td>Arkansas</td>\n",
       "      <td>6</td>\n",
       "      <td>AR</td>\n",
       "      <td>423932</td>\n",
       "      <td>760647</td>\n",
       "      <td>34490</td>\n",
       "      <td>1219069</td>\n",
       "      <td>0.347751</td>\n",
       "      <td>0.623957</td>\n",
       "      <td>Trump</td>\n",
       "      <td>-27.620668</td>\n",
       "      <td>Safe Trump</td>\n",
       "    </tr>\n",
       "    <tr>\n",
       "      <th>35</th>\n",
       "      <td>West Virginia</td>\n",
       "      <td>5</td>\n",
       "      <td>WV</td>\n",
       "      <td>235984</td>\n",
       "      <td>545382</td>\n",
       "      <td>13286</td>\n",
       "      <td>794652</td>\n",
       "      <td>0.296965</td>\n",
       "      <td>0.686316</td>\n",
       "      <td>Trump</td>\n",
       "      <td>-38.935031</td>\n",
       "      <td>Safe Trump</td>\n",
       "    </tr>\n",
       "    <tr>\n",
       "      <th>36</th>\n",
       "      <td>New Mexico</td>\n",
       "      <td>5</td>\n",
       "      <td>NM</td>\n",
       "      <td>453657</td>\n",
       "      <td>369092</td>\n",
       "      <td>18575</td>\n",
       "      <td>841324</td>\n",
       "      <td>0.539218</td>\n",
       "      <td>0.438704</td>\n",
       "      <td>Biden</td>\n",
       "      <td>10.051419</td>\n",
       "      <td>Safe Biden</td>\n",
       "    </tr>\n",
       "    <tr>\n",
       "      <th>37</th>\n",
       "      <td>Nebraska</td>\n",
       "      <td>5</td>\n",
       "      <td>NE</td>\n",
       "      <td>374583</td>\n",
       "      <td>556846</td>\n",
       "      <td>24950</td>\n",
       "      <td>956379</td>\n",
       "      <td>0.391668</td>\n",
       "      <td>0.582244</td>\n",
       "      <td>Trump</td>\n",
       "      <td>-19.057612</td>\n",
       "      <td>Safe Trump</td>\n",
       "    </tr>\n",
       "    <tr>\n",
       "      <th>38</th>\n",
       "      <td>Rhode Island</td>\n",
       "      <td>4</td>\n",
       "      <td>RI</td>\n",
       "      <td>306210</td>\n",
       "      <td>199837</td>\n",
       "      <td>10336</td>\n",
       "      <td>516383</td>\n",
       "      <td>0.592990</td>\n",
       "      <td>0.386994</td>\n",
       "      <td>Biden</td>\n",
       "      <td>20.599632</td>\n",
       "      <td>Safe Biden</td>\n",
       "    </tr>\n",
       "    <tr>\n",
       "      <th>39</th>\n",
       "      <td>New Hampshire</td>\n",
       "      <td>4</td>\n",
       "      <td>NH</td>\n",
       "      <td>424921</td>\n",
       "      <td>365654</td>\n",
       "      <td>13855</td>\n",
       "      <td>804430</td>\n",
       "      <td>0.528226</td>\n",
       "      <td>0.454550</td>\n",
       "      <td>Biden</td>\n",
       "      <td>7.367577</td>\n",
       "      <td>Likely Biden</td>\n",
       "    </tr>\n",
       "    <tr>\n",
       "      <th>40</th>\n",
       "      <td>Maine</td>\n",
       "      <td>4</td>\n",
       "      <td>ME</td>\n",
       "      <td>430473</td>\n",
       "      <td>359899</td>\n",
       "      <td>23368</td>\n",
       "      <td>813740</td>\n",
       "      <td>0.529006</td>\n",
       "      <td>0.442278</td>\n",
       "      <td>Biden</td>\n",
       "      <td>8.672795</td>\n",
       "      <td>Likely Biden</td>\n",
       "    </tr>\n",
       "    <tr>\n",
       "      <th>41</th>\n",
       "      <td>Idaho</td>\n",
       "      <td>4</td>\n",
       "      <td>ID</td>\n",
       "      <td>287021</td>\n",
       "      <td>554118</td>\n",
       "      <td>26966</td>\n",
       "      <td>868105</td>\n",
       "      <td>0.330629</td>\n",
       "      <td>0.638308</td>\n",
       "      <td>Trump</td>\n",
       "      <td>-30.767822</td>\n",
       "      <td>Safe Trump</td>\n",
       "    </tr>\n",
       "    <tr>\n",
       "      <th>42</th>\n",
       "      <td>Hawaii</td>\n",
       "      <td>4</td>\n",
       "      <td>HI</td>\n",
       "      <td>366130</td>\n",
       "      <td>196864</td>\n",
       "      <td>11475</td>\n",
       "      <td>574469</td>\n",
       "      <td>0.637336</td>\n",
       "      <td>0.342689</td>\n",
       "      <td>Biden</td>\n",
       "      <td>29.464775</td>\n",
       "      <td>Safe Biden</td>\n",
       "    </tr>\n",
       "    <tr>\n",
       "      <th>43</th>\n",
       "      <td>Wyoming</td>\n",
       "      <td>3</td>\n",
       "      <td>WY</td>\n",
       "      <td>73491</td>\n",
       "      <td>193559</td>\n",
       "      <td>9715</td>\n",
       "      <td>276765</td>\n",
       "      <td>0.265536</td>\n",
       "      <td>0.699362</td>\n",
       "      <td>Trump</td>\n",
       "      <td>-43.382653</td>\n",
       "      <td>Safe Trump</td>\n",
       "    </tr>\n",
       "    <tr>\n",
       "      <th>44</th>\n",
       "      <td>Vermont</td>\n",
       "      <td>3</td>\n",
       "      <td>VT</td>\n",
       "      <td>242820</td>\n",
       "      <td>112704</td>\n",
       "      <td>11904</td>\n",
       "      <td>367428</td>\n",
       "      <td>0.660864</td>\n",
       "      <td>0.306738</td>\n",
       "      <td>Biden</td>\n",
       "      <td>35.412652</td>\n",
       "      <td>Safe Biden</td>\n",
       "    </tr>\n",
       "    <tr>\n",
       "      <th>45</th>\n",
       "      <td>South Dakota</td>\n",
       "      <td>3</td>\n",
       "      <td>SD</td>\n",
       "      <td>150471</td>\n",
       "      <td>261043</td>\n",
       "      <td>11095</td>\n",
       "      <td>422609</td>\n",
       "      <td>0.356053</td>\n",
       "      <td>0.617694</td>\n",
       "      <td>Trump</td>\n",
       "      <td>-26.164138</td>\n",
       "      <td>Safe Trump</td>\n",
       "    </tr>\n",
       "    <tr>\n",
       "      <th>46</th>\n",
       "      <td>North Dakota</td>\n",
       "      <td>3</td>\n",
       "      <td>ND</td>\n",
       "      <td>114902</td>\n",
       "      <td>235595</td>\n",
       "      <td>11322</td>\n",
       "      <td>361819</td>\n",
       "      <td>0.317568</td>\n",
       "      <td>0.651140</td>\n",
       "      <td>Trump</td>\n",
       "      <td>-33.357286</td>\n",
       "      <td>Safe Trump</td>\n",
       "    </tr>\n",
       "    <tr>\n",
       "      <th>47</th>\n",
       "      <td>Montana</td>\n",
       "      <td>3</td>\n",
       "      <td>MT</td>\n",
       "      <td>244786</td>\n",
       "      <td>343602</td>\n",
       "      <td>17362</td>\n",
       "      <td>605750</td>\n",
       "      <td>0.404104</td>\n",
       "      <td>0.567234</td>\n",
       "      <td>Trump</td>\n",
       "      <td>-16.313000</td>\n",
       "      <td>Safe Trump</td>\n",
       "    </tr>\n",
       "    <tr>\n",
       "      <th>48</th>\n",
       "      <td>Delaware</td>\n",
       "      <td>3</td>\n",
       "      <td>DE</td>\n",
       "      <td>296268</td>\n",
       "      <td>200603</td>\n",
       "      <td>7139</td>\n",
       "      <td>504010</td>\n",
       "      <td>0.587822</td>\n",
       "      <td>0.398014</td>\n",
       "      <td>Biden</td>\n",
       "      <td>18.980774</td>\n",
       "      <td>Safe Biden</td>\n",
       "    </tr>\n",
       "    <tr>\n",
       "      <th>49</th>\n",
       "      <td>District of Columbia</td>\n",
       "      <td>3</td>\n",
       "      <td>DC</td>\n",
       "      <td>317323</td>\n",
       "      <td>18586</td>\n",
       "      <td>8447</td>\n",
       "      <td>344356</td>\n",
       "      <td>0.921497</td>\n",
       "      <td>0.053973</td>\n",
       "      <td>Biden</td>\n",
       "      <td>86.752373</td>\n",
       "      <td>Safe Biden</td>\n",
       "    </tr>\n",
       "  </tbody>\n",
       "</table>\n",
       "</div>"
      ],
      "text/plain": [
       "                   state  electoral_votes_number state_code  Votes_Biden_2020  \\\n",
       "0             California                      55         CA          11109764   \n",
       "1                  Texas                      38         TX           5259126   \n",
       "2               New York                      29         NY           5244006   \n",
       "3                Florida                      29         FL           5297045   \n",
       "4           Pennsylvania                      20         PA           3459923   \n",
       "5               Illinois                      20         IL           3471915   \n",
       "6                   Ohio                      18         OH           2679165   \n",
       "7               Michigan                      16         MI           2804040   \n",
       "8                Georgia                      16         GA           2473633   \n",
       "9         North Carolina                      15         NC           2684292   \n",
       "10            New Jersey                      14         NJ           2608335   \n",
       "11              Virginia                      13         VA           2413568   \n",
       "12            Washington                      12         WA           2369612   \n",
       "13             Tennessee                      11         TN           1143711   \n",
       "14         Massachusetts                      11         MA           2382202   \n",
       "15               Indiana                      11         IN           1242495   \n",
       "16               Arizona                      11         AZ           1672143   \n",
       "17             Wisconsin                      10         WI           1630673   \n",
       "18              Missouri                      10         MO           1253014   \n",
       "19             Minnesota                      10         MN           1717077   \n",
       "20              Maryland                      10         MD           1985023   \n",
       "21        South Carolina                       9         SC           1091541   \n",
       "22              Colorado                       9         CO           1804352   \n",
       "23               Alabama                       9         AL            849648   \n",
       "24             Louisiana                       8         LA            856034   \n",
       "25              Kentucky                       8         KY            772474   \n",
       "26                Oregon                       7         OR           1340383   \n",
       "27              Oklahoma                       7         OK            503890   \n",
       "28           Connecticut                       7         CT           1080680   \n",
       "29                  Utah                       6         UT            560282   \n",
       "30                Nevada                       6         NV            703486   \n",
       "31           Mississippi                       6         MS            539398   \n",
       "32                Kansas                       6         KS            558669   \n",
       "33                  Iowa                       6         IA            759061   \n",
       "34              Arkansas                       6         AR            423932   \n",
       "35         West Virginia                       5         WV            235984   \n",
       "36            New Mexico                       5         NM            453657   \n",
       "37              Nebraska                       5         NE            374583   \n",
       "38          Rhode Island                       4         RI            306210   \n",
       "39         New Hampshire                       4         NH            424921   \n",
       "40                 Maine                       4         ME            430473   \n",
       "41                 Idaho                       4         ID            287021   \n",
       "42                Hawaii                       4         HI            366130   \n",
       "43               Wyoming                       3         WY             73491   \n",
       "44               Vermont                       3         VT            242820   \n",
       "45          South Dakota                       3         SD            150471   \n",
       "46          North Dakota                       3         ND            114902   \n",
       "47               Montana                       3         MT            244786   \n",
       "48              Delaware                       3         DE            296268   \n",
       "49  District of Columbia                       3         DC            317323   \n",
       "\n",
       "    Votes_Trump_2020  Votes_Other_2020  Votes_Total_2020  Perc_Biden_2020  \\\n",
       "0            6005961            380181          17495906         0.634992   \n",
       "1            5890347            168438          11317911         0.464673   \n",
       "2            3250230            121969           8616205         0.608621   \n",
       "3            5668731            101680          11067456         0.478615   \n",
       "4            3378263             87069           6925255         0.499609   \n",
       "5            2446891            120044           6038850         0.574930   \n",
       "6            3154834             88203           5922202         0.452393   \n",
       "7            2649852             85410           5539302         0.506208   \n",
       "8            2461854             62229           4997716         0.494953   \n",
       "9            2758773             81736           5524801         0.485862   \n",
       "10           1883274             72625           4564234         0.571473   \n",
       "11           1962430             84526           4460524         0.541095   \n",
       "12           1584651            133368           4087631         0.579703   \n",
       "13           1852475             57665           3053851         0.374514   \n",
       "14           1167202             81998           3631402         0.656001   \n",
       "15           1729852             60851           3033198         0.409632   \n",
       "16           1661686             53497           3387326         0.493647   \n",
       "17           1610065             56614           3297352         0.494540   \n",
       "18           1718736             54212           3025962         0.414088   \n",
       "19           1484065             76029           3277171         0.523951   \n",
       "20            976414             75593           3037030         0.653607   \n",
       "21           1385103             36685           2513329         0.434301   \n",
       "22           1364607             87994           3256953         0.554000   \n",
       "23           1441168             32488           2323304         0.365707   \n",
       "24           1255776             36252           2148062         0.398515   \n",
       "25           1326646             37648           2136768         0.361515   \n",
       "26            958448             75490           2374321         0.564533   \n",
       "27           1020280             36529           1560699         0.322862   \n",
       "28            715291             28309           1824280         0.592387   \n",
       "29            865140             62867           1488289         0.376460   \n",
       "30            669890             32000           1405376         0.500568   \n",
       "31            756764             19016           1315178         0.410133   \n",
       "32            758100             32798           1349567         0.413962   \n",
       "33            897672             34138           1690871         0.448917   \n",
       "34            760647             34490           1219069         0.347751   \n",
       "35            545382             13286            794652         0.296965   \n",
       "36            369092             18575            841324         0.539218   \n",
       "37            556846             24950            956379         0.391668   \n",
       "38            199837             10336            516383         0.592990   \n",
       "39            365654             13855            804430         0.528226   \n",
       "40            359899             23368            813740         0.529006   \n",
       "41            554118             26966            868105         0.330629   \n",
       "42            196864             11475            574469         0.637336   \n",
       "43            193559              9715            276765         0.265536   \n",
       "44            112704             11904            367428         0.660864   \n",
       "45            261043             11095            422609         0.356053   \n",
       "46            235595             11322            361819         0.317568   \n",
       "47            343602             17362            605750         0.404104   \n",
       "48            200603              7139            504010         0.587822   \n",
       "49             18586              8447            344356         0.921497   \n",
       "\n",
       "    Perc_Trump_2020 Winner_2020  Difference        Status  \n",
       "0          0.343278       Biden   29.171413    Safe Biden  \n",
       "1          0.520445       Trump   -5.577186  Likely Trump  \n",
       "2          0.377223       Biden   23.139839    Safe Biden  \n",
       "3          0.512198       Trump   -3.358369  Likely Trump  \n",
       "4          0.487818       Biden    1.179162       Toss-Up  \n",
       "5          0.405192       Biden   16.973828    Safe Biden  \n",
       "6          0.532713       Trump   -8.031962  Likely Trump  \n",
       "7          0.478373       Biden    2.783528  Likely Biden  \n",
       "8          0.492596       Biden    0.235688       Toss-Up  \n",
       "9          0.499343       Trump   -1.348121       Toss-Up  \n",
       "10         0.412616       Biden   15.885711    Safe Biden  \n",
       "11         0.439955       Biden   10.114014    Safe Biden  \n",
       "12         0.387670       Biden   19.203323    Safe Biden  \n",
       "13         0.606603       Trump  -23.208860    Safe Trump  \n",
       "14         0.321419       Biden   33.458152    Safe Biden  \n",
       "15         0.570306       Trump  -16.067431    Safe Trump  \n",
       "16         0.490560       Biden    0.308710       Toss-Up  \n",
       "17         0.488290       Biden    0.624986       Toss-Up  \n",
       "18         0.567997       Trump  -15.390874    Safe Trump  \n",
       "19         0.452849       Biden    7.110157  Likely Biden  \n",
       "20         0.321503       Biden   33.210373    Safe Biden  \n",
       "21         0.551103       Trump  -11.680206    Safe Trump  \n",
       "22         0.418983       Biden   13.501730    Safe Biden  \n",
       "23         0.620310       Trump  -25.460293    Safe Trump  \n",
       "24         0.584609       Trump  -18.609426    Safe Trump  \n",
       "25         0.620866       Trump  -25.935057    Safe Trump  \n",
       "26         0.403672       Biden   16.086073    Safe Biden  \n",
       "27         0.653733       Trump  -33.087098    Safe Trump  \n",
       "28         0.392095       Biden   20.029217    Safe Biden  \n",
       "29         0.581298       Trump  -20.483790    Safe Trump  \n",
       "30         0.476662       Biden    2.390535       Toss-Up  \n",
       "31         0.575408       Trump  -16.527497    Safe Trump  \n",
       "32         0.561736       Trump  -14.777406    Safe Trump  \n",
       "33         0.530893       Trump   -8.197609  Likely Trump  \n",
       "34         0.623957       Trump  -27.620668    Safe Trump  \n",
       "35         0.686316       Trump  -38.935031    Safe Trump  \n",
       "36         0.438704       Biden   10.051419    Safe Biden  \n",
       "37         0.582244       Trump  -19.057612    Safe Trump  \n",
       "38         0.386994       Biden   20.599632    Safe Biden  \n",
       "39         0.454550       Biden    7.367577  Likely Biden  \n",
       "40         0.442278       Biden    8.672795  Likely Biden  \n",
       "41         0.638308       Trump  -30.767822    Safe Trump  \n",
       "42         0.342689       Biden   29.464775    Safe Biden  \n",
       "43         0.699362       Trump  -43.382653    Safe Trump  \n",
       "44         0.306738       Biden   35.412652    Safe Biden  \n",
       "45         0.617694       Trump  -26.164138    Safe Trump  \n",
       "46         0.651140       Trump  -33.357286    Safe Trump  \n",
       "47         0.567234       Trump  -16.313000    Safe Trump  \n",
       "48         0.398014       Biden   18.980774    Safe Biden  \n",
       "49         0.053973       Biden   86.752373    Safe Biden  "
      ]
     },
     "execution_count": 153,
     "metadata": {},
     "output_type": "execute_result"
    }
   ],
   "source": [
    "# Cargar datos electorales reales\n",
    "df_actual = pd.DataFrame({'Votes_Biden_2020': data['Biden_2020'], \n",
    "                            'Votes_Trump_2020': data['Total_2020'] - data['Biden_2020'] - data['Other_2020'], \n",
    "                            'Votes_Other_2020': data['Other_2020'],\n",
    "                            'Votes_Total_2020': data['Total_2020'], \n",
    "                            'state': state_names,\n",
    "                            'county': county_names,\n",
    "                            'fips': fips_codes})\n",
    "df_actual_state = df_actual.groupby('state').agg(Votes_Biden_2020=('Votes_Biden_2020', 'sum'), \n",
    "                                                    Votes_Trump_2020=('Votes_Trump_2020', 'sum'),\n",
    "                                                    Votes_Other_2020=('Votes_Other_2020', 'sum'),\n",
    "                                                    Votes_Total_2020=('Votes_Total_2020', 'sum'))\n",
    "\n",
    "df_actual_state[\"Perc_Biden_2020\"] = df_actual_state[\"Votes_Biden_2020\"] / df_actual_state[\"Votes_Total_2020\"]\n",
    "df_actual_state[\"Perc_Trump_2020\"] = df_actual_state[\"Votes_Trump_2020\"] / df_actual_state[\"Votes_Total_2020\"]\n",
    "\n",
    "# Añadir la columna \"Winner_2020\" basado en los porcentajes predichos de Biden y Trump\n",
    "df_actual_state['Winner_2020'] = np.where(df_actual_state['Perc_Biden_2020'] < df_actual_state['Perc_Trump_2020'], 'Trump', 'Biden')\n",
    "\n",
    "\n",
    "full_df_actual_state = pd.merge(seats_data, df_actual_state, how='inner', on=[\"state\"])\n",
    "\n",
    "\n",
    "\n",
    "# Añadir diferencia entre Biden y Trump\n",
    "full_df_actual_state['Difference'] = (full_df_actual_state['Perc_Biden_2020'] - full_df_actual_state['Perc_Trump_2020']) * 100\n",
    "\n",
    "\n",
    "# Definir las condiciones y los valores a asignar\n",
    "conditions = [\n",
    "    full_df_actual_state[\"Difference\"] > 10,\n",
    "    full_df_actual_state[\"Difference\"].between(2.5, 10),\n",
    "    full_df_actual_state[\"Difference\"].between(-2.5, 2.5),\n",
    "    full_df_actual_state[\"Difference\"].between(-10, -2.5),\n",
    "    full_df_actual_state[\"Difference\"] < -10\n",
    "]\n",
    "\n",
    "choices = [\n",
    "    \"Safe Biden\",\n",
    "    \"Likely Biden\",\n",
    "    \"Toss-Up\",\n",
    "    \"Likely Trump\",\n",
    "    \"Safe Trump\"\n",
    "]\n",
    "\n",
    "# Usar np.select para asignar el \"Status\" basado en las condiciones, con un valor por defecto \"Unknown\"\n",
    "full_df_actual_state[\"Status\"] = np.select(conditions, choices, default=\"Unknown\")\n",
    "\n",
    "full_df_actual_state"
   ]
  },
  {
   "cell_type": "markdown",
   "metadata": {},
   "source": [
    "## Algorithm"
   ]
  },
  {
   "cell_type": "code",
   "execution_count": 154,
   "metadata": {},
   "outputs": [],
   "source": [
    "n_sim = 250"
   ]
  },
  {
   "cell_type": "code",
   "execution_count": 155,
   "metadata": {},
   "outputs": [
    {
     "name": "stdout",
     "output_type": "stream",
     "text": [
      "Simulation 0\n",
      "Simulation 1\n",
      "Simulation 2\n",
      "Simulation 3\n",
      "Simulation 4\n",
      "Simulation 5\n",
      "Simulation 6\n",
      "Simulation 7\n",
      "Simulation 8\n",
      "Simulation 9\n",
      "Simulation 10\n",
      "Simulation 11\n",
      "Simulation 12\n",
      "Simulation 13\n",
      "Simulation 14\n",
      "Simulation 15\n",
      "Simulation 16\n",
      "Simulation 17\n",
      "Simulation 18\n",
      "Simulation 19\n",
      "Simulation 20\n",
      "Simulation 21\n",
      "Simulation 22\n",
      "Simulation 23\n",
      "Simulation 24\n",
      "Simulation 25\n",
      "Simulation 26\n",
      "Simulation 27\n",
      "Simulation 28\n",
      "Simulation 29\n",
      "Simulation 30\n",
      "Simulation 31\n",
      "Simulation 32\n",
      "Simulation 33\n",
      "Simulation 34\n",
      "Simulation 35\n",
      "Simulation 36\n",
      "Simulation 37\n",
      "Simulation 38\n",
      "Simulation 39\n",
      "Simulation 40\n",
      "Simulation 41\n",
      "Simulation 42\n",
      "Simulation 43\n",
      "Simulation 44\n",
      "Simulation 45\n",
      "Simulation 46\n",
      "Simulation 47\n",
      "Simulation 48\n",
      "Simulation 49\n",
      "Simulation 50\n",
      "Simulation 51\n",
      "Simulation 52\n",
      "Simulation 53\n",
      "Simulation 54\n",
      "Simulation 55\n",
      "Simulation 56\n",
      "Simulation 57\n",
      "Simulation 58\n",
      "Simulation 59\n",
      "Simulation 60\n",
      "Simulation 61\n",
      "Simulation 62\n",
      "Simulation 63\n",
      "Simulation 64\n",
      "Simulation 65\n",
      "Simulation 66\n",
      "Simulation 67\n",
      "Simulation 68\n",
      "Simulation 69\n",
      "Simulation 70\n",
      "Simulation 71\n",
      "Simulation 72\n",
      "Simulation 73\n",
      "Simulation 74\n",
      "Simulation 75\n",
      "Simulation 76\n",
      "Simulation 77\n",
      "Simulation 78\n",
      "Simulation 79\n",
      "Simulation 80\n",
      "Simulation 81\n",
      "Simulation 82\n",
      "Simulation 83\n",
      "Simulation 84\n",
      "Simulation 85\n",
      "Simulation 86\n",
      "Simulation 87\n",
      "Simulation 88\n",
      "Simulation 89\n",
      "Simulation 90\n",
      "Simulation 91\n",
      "Simulation 92\n",
      "Simulation 93\n",
      "Simulation 94\n",
      "Simulation 95\n",
      "Simulation 96\n",
      "Simulation 97\n",
      "Simulation 98\n",
      "Simulation 99\n",
      "Simulation 100\n",
      "Simulation 101\n",
      "Simulation 102\n",
      "Simulation 103\n",
      "Simulation 104\n",
      "Simulation 105\n",
      "Simulation 106\n",
      "Simulation 107\n",
      "Simulation 108\n",
      "Simulation 109\n",
      "Simulation 110\n",
      "Simulation 111\n",
      "Simulation 112\n",
      "Simulation 113\n",
      "Simulation 114\n",
      "Simulation 115\n",
      "Simulation 116\n",
      "Simulation 117\n",
      "Simulation 118\n",
      "Simulation 119\n",
      "Simulation 120\n",
      "Simulation 121\n",
      "Simulation 122\n",
      "Simulation 123\n",
      "Simulation 124\n",
      "Simulation 125\n",
      "Simulation 126\n",
      "Simulation 127\n",
      "Simulation 128\n",
      "Simulation 129\n",
      "Simulation 130\n",
      "Simulation 131\n",
      "Simulation 132\n",
      "Simulation 133\n",
      "Simulation 134\n",
      "Simulation 135\n",
      "Simulation 136\n",
      "Simulation 137\n",
      "Simulation 138\n",
      "Simulation 139\n",
      "Simulation 140\n",
      "Simulation 141\n",
      "Simulation 142\n",
      "Simulation 143\n",
      "Simulation 144\n",
      "Simulation 145\n",
      "Simulation 146\n",
      "Simulation 147\n",
      "Simulation 148\n",
      "Simulation 149\n",
      "Simulation 150\n",
      "Simulation 151\n",
      "Simulation 152\n",
      "Simulation 153\n",
      "Simulation 154\n",
      "Simulation 155\n",
      "Simulation 156\n",
      "Simulation 157\n",
      "Simulation 158\n",
      "Simulation 159\n",
      "Simulation 160\n",
      "Simulation 161\n",
      "Simulation 162\n",
      "Simulation 163\n",
      "Simulation 164\n",
      "Simulation 165\n",
      "Simulation 166\n",
      "Simulation 167\n",
      "Simulation 168\n",
      "Simulation 169\n",
      "Simulation 170\n",
      "Simulation 171\n",
      "Simulation 172\n",
      "Simulation 173\n",
      "Simulation 174\n",
      "Simulation 175\n",
      "Simulation 176\n",
      "Simulation 177\n",
      "Simulation 178\n",
      "Simulation 179\n",
      "Simulation 180\n",
      "Simulation 181\n",
      "Simulation 182\n",
      "Simulation 183\n",
      "Simulation 184\n",
      "Simulation 185\n",
      "Simulation 186\n",
      "Simulation 187\n",
      "Simulation 188\n",
      "Simulation 189\n",
      "Simulation 190\n",
      "Simulation 191\n",
      "Simulation 192\n",
      "Simulation 193\n",
      "Simulation 194\n",
      "Simulation 195\n",
      "Simulation 196\n",
      "Simulation 197\n",
      "Simulation 198\n",
      "Simulation 199\n",
      "Simulation 200\n",
      "Simulation 201\n",
      "Simulation 202\n",
      "Simulation 203\n",
      "Simulation 204\n",
      "Simulation 205\n",
      "Simulation 206\n",
      "Simulation 207\n",
      "Simulation 208\n",
      "Simulation 209\n",
      "Simulation 210\n",
      "Simulation 211\n",
      "Simulation 212\n",
      "Simulation 213\n",
      "Simulation 214\n",
      "Simulation 215\n",
      "Simulation 216\n",
      "Simulation 217\n",
      "Simulation 218\n",
      "Simulation 219\n",
      "Simulation 220\n",
      "Simulation 221\n",
      "Simulation 222\n",
      "Simulation 223\n",
      "Simulation 224\n",
      "Simulation 225\n",
      "Simulation 226\n",
      "Simulation 227\n",
      "Simulation 228\n",
      "Simulation 229\n",
      "Simulation 230\n",
      "Simulation 231\n",
      "Simulation 232\n",
      "Simulation 233\n",
      "Simulation 234\n",
      "Simulation 235\n",
      "Simulation 236\n",
      "Simulation 237\n",
      "Simulation 238\n",
      "Simulation 239\n",
      "Simulation 240\n",
      "Simulation 241\n",
      "Simulation 242\n",
      "Simulation 243\n",
      "Simulation 244\n",
      "Simulation 245\n",
      "Simulation 246\n",
      "Simulation 247\n",
      "Simulation 248\n",
      "Simulation 249\n"
     ]
    }
   ],
   "source": [
    "# Inicializar un DataFrame para guardar los resultados de las simulaciones\n",
    "simulation_results = pd.DataFrame(columns=['Biden_Pred', 'Trump_Pred', 'Biden', 'Trump'])\n",
    "\n",
    "# Inicializar un DataFrame para acumular los resultados por estado\n",
    "accumulated_pred_state = pd.DataFrame()\n",
    "\n",
    "for i in range(0, n_sim):\n",
    "\n",
    "    print(f\"Simulation {i}\")\n",
    "\n",
    "    ## Data splitting\n",
    "    # Quitar la columna objetivo ('Perc_Biden_2020') del conjunto de datos\n",
    "    X = data_sim.drop(columns=[\"Perc_Biden_2020\"])  # Características (sin la columna objetivo)\n",
    "    y = data_sim[\"Perc_Biden_2020\"]  # Columna objetivo\n",
    "\n",
    "    # Dividir los datos en 80% para train y 20% para test (cada sim es distinto)\n",
    "    X_train, X_test, y_train, y_test = train_test_split(X, y, test_size=0.2)\n",
    "\n",
    "    ## Models\n",
    "    # Linear Regression\n",
    "    lr_model = LinearRegression()\n",
    "    lr_model.fit(X_train, y_train)\n",
    "    pred_lr = lr_model.predict(X_test)\n",
    "\n",
    "    # Random Forest\n",
    "    rf_model = RandomForestRegressor(n_estimators=100, random_state=i)\n",
    "    rf_model.fit(X_train, y_train)\n",
    "    pred_rf = rf_model.predict(X_test)\n",
    "\n",
    "    # KNN\n",
    "    knn_model = KNeighborsRegressor(n_neighbors=5)  # Puedes ajustar el número de vecinos\n",
    "    knn_model.fit(X_train, y_train)\n",
    "    pred_knn = knn_model.predict(X_test)\n",
    "\n",
    "    # Predicciones combinadas\n",
    "    predictions = (pred_lr + pred_rf + pred_knn) / 3  # Promedio de predicciones de los tres modelos\n",
    "\n",
    "    # Todos los votos por condado, pero usando predicciones\n",
    "    perc_biden_pred = data['Perc_Biden_2020'].copy()\n",
    "    perc_biden_pred.iloc[X_test.index] = predictions\n",
    "\n",
    "    # Agrupar por estado para calcular las predicciones por estado\n",
    "    df_pred = pd.DataFrame({'Votes_Biden_2020': perc_biden_pred * data['Total_2020'], \n",
    "                            'Votes_Trump_2020': (1 - perc_biden_pred - data[\"Perc_Other_2020\"]) * data['Total_2020'],\n",
    "                            'Votes_Other_2020':  data['Other_2020'],\n",
    "                            'Votes_Total_2020': data['Total_2020'], \n",
    "                            'state': state_names,\n",
    "                            'county': county_names,\n",
    "                            'fips': fips_codes})\n",
    "    df_pred_state = df_pred.groupby('state').agg(Votes_Biden_2020=('Votes_Biden_2020', 'sum'), \n",
    "                                                 Votes_Trump_2020=('Votes_Trump_2020', 'sum'),\n",
    "                                                 Votes_Other_2020=('Votes_Other_2020', 'sum'),\n",
    "                                                 Votes_Total_2020=('Votes_Total_2020', 'sum'))\n",
    "    \n",
    "    \n",
    "    # Calcular porcentaje de cada candidato en el estado\n",
    "    df_pred_state[\"Perc_Biden_2020\"] = df_pred_state[\"Votes_Biden_2020\"] / df_pred_state[\"Votes_Total_2020\"] + 1/2*(df_pred_state[\"Votes_Other_2020\"] / df_pred_state[\"Votes_Total_2020\"]) # asumimos que el voto a \"otros\" se reparte por igual para biden y trump\n",
    "    df_pred_state[\"Perc_Trump_2020\"] = 1 - df_pred_state[\"Perc_Biden_2020\"]\n",
    "\n",
    "    # Acumular los resultados de cada simulación\n",
    "    if accumulated_pred_state.empty:\n",
    "        accumulated_pred_state = df_pred_state.copy()  # Primera iteración, simplemente copiamos los datos\n",
    "    else:\n",
    "        accumulated_pred_state['Votes_Biden_2020'] += df_pred_state['Votes_Biden_2020']\n",
    "        accumulated_pred_state['Votes_Trump_2020'] += df_pred_state['Votes_Trump_2020']\n",
    "        accumulated_pred_state['Votes_Total_2020'] += df_pred_state['Votes_Total_2020']\n",
    "        accumulated_pred_state['Perc_Biden_2020'] += df_pred_state['Perc_Biden_2020']\n",
    "        accumulated_pred_state['Perc_Trump_2020'] += df_pred_state['Perc_Trump_2020']\n",
    "\n",
    "    # Predicción y ganadores\n",
    "    df_pred_state['Winner_2020'] = np.where(df_pred_state['Perc_Biden_2020'] < df_pred_state['Perc_Trump_2020'], 'Trump', 'Biden')    \n",
    "\n",
    "    # Añadir votos electorales (escaños) a cada estado\n",
    "    full_df_pred_state = pd.merge(seats_data, df_pred_state, how='inner', on=[\"state\"])\n",
    "\n",
    "    # Agrupar por estado y sumar los votos\n",
    "    df_pred_winner = full_df_pred_state.groupby(\"Winner_2020\").agg({\n",
    "        \"electoral_votes_number\": \"sum\",  # Sumar los votos electorales de cada candidato\n",
    "    }).reset_index()\n",
    "\n",
    "    df_pred_winner.loc[df_pred_winner['Winner_2020'] == 'Trump', 'electoral_votes_number'] += 3 # Añadir 3 al número de votos electorales de Trump por Alaska\n",
    "\n",
    "    # Crear un nuevo DataFrame con los resultados de esta simulación\n",
    "    new_row = pd.DataFrame({\n",
    "        'Biden_Pred': [df_pred_winner.loc[df_pred_winner['Winner_2020'] == 'Biden', 'electoral_votes_number'].values[0]],\n",
    "        'Trump_Pred': [df_pred_winner.loc[df_pred_winner['Winner_2020'] == 'Trump', 'electoral_votes_number'].values[0]],\n",
    "        'Winner': ['Biden' if df_pred_winner.loc[df_pred_winner['Winner_2020'] == 'Biden', 'electoral_votes_number'].values[0] > df_pred_winner.loc[df_pred_winner['Winner_2020'] == 'Trump', 'electoral_votes_number'].values[0] else 'Trump']\n",
    "    })\n",
    "\n",
    "    # Usar concat para añadir la nueva fila\n",
    "    simulation_results = pd.concat([simulation_results, new_row], ignore_index=True)\n",
    "\n",
    "# Después de todas las simulaciones, calcular la media\n",
    "accumulated_pred_state['Votes_Biden_2020'] /= n_sim\n",
    "accumulated_pred_state['Votes_Trump_2020'] /= n_sim\n",
    "accumulated_pred_state['Votes_Total_2020'] /= n_sim\n",
    "accumulated_pred_state['Perc_Biden_2020'] /= n_sim\n",
    "accumulated_pred_state['Perc_Trump_2020'] /= n_sim\n"
   ]
  },
  {
   "cell_type": "markdown",
   "metadata": {},
   "source": [
    "## Results"
   ]
  },
  {
   "cell_type": "code",
   "execution_count": 183,
   "metadata": {},
   "outputs": [
    {
     "data": {
      "text/plain": [
       "Winner\n",
       "Biden    199\n",
       "Trump     51\n",
       "Name: count, dtype: int64"
      ]
     },
     "execution_count": 183,
     "metadata": {},
     "output_type": "execute_result"
    }
   ],
   "source": [
    "simulation_results['Winner'].value_counts()"
   ]
  },
  {
   "cell_type": "code",
   "execution_count": 184,
   "metadata": {},
   "outputs": [
    {
     "data": {
      "text/plain": [
       "Winner\n",
       "Biden    0.796\n",
       "Trump    0.204\n",
       "Name: proportion, dtype: float64"
      ]
     },
     "execution_count": 184,
     "metadata": {},
     "output_type": "execute_result"
    }
   ],
   "source": [
    "simulation_results['Winner'].value_counts(normalize=True)"
   ]
  },
  {
   "cell_type": "code",
   "execution_count": 156,
   "metadata": {},
   "outputs": [
    {
     "data": {
      "text/html": [
       "<div>\n",
       "<style scoped>\n",
       "    .dataframe tbody tr th:only-of-type {\n",
       "        vertical-align: middle;\n",
       "    }\n",
       "\n",
       "    .dataframe tbody tr th {\n",
       "        vertical-align: top;\n",
       "    }\n",
       "\n",
       "    .dataframe thead th {\n",
       "        text-align: right;\n",
       "    }\n",
       "</style>\n",
       "<table border=\"1\" class=\"dataframe\">\n",
       "  <thead>\n",
       "    <tr style=\"text-align: right;\">\n",
       "      <th></th>\n",
       "      <th>Biden_Pred</th>\n",
       "      <th>Trump_Pred</th>\n",
       "      <th>Biden</th>\n",
       "      <th>Trump</th>\n",
       "      <th>Winner</th>\n",
       "    </tr>\n",
       "  </thead>\n",
       "  <tbody>\n",
       "    <tr>\n",
       "      <th>0</th>\n",
       "      <td>260</td>\n",
       "      <td>278</td>\n",
       "      <td>306</td>\n",
       "      <td>232</td>\n",
       "      <td>Trump</td>\n",
       "    </tr>\n",
       "    <tr>\n",
       "      <th>1</th>\n",
       "      <td>280</td>\n",
       "      <td>258</td>\n",
       "      <td>306</td>\n",
       "      <td>232</td>\n",
       "      <td>Biden</td>\n",
       "    </tr>\n",
       "    <tr>\n",
       "      <th>2</th>\n",
       "      <td>296</td>\n",
       "      <td>242</td>\n",
       "      <td>306</td>\n",
       "      <td>232</td>\n",
       "      <td>Biden</td>\n",
       "    </tr>\n",
       "    <tr>\n",
       "      <th>3</th>\n",
       "      <td>296</td>\n",
       "      <td>242</td>\n",
       "      <td>306</td>\n",
       "      <td>232</td>\n",
       "      <td>Biden</td>\n",
       "    </tr>\n",
       "    <tr>\n",
       "      <th>4</th>\n",
       "      <td>325</td>\n",
       "      <td>213</td>\n",
       "      <td>306</td>\n",
       "      <td>232</td>\n",
       "      <td>Biden</td>\n",
       "    </tr>\n",
       "    <tr>\n",
       "      <th>...</th>\n",
       "      <td>...</td>\n",
       "      <td>...</td>\n",
       "      <td>...</td>\n",
       "      <td>...</td>\n",
       "      <td>...</td>\n",
       "    </tr>\n",
       "    <tr>\n",
       "      <th>245</th>\n",
       "      <td>286</td>\n",
       "      <td>252</td>\n",
       "      <td>306</td>\n",
       "      <td>232</td>\n",
       "      <td>Biden</td>\n",
       "    </tr>\n",
       "    <tr>\n",
       "      <th>246</th>\n",
       "      <td>280</td>\n",
       "      <td>258</td>\n",
       "      <td>306</td>\n",
       "      <td>232</td>\n",
       "      <td>Biden</td>\n",
       "    </tr>\n",
       "    <tr>\n",
       "      <th>247</th>\n",
       "      <td>296</td>\n",
       "      <td>242</td>\n",
       "      <td>306</td>\n",
       "      <td>232</td>\n",
       "      <td>Biden</td>\n",
       "    </tr>\n",
       "    <tr>\n",
       "      <th>248</th>\n",
       "      <td>266</td>\n",
       "      <td>272</td>\n",
       "      <td>306</td>\n",
       "      <td>232</td>\n",
       "      <td>Trump</td>\n",
       "    </tr>\n",
       "    <tr>\n",
       "      <th>249</th>\n",
       "      <td>276</td>\n",
       "      <td>262</td>\n",
       "      <td>306</td>\n",
       "      <td>232</td>\n",
       "      <td>Biden</td>\n",
       "    </tr>\n",
       "  </tbody>\n",
       "</table>\n",
       "<p>250 rows × 5 columns</p>\n",
       "</div>"
      ],
      "text/plain": [
       "    Biden_Pred Trump_Pred Biden Trump Winner\n",
       "0          260        278   306   232  Trump\n",
       "1          280        258   306   232  Biden\n",
       "2          296        242   306   232  Biden\n",
       "3          296        242   306   232  Biden\n",
       "4          325        213   306   232  Biden\n",
       "..         ...        ...   ...   ...    ...\n",
       "245        286        252   306   232  Biden\n",
       "246        280        258   306   232  Biden\n",
       "247        296        242   306   232  Biden\n",
       "248        266        272   306   232  Trump\n",
       "249        276        262   306   232  Biden\n",
       "\n",
       "[250 rows x 5 columns]"
      ]
     },
     "execution_count": 156,
     "metadata": {},
     "output_type": "execute_result"
    }
   ],
   "source": [
    "simulation_results"
   ]
  },
  {
   "cell_type": "code",
   "execution_count": 157,
   "metadata": {},
   "outputs": [
    {
     "data": {
      "text/html": [
       "<div>\n",
       "<style scoped>\n",
       "    .dataframe tbody tr th:only-of-type {\n",
       "        vertical-align: middle;\n",
       "    }\n",
       "\n",
       "    .dataframe tbody tr th {\n",
       "        vertical-align: top;\n",
       "    }\n",
       "\n",
       "    .dataframe thead th {\n",
       "        text-align: right;\n",
       "    }\n",
       "</style>\n",
       "<table border=\"1\" class=\"dataframe\">\n",
       "  <thead>\n",
       "    <tr style=\"text-align: right;\">\n",
       "      <th></th>\n",
       "      <th>Votes_Biden_2020</th>\n",
       "      <th>Votes_Trump_2020</th>\n",
       "      <th>Votes_Other_2020</th>\n",
       "      <th>Votes_Total_2020</th>\n",
       "      <th>Perc_Biden_2020</th>\n",
       "      <th>Perc_Trump_2020</th>\n",
       "      <th>Winner</th>\n",
       "      <th>state_code</th>\n",
       "      <th>Difference</th>\n",
       "      <th>Status</th>\n",
       "    </tr>\n",
       "    <tr>\n",
       "      <th>state</th>\n",
       "      <th></th>\n",
       "      <th></th>\n",
       "      <th></th>\n",
       "      <th></th>\n",
       "      <th></th>\n",
       "      <th></th>\n",
       "      <th></th>\n",
       "      <th></th>\n",
       "      <th></th>\n",
       "      <th></th>\n",
       "    </tr>\n",
       "  </thead>\n",
       "  <tbody>\n",
       "    <tr>\n",
       "      <th>Alabama</th>\n",
       "      <td>8.753587e+05</td>\n",
       "      <td>1.415457e+06</td>\n",
       "      <td>32488</td>\n",
       "      <td>2323304.0</td>\n",
       "      <td>0.383765</td>\n",
       "      <td>0.616235</td>\n",
       "      <td>Trump</td>\n",
       "      <td>AL</td>\n",
       "      <td>-23.247009</td>\n",
       "      <td>Safe Trump</td>\n",
       "    </tr>\n",
       "    <tr>\n",
       "      <th>Arizona</th>\n",
       "      <td>1.697886e+06</td>\n",
       "      <td>1.635943e+06</td>\n",
       "      <td>53497</td>\n",
       "      <td>3387326.0</td>\n",
       "      <td>0.509143</td>\n",
       "      <td>0.490857</td>\n",
       "      <td>Biden</td>\n",
       "      <td>AZ</td>\n",
       "      <td>1.828646</td>\n",
       "      <td>Toss-Up</td>\n",
       "    </tr>\n",
       "    <tr>\n",
       "      <th>Arkansas</th>\n",
       "      <td>4.307594e+05</td>\n",
       "      <td>7.538196e+05</td>\n",
       "      <td>34490</td>\n",
       "      <td>1219069.0</td>\n",
       "      <td>0.367497</td>\n",
       "      <td>0.632503</td>\n",
       "      <td>Trump</td>\n",
       "      <td>AR</td>\n",
       "      <td>-26.500562</td>\n",
       "      <td>Safe Trump</td>\n",
       "    </tr>\n",
       "    <tr>\n",
       "      <th>California</th>\n",
       "      <td>1.115025e+07</td>\n",
       "      <td>5.965477e+06</td>\n",
       "      <td>380181</td>\n",
       "      <td>17495906.0</td>\n",
       "      <td>0.648171</td>\n",
       "      <td>0.351829</td>\n",
       "      <td>Biden</td>\n",
       "      <td>CA</td>\n",
       "      <td>29.634192</td>\n",
       "      <td>Safe Biden</td>\n",
       "    </tr>\n",
       "    <tr>\n",
       "      <th>Colorado</th>\n",
       "      <td>1.781831e+06</td>\n",
       "      <td>1.387128e+06</td>\n",
       "      <td>87994</td>\n",
       "      <td>3256953.0</td>\n",
       "      <td>0.560594</td>\n",
       "      <td>0.439406</td>\n",
       "      <td>Biden</td>\n",
       "      <td>CO</td>\n",
       "      <td>12.118796</td>\n",
       "      <td>Safe Biden</td>\n",
       "    </tr>\n",
       "    <tr>\n",
       "      <th>Connecticut</th>\n",
       "      <td>1.074496e+06</td>\n",
       "      <td>7.214746e+05</td>\n",
       "      <td>28309</td>\n",
       "      <td>1824280.0</td>\n",
       "      <td>0.596756</td>\n",
       "      <td>0.403244</td>\n",
       "      <td>Biden</td>\n",
       "      <td>CT</td>\n",
       "      <td>19.351291</td>\n",
       "      <td>Safe Biden</td>\n",
       "    </tr>\n",
       "    <tr>\n",
       "      <th>Delaware</th>\n",
       "      <td>2.893732e+05</td>\n",
       "      <td>2.074978e+05</td>\n",
       "      <td>7139</td>\n",
       "      <td>504010.0</td>\n",
       "      <td>0.581224</td>\n",
       "      <td>0.418776</td>\n",
       "      <td>Biden</td>\n",
       "      <td>DE</td>\n",
       "      <td>16.244778</td>\n",
       "      <td>Safe Biden</td>\n",
       "    </tr>\n",
       "    <tr>\n",
       "      <th>District of Columbia</th>\n",
       "      <td>3.073673e+05</td>\n",
       "      <td>2.854166e+04</td>\n",
       "      <td>8447</td>\n",
       "      <td>344356.0</td>\n",
       "      <td>0.904851</td>\n",
       "      <td>0.095149</td>\n",
       "      <td>Biden</td>\n",
       "      <td>DC</td>\n",
       "      <td>80.970184</td>\n",
       "      <td>Safe Biden</td>\n",
       "    </tr>\n",
       "    <tr>\n",
       "      <th>Florida</th>\n",
       "      <td>5.378571e+06</td>\n",
       "      <td>5.587205e+06</td>\n",
       "      <td>101680</td>\n",
       "      <td>11067456.0</td>\n",
       "      <td>0.490574</td>\n",
       "      <td>0.509426</td>\n",
       "      <td>Trump</td>\n",
       "      <td>FL</td>\n",
       "      <td>-1.885117</td>\n",
       "      <td>Toss-Up</td>\n",
       "    </tr>\n",
       "    <tr>\n",
       "      <th>Georgia</th>\n",
       "      <td>2.467158e+06</td>\n",
       "      <td>2.468329e+06</td>\n",
       "      <td>62229</td>\n",
       "      <td>4997716.0</td>\n",
       "      <td>0.499883</td>\n",
       "      <td>0.500117</td>\n",
       "      <td>Trump</td>\n",
       "      <td>GA</td>\n",
       "      <td>-0.023437</td>\n",
       "      <td>Toss-Up</td>\n",
       "    </tr>\n",
       "    <tr>\n",
       "      <th>Hawaii</th>\n",
       "      <td>3.650500e+05</td>\n",
       "      <td>1.979440e+05</td>\n",
       "      <td>11475</td>\n",
       "      <td>574469.0</td>\n",
       "      <td>0.645444</td>\n",
       "      <td>0.354556</td>\n",
       "      <td>Biden</td>\n",
       "      <td>HI</td>\n",
       "      <td>29.088789</td>\n",
       "      <td>Safe Biden</td>\n",
       "    </tr>\n",
       "    <tr>\n",
       "      <th>Idaho</th>\n",
       "      <td>2.895010e+05</td>\n",
       "      <td>5.516380e+05</td>\n",
       "      <td>26966</td>\n",
       "      <td>868105.0</td>\n",
       "      <td>0.349018</td>\n",
       "      <td>0.650982</td>\n",
       "      <td>Trump</td>\n",
       "      <td>ID</td>\n",
       "      <td>-30.196451</td>\n",
       "      <td>Safe Trump</td>\n",
       "    </tr>\n",
       "    <tr>\n",
       "      <th>Illinois</th>\n",
       "      <td>3.441304e+06</td>\n",
       "      <td>2.477502e+06</td>\n",
       "      <td>120044</td>\n",
       "      <td>6038850.0</td>\n",
       "      <td>0.579800</td>\n",
       "      <td>0.420200</td>\n",
       "      <td>Biden</td>\n",
       "      <td>IL</td>\n",
       "      <td>15.960020</td>\n",
       "      <td>Safe Biden</td>\n",
       "    </tr>\n",
       "    <tr>\n",
       "      <th>Indiana</th>\n",
       "      <td>1.234605e+06</td>\n",
       "      <td>1.737742e+06</td>\n",
       "      <td>60851</td>\n",
       "      <td>3033198.0</td>\n",
       "      <td>0.417061</td>\n",
       "      <td>0.582939</td>\n",
       "      <td>Trump</td>\n",
       "      <td>IN</td>\n",
       "      <td>-16.587707</td>\n",
       "      <td>Safe Trump</td>\n",
       "    </tr>\n",
       "    <tr>\n",
       "      <th>Iowa</th>\n",
       "      <td>7.383142e+05</td>\n",
       "      <td>9.184188e+05</td>\n",
       "      <td>34138</td>\n",
       "      <td>1690871.0</td>\n",
       "      <td>0.446742</td>\n",
       "      <td>0.553258</td>\n",
       "      <td>Trump</td>\n",
       "      <td>IA</td>\n",
       "      <td>-10.651585</td>\n",
       "      <td>Safe Trump</td>\n",
       "    </tr>\n",
       "    <tr>\n",
       "      <th>Kansas</th>\n",
       "      <td>5.579610e+05</td>\n",
       "      <td>7.588080e+05</td>\n",
       "      <td>32798</td>\n",
       "      <td>1349567.0</td>\n",
       "      <td>0.425588</td>\n",
       "      <td>0.574412</td>\n",
       "      <td>Trump</td>\n",
       "      <td>KS</td>\n",
       "      <td>-14.882335</td>\n",
       "      <td>Safe Trump</td>\n",
       "    </tr>\n",
       "    <tr>\n",
       "      <th>Kentucky</th>\n",
       "      <td>7.756912e+05</td>\n",
       "      <td>1.323429e+06</td>\n",
       "      <td>37648</td>\n",
       "      <td>2136768.0</td>\n",
       "      <td>0.371830</td>\n",
       "      <td>0.628170</td>\n",
       "      <td>Trump</td>\n",
       "      <td>KY</td>\n",
       "      <td>-25.633932</td>\n",
       "      <td>Safe Trump</td>\n",
       "    </tr>\n",
       "    <tr>\n",
       "      <th>Louisiana</th>\n",
       "      <td>8.786969e+05</td>\n",
       "      <td>1.233113e+06</td>\n",
       "      <td>36252</td>\n",
       "      <td>2148062.0</td>\n",
       "      <td>0.417503</td>\n",
       "      <td>0.582497</td>\n",
       "      <td>Trump</td>\n",
       "      <td>LA</td>\n",
       "      <td>-16.499346</td>\n",
       "      <td>Safe Trump</td>\n",
       "    </tr>\n",
       "    <tr>\n",
       "      <th>Maine</th>\n",
       "      <td>4.114038e+05</td>\n",
       "      <td>3.789682e+05</td>\n",
       "      <td>23368</td>\n",
       "      <td>813740.0</td>\n",
       "      <td>0.519930</td>\n",
       "      <td>0.480070</td>\n",
       "      <td>Biden</td>\n",
       "      <td>ME</td>\n",
       "      <td>3.985997</td>\n",
       "      <td>Likely Biden</td>\n",
       "    </tr>\n",
       "    <tr>\n",
       "      <th>Maryland</th>\n",
       "      <td>1.950089e+06</td>\n",
       "      <td>1.011348e+06</td>\n",
       "      <td>75593</td>\n",
       "      <td>3037030.0</td>\n",
       "      <td>0.654549</td>\n",
       "      <td>0.345451</td>\n",
       "      <td>Biden</td>\n",
       "      <td>MD</td>\n",
       "      <td>30.909814</td>\n",
       "      <td>Safe Biden</td>\n",
       "    </tr>\n",
       "    <tr>\n",
       "      <th>Massachusetts</th>\n",
       "      <td>2.348563e+06</td>\n",
       "      <td>1.200841e+06</td>\n",
       "      <td>81998</td>\n",
       "      <td>3631402.0</td>\n",
       "      <td>0.658027</td>\n",
       "      <td>0.341973</td>\n",
       "      <td>Biden</td>\n",
       "      <td>MA</td>\n",
       "      <td>31.605469</td>\n",
       "      <td>Safe Biden</td>\n",
       "    </tr>\n",
       "    <tr>\n",
       "      <th>Michigan</th>\n",
       "      <td>2.776484e+06</td>\n",
       "      <td>2.677408e+06</td>\n",
       "      <td>85410</td>\n",
       "      <td>5539302.0</td>\n",
       "      <td>0.508943</td>\n",
       "      <td>0.491057</td>\n",
       "      <td>Biden</td>\n",
       "      <td>MI</td>\n",
       "      <td>1.788600</td>\n",
       "      <td>Toss-Up</td>\n",
       "    </tr>\n",
       "    <tr>\n",
       "      <th>Minnesota</th>\n",
       "      <td>1.683757e+06</td>\n",
       "      <td>1.517385e+06</td>\n",
       "      <td>76029</td>\n",
       "      <td>3277171.0</td>\n",
       "      <td>0.525383</td>\n",
       "      <td>0.474617</td>\n",
       "      <td>Biden</td>\n",
       "      <td>MN</td>\n",
       "      <td>5.076700</td>\n",
       "      <td>Likely Biden</td>\n",
       "    </tr>\n",
       "    <tr>\n",
       "      <th>Mississippi</th>\n",
       "      <td>5.406784e+05</td>\n",
       "      <td>7.554836e+05</td>\n",
       "      <td>19016</td>\n",
       "      <td>1315178.0</td>\n",
       "      <td>0.418336</td>\n",
       "      <td>0.581664</td>\n",
       "      <td>Trump</td>\n",
       "      <td>MS</td>\n",
       "      <td>-16.332778</td>\n",
       "      <td>Safe Trump</td>\n",
       "    </tr>\n",
       "    <tr>\n",
       "      <th>Missouri</th>\n",
       "      <td>1.246131e+06</td>\n",
       "      <td>1.725619e+06</td>\n",
       "      <td>54212</td>\n",
       "      <td>3025962.0</td>\n",
       "      <td>0.420771</td>\n",
       "      <td>0.579229</td>\n",
       "      <td>Trump</td>\n",
       "      <td>MO</td>\n",
       "      <td>-15.845821</td>\n",
       "      <td>Safe Trump</td>\n",
       "    </tr>\n",
       "    <tr>\n",
       "      <th>Montana</th>\n",
       "      <td>2.418247e+05</td>\n",
       "      <td>3.465633e+05</td>\n",
       "      <td>17362</td>\n",
       "      <td>605750.0</td>\n",
       "      <td>0.413546</td>\n",
       "      <td>0.586454</td>\n",
       "      <td>Trump</td>\n",
       "      <td>MT</td>\n",
       "      <td>-17.290722</td>\n",
       "      <td>Safe Trump</td>\n",
       "    </tr>\n",
       "    <tr>\n",
       "      <th>Nebraska</th>\n",
       "      <td>3.756808e+05</td>\n",
       "      <td>5.557482e+05</td>\n",
       "      <td>24950</td>\n",
       "      <td>956379.0</td>\n",
       "      <td>0.405860</td>\n",
       "      <td>0.594140</td>\n",
       "      <td>Trump</td>\n",
       "      <td>NE</td>\n",
       "      <td>-18.828032</td>\n",
       "      <td>Safe Trump</td>\n",
       "    </tr>\n",
       "    <tr>\n",
       "      <th>Nevada</th>\n",
       "      <td>7.113043e+05</td>\n",
       "      <td>6.620717e+05</td>\n",
       "      <td>32000</td>\n",
       "      <td>1405376.0</td>\n",
       "      <td>0.517516</td>\n",
       "      <td>0.482484</td>\n",
       "      <td>Biden</td>\n",
       "      <td>NV</td>\n",
       "      <td>3.503164</td>\n",
       "      <td>Likely Biden</td>\n",
       "    </tr>\n",
       "    <tr>\n",
       "      <th>New Hampshire</th>\n",
       "      <td>4.160166e+05</td>\n",
       "      <td>3.745584e+05</td>\n",
       "      <td>13855</td>\n",
       "      <td>804430.0</td>\n",
       "      <td>0.525769</td>\n",
       "      <td>0.474231</td>\n",
       "      <td>Biden</td>\n",
       "      <td>NH</td>\n",
       "      <td>5.153745</td>\n",
       "      <td>Likely Biden</td>\n",
       "    </tr>\n",
       "    <tr>\n",
       "      <th>New Jersey</th>\n",
       "      <td>2.621012e+06</td>\n",
       "      <td>1.870597e+06</td>\n",
       "      <td>72625</td>\n",
       "      <td>4564234.0</td>\n",
       "      <td>0.582206</td>\n",
       "      <td>0.417794</td>\n",
       "      <td>Biden</td>\n",
       "      <td>NJ</td>\n",
       "      <td>16.441207</td>\n",
       "      <td>Safe Biden</td>\n",
       "    </tr>\n",
       "    <tr>\n",
       "      <th>New Mexico</th>\n",
       "      <td>4.476016e+05</td>\n",
       "      <td>3.751474e+05</td>\n",
       "      <td>18575</td>\n",
       "      <td>841324.0</td>\n",
       "      <td>0.543060</td>\n",
       "      <td>0.456940</td>\n",
       "      <td>Biden</td>\n",
       "      <td>NM</td>\n",
       "      <td>8.611935</td>\n",
       "      <td>Likely Biden</td>\n",
       "    </tr>\n",
       "    <tr>\n",
       "      <th>New York</th>\n",
       "      <td>5.213050e+06</td>\n",
       "      <td>3.281186e+06</td>\n",
       "      <td>121969</td>\n",
       "      <td>8616205.0</td>\n",
       "      <td>0.612106</td>\n",
       "      <td>0.387894</td>\n",
       "      <td>Biden</td>\n",
       "      <td>NY</td>\n",
       "      <td>22.421293</td>\n",
       "      <td>Safe Biden</td>\n",
       "    </tr>\n",
       "    <tr>\n",
       "      <th>North Carolina</th>\n",
       "      <td>2.664052e+06</td>\n",
       "      <td>2.779013e+06</td>\n",
       "      <td>81736</td>\n",
       "      <td>5524801.0</td>\n",
       "      <td>0.489596</td>\n",
       "      <td>0.510404</td>\n",
       "      <td>Trump</td>\n",
       "      <td>NC</td>\n",
       "      <td>-2.080800</td>\n",
       "      <td>Toss-Up</td>\n",
       "    </tr>\n",
       "    <tr>\n",
       "      <th>North Dakota</th>\n",
       "      <td>1.187412e+05</td>\n",
       "      <td>2.317558e+05</td>\n",
       "      <td>11322</td>\n",
       "      <td>361819.0</td>\n",
       "      <td>0.343824</td>\n",
       "      <td>0.656176</td>\n",
       "      <td>Trump</td>\n",
       "      <td>ND</td>\n",
       "      <td>-31.235133</td>\n",
       "      <td>Safe Trump</td>\n",
       "    </tr>\n",
       "    <tr>\n",
       "      <th>Ohio</th>\n",
       "      <td>2.667213e+06</td>\n",
       "      <td>3.166786e+06</td>\n",
       "      <td>88203</td>\n",
       "      <td>5922202.0</td>\n",
       "      <td>0.457822</td>\n",
       "      <td>0.542178</td>\n",
       "      <td>Trump</td>\n",
       "      <td>OH</td>\n",
       "      <td>-8.435592</td>\n",
       "      <td>Likely Trump</td>\n",
       "    </tr>\n",
       "    <tr>\n",
       "      <th>Oklahoma</th>\n",
       "      <td>5.271293e+05</td>\n",
       "      <td>9.970407e+05</td>\n",
       "      <td>36529</td>\n",
       "      <td>1560699.0</td>\n",
       "      <td>0.349455</td>\n",
       "      <td>0.650545</td>\n",
       "      <td>Trump</td>\n",
       "      <td>OK</td>\n",
       "      <td>-30.109030</td>\n",
       "      <td>Safe Trump</td>\n",
       "    </tr>\n",
       "    <tr>\n",
       "      <th>Oregon</th>\n",
       "      <td>1.302987e+06</td>\n",
       "      <td>9.958442e+05</td>\n",
       "      <td>75490</td>\n",
       "      <td>2374321.0</td>\n",
       "      <td>0.564680</td>\n",
       "      <td>0.435320</td>\n",
       "      <td>Biden</td>\n",
       "      <td>OR</td>\n",
       "      <td>12.936017</td>\n",
       "      <td>Safe Biden</td>\n",
       "    </tr>\n",
       "    <tr>\n",
       "      <th>Pennsylvania</th>\n",
       "      <td>3.437498e+06</td>\n",
       "      <td>3.400688e+06</td>\n",
       "      <td>87069</td>\n",
       "      <td>6925255.0</td>\n",
       "      <td>0.502658</td>\n",
       "      <td>0.497342</td>\n",
       "      <td>Biden</td>\n",
       "      <td>PA</td>\n",
       "      <td>0.531538</td>\n",
       "      <td>Toss-Up</td>\n",
       "    </tr>\n",
       "    <tr>\n",
       "      <th>Rhode Island</th>\n",
       "      <td>3.000189e+05</td>\n",
       "      <td>2.060281e+05</td>\n",
       "      <td>10336</td>\n",
       "      <td>516383.0</td>\n",
       "      <td>0.591009</td>\n",
       "      <td>0.408991</td>\n",
       "      <td>Biden</td>\n",
       "      <td>RI</td>\n",
       "      <td>18.201773</td>\n",
       "      <td>Safe Biden</td>\n",
       "    </tr>\n",
       "    <tr>\n",
       "      <th>South Carolina</th>\n",
       "      <td>1.098534e+06</td>\n",
       "      <td>1.378110e+06</td>\n",
       "      <td>36685</td>\n",
       "      <td>2513329.0</td>\n",
       "      <td>0.444381</td>\n",
       "      <td>0.555619</td>\n",
       "      <td>Trump</td>\n",
       "      <td>SC</td>\n",
       "      <td>-11.123734</td>\n",
       "      <td>Safe Trump</td>\n",
       "    </tr>\n",
       "    <tr>\n",
       "      <th>South Dakota</th>\n",
       "      <td>1.503459e+05</td>\n",
       "      <td>2.611681e+05</td>\n",
       "      <td>11095</td>\n",
       "      <td>422609.0</td>\n",
       "      <td>0.368883</td>\n",
       "      <td>0.631117</td>\n",
       "      <td>Trump</td>\n",
       "      <td>SD</td>\n",
       "      <td>-26.223353</td>\n",
       "      <td>Safe Trump</td>\n",
       "    </tr>\n",
       "    <tr>\n",
       "      <th>Tennessee</th>\n",
       "      <td>1.164394e+06</td>\n",
       "      <td>1.831792e+06</td>\n",
       "      <td>57665</td>\n",
       "      <td>3053851.0</td>\n",
       "      <td>0.390729</td>\n",
       "      <td>0.609271</td>\n",
       "      <td>Trump</td>\n",
       "      <td>TN</td>\n",
       "      <td>-21.854291</td>\n",
       "      <td>Safe Trump</td>\n",
       "    </tr>\n",
       "    <tr>\n",
       "      <th>Texas</th>\n",
       "      <td>5.336578e+06</td>\n",
       "      <td>5.812895e+06</td>\n",
       "      <td>168438</td>\n",
       "      <td>11317911.0</td>\n",
       "      <td>0.478957</td>\n",
       "      <td>0.521043</td>\n",
       "      <td>Trump</td>\n",
       "      <td>TX</td>\n",
       "      <td>-4.208523</td>\n",
       "      <td>Likely Trump</td>\n",
       "    </tr>\n",
       "    <tr>\n",
       "      <th>Utah</th>\n",
       "      <td>5.783163e+05</td>\n",
       "      <td>8.471057e+05</td>\n",
       "      <td>62867</td>\n",
       "      <td>1488289.0</td>\n",
       "      <td>0.409699</td>\n",
       "      <td>0.590301</td>\n",
       "      <td>Trump</td>\n",
       "      <td>UT</td>\n",
       "      <td>-18.060295</td>\n",
       "      <td>Safe Trump</td>\n",
       "    </tr>\n",
       "    <tr>\n",
       "      <th>Vermont</th>\n",
       "      <td>2.293870e+05</td>\n",
       "      <td>1.261370e+05</td>\n",
       "      <td>11904</td>\n",
       "      <td>367428.0</td>\n",
       "      <td>0.640504</td>\n",
       "      <td>0.359496</td>\n",
       "      <td>Biden</td>\n",
       "      <td>VT</td>\n",
       "      <td>28.100719</td>\n",
       "      <td>Safe Biden</td>\n",
       "    </tr>\n",
       "    <tr>\n",
       "      <th>Virginia</th>\n",
       "      <td>2.378784e+06</td>\n",
       "      <td>1.997214e+06</td>\n",
       "      <td>84526</td>\n",
       "      <td>4460524.0</td>\n",
       "      <td>0.542772</td>\n",
       "      <td>0.457228</td>\n",
       "      <td>Biden</td>\n",
       "      <td>VA</td>\n",
       "      <td>8.554382</td>\n",
       "      <td>Likely Biden</td>\n",
       "    </tr>\n",
       "    <tr>\n",
       "      <th>Washington</th>\n",
       "      <td>2.336865e+06</td>\n",
       "      <td>1.617398e+06</td>\n",
       "      <td>133368</td>\n",
       "      <td>4087631.0</td>\n",
       "      <td>0.588005</td>\n",
       "      <td>0.411995</td>\n",
       "      <td>Biden</td>\n",
       "      <td>WA</td>\n",
       "      <td>17.601060</td>\n",
       "      <td>Safe Biden</td>\n",
       "    </tr>\n",
       "    <tr>\n",
       "      <th>West Virginia</th>\n",
       "      <td>2.388545e+05</td>\n",
       "      <td>5.425115e+05</td>\n",
       "      <td>13286</td>\n",
       "      <td>794652.0</td>\n",
       "      <td>0.308937</td>\n",
       "      <td>0.691063</td>\n",
       "      <td>Trump</td>\n",
       "      <td>WV</td>\n",
       "      <td>-38.212582</td>\n",
       "      <td>Safe Trump</td>\n",
       "    </tr>\n",
       "    <tr>\n",
       "      <th>Wisconsin</th>\n",
       "      <td>1.588078e+06</td>\n",
       "      <td>1.652660e+06</td>\n",
       "      <td>56614</td>\n",
       "      <td>3297352.0</td>\n",
       "      <td>0.490207</td>\n",
       "      <td>0.509793</td>\n",
       "      <td>Trump</td>\n",
       "      <td>WI</td>\n",
       "      <td>-1.958580</td>\n",
       "      <td>Toss-Up</td>\n",
       "    </tr>\n",
       "    <tr>\n",
       "      <th>Wyoming</th>\n",
       "      <td>7.788422e+04</td>\n",
       "      <td>1.891658e+05</td>\n",
       "      <td>9715</td>\n",
       "      <td>276765.0</td>\n",
       "      <td>0.298960</td>\n",
       "      <td>0.701040</td>\n",
       "      <td>Trump</td>\n",
       "      <td>WY</td>\n",
       "      <td>-40.207960</td>\n",
       "      <td>Safe Trump</td>\n",
       "    </tr>\n",
       "  </tbody>\n",
       "</table>\n",
       "</div>"
      ],
      "text/plain": [
       "                      Votes_Biden_2020  Votes_Trump_2020  Votes_Other_2020  \\\n",
       "state                                                                        \n",
       "Alabama                   8.753587e+05      1.415457e+06             32488   \n",
       "Arizona                   1.697886e+06      1.635943e+06             53497   \n",
       "Arkansas                  4.307594e+05      7.538196e+05             34490   \n",
       "California                1.115025e+07      5.965477e+06            380181   \n",
       "Colorado                  1.781831e+06      1.387128e+06             87994   \n",
       "Connecticut               1.074496e+06      7.214746e+05             28309   \n",
       "Delaware                  2.893732e+05      2.074978e+05              7139   \n",
       "District of Columbia      3.073673e+05      2.854166e+04              8447   \n",
       "Florida                   5.378571e+06      5.587205e+06            101680   \n",
       "Georgia                   2.467158e+06      2.468329e+06             62229   \n",
       "Hawaii                    3.650500e+05      1.979440e+05             11475   \n",
       "Idaho                     2.895010e+05      5.516380e+05             26966   \n",
       "Illinois                  3.441304e+06      2.477502e+06            120044   \n",
       "Indiana                   1.234605e+06      1.737742e+06             60851   \n",
       "Iowa                      7.383142e+05      9.184188e+05             34138   \n",
       "Kansas                    5.579610e+05      7.588080e+05             32798   \n",
       "Kentucky                  7.756912e+05      1.323429e+06             37648   \n",
       "Louisiana                 8.786969e+05      1.233113e+06             36252   \n",
       "Maine                     4.114038e+05      3.789682e+05             23368   \n",
       "Maryland                  1.950089e+06      1.011348e+06             75593   \n",
       "Massachusetts             2.348563e+06      1.200841e+06             81998   \n",
       "Michigan                  2.776484e+06      2.677408e+06             85410   \n",
       "Minnesota                 1.683757e+06      1.517385e+06             76029   \n",
       "Mississippi               5.406784e+05      7.554836e+05             19016   \n",
       "Missouri                  1.246131e+06      1.725619e+06             54212   \n",
       "Montana                   2.418247e+05      3.465633e+05             17362   \n",
       "Nebraska                  3.756808e+05      5.557482e+05             24950   \n",
       "Nevada                    7.113043e+05      6.620717e+05             32000   \n",
       "New Hampshire             4.160166e+05      3.745584e+05             13855   \n",
       "New Jersey                2.621012e+06      1.870597e+06             72625   \n",
       "New Mexico                4.476016e+05      3.751474e+05             18575   \n",
       "New York                  5.213050e+06      3.281186e+06            121969   \n",
       "North Carolina            2.664052e+06      2.779013e+06             81736   \n",
       "North Dakota              1.187412e+05      2.317558e+05             11322   \n",
       "Ohio                      2.667213e+06      3.166786e+06             88203   \n",
       "Oklahoma                  5.271293e+05      9.970407e+05             36529   \n",
       "Oregon                    1.302987e+06      9.958442e+05             75490   \n",
       "Pennsylvania              3.437498e+06      3.400688e+06             87069   \n",
       "Rhode Island              3.000189e+05      2.060281e+05             10336   \n",
       "South Carolina            1.098534e+06      1.378110e+06             36685   \n",
       "South Dakota              1.503459e+05      2.611681e+05             11095   \n",
       "Tennessee                 1.164394e+06      1.831792e+06             57665   \n",
       "Texas                     5.336578e+06      5.812895e+06            168438   \n",
       "Utah                      5.783163e+05      8.471057e+05             62867   \n",
       "Vermont                   2.293870e+05      1.261370e+05             11904   \n",
       "Virginia                  2.378784e+06      1.997214e+06             84526   \n",
       "Washington                2.336865e+06      1.617398e+06            133368   \n",
       "West Virginia             2.388545e+05      5.425115e+05             13286   \n",
       "Wisconsin                 1.588078e+06      1.652660e+06             56614   \n",
       "Wyoming                   7.788422e+04      1.891658e+05              9715   \n",
       "\n",
       "                      Votes_Total_2020  Perc_Biden_2020  Perc_Trump_2020  \\\n",
       "state                                                                      \n",
       "Alabama                      2323304.0         0.383765         0.616235   \n",
       "Arizona                      3387326.0         0.509143         0.490857   \n",
       "Arkansas                     1219069.0         0.367497         0.632503   \n",
       "California                  17495906.0         0.648171         0.351829   \n",
       "Colorado                     3256953.0         0.560594         0.439406   \n",
       "Connecticut                  1824280.0         0.596756         0.403244   \n",
       "Delaware                      504010.0         0.581224         0.418776   \n",
       "District of Columbia          344356.0         0.904851         0.095149   \n",
       "Florida                     11067456.0         0.490574         0.509426   \n",
       "Georgia                      4997716.0         0.499883         0.500117   \n",
       "Hawaii                        574469.0         0.645444         0.354556   \n",
       "Idaho                         868105.0         0.349018         0.650982   \n",
       "Illinois                     6038850.0         0.579800         0.420200   \n",
       "Indiana                      3033198.0         0.417061         0.582939   \n",
       "Iowa                         1690871.0         0.446742         0.553258   \n",
       "Kansas                       1349567.0         0.425588         0.574412   \n",
       "Kentucky                     2136768.0         0.371830         0.628170   \n",
       "Louisiana                    2148062.0         0.417503         0.582497   \n",
       "Maine                         813740.0         0.519930         0.480070   \n",
       "Maryland                     3037030.0         0.654549         0.345451   \n",
       "Massachusetts                3631402.0         0.658027         0.341973   \n",
       "Michigan                     5539302.0         0.508943         0.491057   \n",
       "Minnesota                    3277171.0         0.525383         0.474617   \n",
       "Mississippi                  1315178.0         0.418336         0.581664   \n",
       "Missouri                     3025962.0         0.420771         0.579229   \n",
       "Montana                       605750.0         0.413546         0.586454   \n",
       "Nebraska                      956379.0         0.405860         0.594140   \n",
       "Nevada                       1405376.0         0.517516         0.482484   \n",
       "New Hampshire                 804430.0         0.525769         0.474231   \n",
       "New Jersey                   4564234.0         0.582206         0.417794   \n",
       "New Mexico                    841324.0         0.543060         0.456940   \n",
       "New York                     8616205.0         0.612106         0.387894   \n",
       "North Carolina               5524801.0         0.489596         0.510404   \n",
       "North Dakota                  361819.0         0.343824         0.656176   \n",
       "Ohio                         5922202.0         0.457822         0.542178   \n",
       "Oklahoma                     1560699.0         0.349455         0.650545   \n",
       "Oregon                       2374321.0         0.564680         0.435320   \n",
       "Pennsylvania                 6925255.0         0.502658         0.497342   \n",
       "Rhode Island                  516383.0         0.591009         0.408991   \n",
       "South Carolina               2513329.0         0.444381         0.555619   \n",
       "South Dakota                  422609.0         0.368883         0.631117   \n",
       "Tennessee                    3053851.0         0.390729         0.609271   \n",
       "Texas                       11317911.0         0.478957         0.521043   \n",
       "Utah                         1488289.0         0.409699         0.590301   \n",
       "Vermont                       367428.0         0.640504         0.359496   \n",
       "Virginia                     4460524.0         0.542772         0.457228   \n",
       "Washington                   4087631.0         0.588005         0.411995   \n",
       "West Virginia                 794652.0         0.308937         0.691063   \n",
       "Wisconsin                    3297352.0         0.490207         0.509793   \n",
       "Wyoming                       276765.0         0.298960         0.701040   \n",
       "\n",
       "                     Winner state_code  Difference        Status  \n",
       "state                                                             \n",
       "Alabama               Trump         AL  -23.247009    Safe Trump  \n",
       "Arizona               Biden         AZ    1.828646       Toss-Up  \n",
       "Arkansas              Trump         AR  -26.500562    Safe Trump  \n",
       "California            Biden         CA   29.634192    Safe Biden  \n",
       "Colorado              Biden         CO   12.118796    Safe Biden  \n",
       "Connecticut           Biden         CT   19.351291    Safe Biden  \n",
       "Delaware              Biden         DE   16.244778    Safe Biden  \n",
       "District of Columbia  Biden         DC   80.970184    Safe Biden  \n",
       "Florida               Trump         FL   -1.885117       Toss-Up  \n",
       "Georgia               Trump         GA   -0.023437       Toss-Up  \n",
       "Hawaii                Biden         HI   29.088789    Safe Biden  \n",
       "Idaho                 Trump         ID  -30.196451    Safe Trump  \n",
       "Illinois              Biden         IL   15.960020    Safe Biden  \n",
       "Indiana               Trump         IN  -16.587707    Safe Trump  \n",
       "Iowa                  Trump         IA  -10.651585    Safe Trump  \n",
       "Kansas                Trump         KS  -14.882335    Safe Trump  \n",
       "Kentucky              Trump         KY  -25.633932    Safe Trump  \n",
       "Louisiana             Trump         LA  -16.499346    Safe Trump  \n",
       "Maine                 Biden         ME    3.985997  Likely Biden  \n",
       "Maryland              Biden         MD   30.909814    Safe Biden  \n",
       "Massachusetts         Biden         MA   31.605469    Safe Biden  \n",
       "Michigan              Biden         MI    1.788600       Toss-Up  \n",
       "Minnesota             Biden         MN    5.076700  Likely Biden  \n",
       "Mississippi           Trump         MS  -16.332778    Safe Trump  \n",
       "Missouri              Trump         MO  -15.845821    Safe Trump  \n",
       "Montana               Trump         MT  -17.290722    Safe Trump  \n",
       "Nebraska              Trump         NE  -18.828032    Safe Trump  \n",
       "Nevada                Biden         NV    3.503164  Likely Biden  \n",
       "New Hampshire         Biden         NH    5.153745  Likely Biden  \n",
       "New Jersey            Biden         NJ   16.441207    Safe Biden  \n",
       "New Mexico            Biden         NM    8.611935  Likely Biden  \n",
       "New York              Biden         NY   22.421293    Safe Biden  \n",
       "North Carolina        Trump         NC   -2.080800       Toss-Up  \n",
       "North Dakota          Trump         ND  -31.235133    Safe Trump  \n",
       "Ohio                  Trump         OH   -8.435592  Likely Trump  \n",
       "Oklahoma              Trump         OK  -30.109030    Safe Trump  \n",
       "Oregon                Biden         OR   12.936017    Safe Biden  \n",
       "Pennsylvania          Biden         PA    0.531538       Toss-Up  \n",
       "Rhode Island          Biden         RI   18.201773    Safe Biden  \n",
       "South Carolina        Trump         SC  -11.123734    Safe Trump  \n",
       "South Dakota          Trump         SD  -26.223353    Safe Trump  \n",
       "Tennessee             Trump         TN  -21.854291    Safe Trump  \n",
       "Texas                 Trump         TX   -4.208523  Likely Trump  \n",
       "Utah                  Trump         UT  -18.060295    Safe Trump  \n",
       "Vermont               Biden         VT   28.100719    Safe Biden  \n",
       "Virginia              Biden         VA    8.554382  Likely Biden  \n",
       "Washington            Biden         WA   17.601060    Safe Biden  \n",
       "West Virginia         Trump         WV  -38.212582    Safe Trump  \n",
       "Wisconsin             Trump         WI   -1.958580       Toss-Up  \n",
       "Wyoming               Trump         WY  -40.207960    Safe Trump  "
      ]
     },
     "execution_count": 157,
     "metadata": {},
     "output_type": "execute_result"
    }
   ],
   "source": [
    "# Añadir la columna \"Winner\" basado en los porcentajes predichos de Biden y Trump\n",
    "accumulated_pred_state['Winner'] = np.where(\n",
    "    accumulated_pred_state['Perc_Biden_2020'] >= accumulated_pred_state['Perc_Trump_2020'], 'Biden', 'Trump'\n",
    ")\n",
    "\n",
    "# Añadir los códigos de los estados usando el diccionario state_to_code\n",
    "accumulated_pred_state['state_code'] = accumulated_pred_state.index.map(state_to_code)\n",
    "\n",
    "# Añadir diferencia entre Biden y Trump\n",
    "accumulated_pred_state['Difference'] = (accumulated_pred_state['Perc_Biden_2020'] - accumulated_pred_state['Perc_Trump_2020']) * 100\n",
    "\n",
    "\n",
    "# Definir las condiciones y los valores a asignar\n",
    "conditions = [\n",
    "    accumulated_pred_state[\"Difference\"] > 10,\n",
    "    accumulated_pred_state[\"Difference\"].between(2.5, 10),\n",
    "    accumulated_pred_state[\"Difference\"].between(-2.5, 2.5),\n",
    "    accumulated_pred_state[\"Difference\"].between(-10, -2.5),\n",
    "    accumulated_pred_state[\"Difference\"] < -10\n",
    "]\n",
    "\n",
    "choices = [\n",
    "    \"Safe Biden\",\n",
    "    \"Likely Biden\",\n",
    "    \"Toss-Up\",\n",
    "    \"Likely Trump\",\n",
    "    \"Safe Trump\"\n",
    "]\n",
    "\n",
    "# Usar np.select para asignar el \"Status\" basado en las condiciones, con un valor por defecto \"Unknown\"\n",
    "accumulated_pred_state[\"Status\"] = np.select(conditions, choices, default=\"Unknown\")\n",
    "\n",
    "\n",
    "# Mostrar el DataFrame\n",
    "accumulated_pred_state\n"
   ]
  },
  {
   "cell_type": "markdown",
   "metadata": {},
   "source": [
    "## Gráficos"
   ]
  },
  {
   "cell_type": "markdown",
   "metadata": {},
   "source": [
    "### Simulación"
   ]
  },
  {
   "cell_type": "code",
   "execution_count": 210,
   "metadata": {},
   "outputs": [
    {
     "data": {
      "image/png": "[encoded data removed]",
      "text/plain": [
       "<Figure size 1200x800 with 1 Axes>"
      ]
     },
     "metadata": {},
     "output_type": "display_data"
    }
   ],
   "source": [
    "# Asegurarse de que los valores de Trump_Pred y Biden_Pred sean numéricos\n",
    "simulation_results['Trump_Pred'] = pd.to_numeric(simulation_results['Trump_Pred'], errors='coerce')\n",
    "simulation_results['Biden_Pred'] = pd.to_numeric(simulation_results['Biden_Pred'], errors='coerce')\n",
    "\n",
    "# Eliminar cualquier fila con valores NaN (si es necesario)\n",
    "simulation_results = simulation_results.dropna(subset=['Trump_Pred', 'Biden_Pred'])\n",
    "\n",
    "# Crear un gráfico de densidad para las predicciones de Biden y Trump\n",
    "plt.figure(figsize=(12, 8))\n",
    "\n",
    "# Gráfico de densidad para Biden (positivo)\n",
    "sns.kdeplot(simulation_results['Biden_Pred'], color=\"#3951a2\", fill=True, alpha=0.8, label=\"Biden Pred\")\n",
    "\n",
    "# Crear la densidad para Trump usando gaussian_kde\n",
    "density_trump = gaussian_kde(simulation_results['Trump_Pred'])\n",
    "x_vals = np.linspace(min(simulation_results['Trump_Pred']), max(simulation_results['Biden_Pred']), 1000)\n",
    "y_vals = density_trump(x_vals)\n",
    "\n",
    "# Graficar la densidad de Trump invertida\n",
    "plt.fill_between(x_vals, -y_vals, color=\"#af2b39\", alpha=0.8, label=\"Trump Pred\")\n",
    "\n",
    "# Línea vertical en 270 votos\n",
    "plt.axvline(x=270, color=\"black\", linestyle=\"--\", linewidth=1, label=\"Límite para ganar (270)\")\n",
    "plt.text(270-6, 0.02, '270', color=\"black\", verticalalignment='bottom', fontsize=12)  # Añadir el valor '270' dentro del gráfico\n",
    "\n",
    "# Línea vertical para la media de las predicciones de Biden\n",
    "plt.axvline(x=np.mean(simulation_results['Biden_Pred']), color=\"white\", linestyle=\"--\", linewidth=1, label=\"Media Biden Pred\")\n",
    "mean_biden = np.mean(simulation_results['Biden_Pred'])\n",
    "plt.text(mean_biden + 1, 0.01, f'{mean_biden:.0f}', color=\"white\", verticalalignment='bottom', fontsize=12)  # Añadir el valor de la media de Biden\n",
    "\n",
    "# Línea vertical para la media de las predicciones de Trump\n",
    "plt.axvline(x=np.mean(simulation_results['Trump_Pred']), color=\"white\", linestyle=\"--\", linewidth=1, label=\"Media Trump Pred\")\n",
    "mean_trump = np.mean(simulation_results['Trump_Pred'])\n",
    "plt.text(mean_trump + 1, -0.01, f'{mean_trump:.0f}', color=\"white\", verticalalignment='top', fontsize=12)  # Añadir el valor de la media de Trump\n",
    "\n",
    "# Ajustar el eje Y para que sea simétrico\n",
    "plt.ylim(-1.1 * max(y_vals), 1.1 * max(y_vals))\n",
    "\n",
    "# Ajustar el eje X para ver más a la izquierda\n",
    "plt.xlim(min(simulation_results['Trump_Pred']), max(simulation_results['Biden_Pred']))\n",
    "\n",
    "# Añadir título\n",
    "plt.title(\"Distribución Biden Pred. vs Trump Pred.\", fontsize=16)\n",
    "\n",
    "# Añadir leyenda\n",
    "plt.legend()\n",
    "\n",
    "# Eliminar el fondo del gráfico\n",
    "plt.gca().patch.set_alpha(0)  # Fondo del área del gráfico transparente\n",
    "\n",
    "# Eliminar los bordes y la línea negra alrededor del gráfico\n",
    "plt.gca().spines['top'].set_visible(False)\n",
    "plt.gca().spines['right'].set_visible(False)\n",
    "plt.gca().spines['left'].set_visible(False)\n",
    "plt.gca().spines['bottom'].set_visible(False)\n",
    "\n",
    "# Guardar el gráfico como PNG con fondo transparente\n",
    "plt.savefig(\"../IMAGES/densidad_biden_trump_transparente.png\", format=\"png\", transparent=True)\n",
    "\n",
    "# Mostrar el gráfico\n",
    "plt.show()"
   ]
  },
  {
   "cell_type": "code",
   "execution_count": 209,
   "metadata": {},
   "outputs": [
    {
     "data": {
      "image/png": "[encoded data removed]",
      "text/plain": [
       "<Figure size 1000x1200 with 1 Axes>"
      ]
     },
     "metadata": {},
     "output_type": "display_data"
    }
   ],
   "source": [
    "# Ordenar los estados por orden alfabético\n",
    "accumulated_pred_state_sorted = accumulated_pred_state.sort_values('state', ascending=False)\n",
    "\n",
    "# Crear el gráfico de barras apiladas\n",
    "plt.figure(figsize=(10, 12))\n",
    "\n",
    "# Primero, graficar la barra de Trump\n",
    "sns.barplot(x=accumulated_pred_state_sorted['Perc_Biden_2020'] + accumulated_pred_state_sorted['Perc_Trump_2020'], \n",
    "            y='state', data=accumulated_pred_state_sorted, color=\"#ac2a37\", label=\"Trump\")\n",
    "\n",
    "# Luego, graficar la barra de Biden encima de Trump\n",
    "sns.barplot(x='Perc_Biden_2020', y='state', data=accumulated_pred_state_sorted, color=\"#3951a2\", label=\"Biden\")\n",
    "\n",
    "# Añadir una línea vertical en el 50%\n",
    "plt.axvline(x=0.50, color=\"white\", linestyle=\"--\", linewidth=1)\n",
    "\n",
    "# Añadir leyenda\n",
    "plt.legend(loc='best')\n",
    "\n",
    "# Invertir el eje Y para que los estados se vean de arriba hacia abajo\n",
    "plt.gca().invert_yaxis()\n",
    "\n",
    "# Añadir etiquetas y título\n",
    "plt.title('Resultados Medios por Estado - Simulaciones de Trump vs Biden', fontsize=16)\n",
    "plt.xlabel('Proporción de Votos Simulados')\n",
    "plt.ylabel('Estado')\n",
    "\n",
    "# Ajustar el eje X para que las barras lleguen al 100%\n",
    "plt.xlim(0, 1)\n",
    "\n",
    "# Mostrar el gráfico\n",
    "plt.show()"
   ]
  },
  {
   "cell_type": "code",
   "execution_count": 203,
   "metadata": {},
   "outputs": [
    {
     "data": {
      "application/vnd.plotly.v1+json": {
       "config": {
        "plotlyServerURL": "https://plot.ly"
       },
       "data": [
        {
         "colorscale": [
          [
           0,
           "#af2b39"
          ],
          [
           1,
           "#af2b39"
          ]
         ],
         "customdata": [
          [
           "AL",
           0.38376495557191004,
           0.6162350444280903
          ],
          [
           "AR",
           0.36749718752737714,
           0.632502812472623
          ],
          [
           "FL",
           0.4905744133295937,
           0.5094255866704063
          ],
          [
           "GA",
           0.4998828140253325,
           0.5001171859746675
          ],
          [
           "ID",
           0.34901774437631616,
           0.650982255623684
          ],
          [
           "IN",
           0.4170614645627998,
           0.5829385354372
          ],
          [
           "IA",
           0.44674207640317926,
           0.5532579235968209
          ],
          [
           "KS",
           0.4255883268493513,
           0.574411673150649
          ],
          [
           "KY",
           0.3718303414920217,
           0.6281696585079788
          ],
          [
           "LA",
           0.4175032714372719,
           0.5824967285627277
          ],
          [
           "MS",
           0.4183361092991379,
           0.5816638907008626
          ],
          [
           "MO",
           0.4207708934761619,
           0.5792291065238384
          ],
          [
           "MT",
           0.4135463915701589,
           0.5864536084298414
          ],
          [
           "NE",
           0.40585984022209254,
           0.5941401597779079
          ],
          [
           "NC",
           0.4895960007664653,
           0.5104039992335347
          ],
          [
           "ND",
           0.3438243329374085,
           0.656175667062592
          ],
          [
           "OH",
           0.4578220420269009,
           0.5421779579730991
          ],
          [
           "OK",
           0.3494548486197291,
           0.6505451513802709
          ],
          [
           "SC",
           0.44438133108561256,
           0.5556186689143876
          ],
          [
           "SD",
           0.36888323506034737,
           0.6311167649396527
          ],
          [
           "TN",
           0.3907285471947561,
           0.6092714528052445
          ],
          [
           "TX",
           0.47895738591668646,
           0.5210426140833136
          ],
          [
           "UT",
           0.4096985273507661,
           0.5903014726492335
          ],
          [
           "WV",
           0.3089370921832324,
           0.6910629078167682
          ],
          [
           "WI",
           0.49020709995914424,
           0.5097929000408559
          ],
          [
           "WY",
           0.2989601977812841,
           0.7010398022187168
          ]
         ],
         "geo": "geo",
         "hovertemplate": "<b>%{hovertext}</b><br><br>Ganador 2020=Trump<br>state_code=%{customdata[0]}<br>Perc_Biden_2020=%{customdata[1]:.2%}<br>Perc_Trump_2020=%{customdata[2]:.2%}<extra></extra>",
         "hovertext": [
          "AL",
          "AR",
          "FL",
          "GA",
          "ID",
          "IN",
          "IA",
          "KS",
          "KY",
          "LA",
          "MS",
          "MO",
          "MT",
          "NE",
          "NC",
          "ND",
          "OH",
          "OK",
          "SC",
          "SD",
          "TN",
          "TX",
          "UT",
          "WV",
          "WI",
          "WY"
         ],
         "locationmode": "USA-states",
         "locations": [
          "AL",
          "AR",
          "FL",
          "GA",
          "ID",
          "IN",
          "IA",
          "KS",
          "KY",
          "LA",
          "MS",
          "MO",
          "MT",
          "NE",
          "NC",
          "ND",
          "OH",
          "OK",
          "SC",
          "SD",
          "TN",
          "TX",
          "UT",
          "WV",
          "WI",
          "WY"
         ],
         "name": "Trump",
         "showlegend": true,
         "showscale": false,
         "type": "choropleth",
         "z": [
          1,
          1,
          1,
          1,
          1,
          1,
          1,
          1,
          1,
          1,
          1,
          1,
          1,
          1,
          1,
          1,
          1,
          1,
          1,
          1,
          1,
          1,
          1,
          1,
          1,
          1
         ]
        },
        {
         "colorscale": [
          [
           0,
           "#3951a2"
          ],
          [
           1,
           "#3951a2"
          ]
         ],
         "customdata": [
          [
           "AZ",
           0.5091432277961059,
           0.4908567722038941
          ],
          [
           "CA",
           0.6481709612691686,
           0.3518290387308313
          ],
          [
           "CO",
           0.5605939816723494,
           0.4394060183276507
          ],
          [
           "CT",
           0.5967564538421816,
           0.4032435461578188
          ],
          [
           "DE",
           0.5812238910623733,
           0.4187761089376263
          ],
          [
           "DC",
           0.9048509186060162,
           0.0951490813939815
          ],
          [
           "HI",
           0.6454439470099228,
           0.3545560529900766
          ],
          [
           "IL",
           0.5798001017018973,
           0.4201998982981031
          ],
          [
           "ME",
           0.5199299849825456,
           0.4800700150174544
          ],
          [
           "MD",
           0.654549068460368,
           0.3454509315396325
          ],
          [
           "MA",
           0.6580273456131737,
           0.3419726543868259
          ],
          [
           "MI",
           0.5089430006074187,
           0.49105699939258113
          ],
          [
           "MN",
           0.5253834994271731,
           0.474616500572827
          ],
          [
           "NV",
           0.5175158184791254,
           0.4824841815208744
          ],
          [
           "NH",
           0.525768723786846,
           0.4742312762131536
          ],
          [
           "NJ",
           0.5822060365466372,
           0.4177939634533628
          ],
          [
           "NM",
           0.5430596772959403,
           0.4569403227040597
          ],
          [
           "NY",
           0.6121064663955086,
           0.38789353360449164
          ],
          [
           "OR",
           0.56468008322446,
           0.4353199167755402
          ],
          [
           "PA",
           0.5026576894204384,
           0.49734231057956163
          ],
          [
           "RI",
           0.5910088626811366,
           0.4089911373188639
          ],
          [
           "VT",
           0.6405035958840309,
           0.3594964041159694
          ],
          [
           "VA",
           0.5427719093786731,
           0.45722809062132674
          ],
          [
           "WA",
           0.5880053008157246,
           0.4119946991842751
          ]
         ],
         "geo": "geo",
         "hovertemplate": "<b>%{hovertext}</b><br><br>Ganador 2020=Biden<br>state_code=%{customdata[0]}<br>Perc_Biden_2020=%{customdata[1]:.2%}<br>Perc_Trump_2020=%{customdata[2]:.2%}<extra></extra>",
         "hovertext": [
          "AZ",
          "CA",
          "CO",
          "CT",
          "DE",
          "DC",
          "HI",
          "IL",
          "ME",
          "MD",
          "MA",
          "MI",
          "MN",
          "NV",
          "NH",
          "NJ",
          "NM",
          "NY",
          "OR",
          "PA",
          "RI",
          "VT",
          "VA",
          "WA"
         ],
         "locationmode": "USA-states",
         "locations": [
          "AZ",
          "CA",
          "CO",
          "CT",
          "DE",
          "DC",
          "HI",
          "IL",
          "ME",
          "MD",
          "MA",
          "MI",
          "MN",
          "NV",
          "NH",
          "NJ",
          "NM",
          "NY",
          "OR",
          "PA",
          "RI",
          "VT",
          "VA",
          "WA"
         ],
         "name": "Biden",
         "showlegend": true,
         "showscale": false,
         "type": "choropleth",
         "z": [
          1,
          1,
          1,
          1,
          1,
          1,
          1,
          1,
          1,
          1,
          1,
          1,
          1,
          1,
          1,
          1,
          1,
          1,
          1,
          1,
          1,
          1,
          1,
          1
         ]
        }
       ],
       "layout": {
        "geo": {
         "center": {},
         "domain": {
          "x": [
           0,
           1
          ],
          "y": [
           0,
           1
          ]
         },
         "fitbounds": "locations",
         "scope": "usa",
         "visible": false
        },
        "height": 800,
        "legend": {
         "title": {
          "text": "Ganador 2020"
         },
         "tracegroupgap": 0
        },
        "template": {
         "data": {
          "bar": [
           {
            "error_x": {
             "color": "#2a3f5f"
            },
            "error_y": {
             "color": "#2a3f5f"
            },
            "marker": {
             "line": {
              "color": "#E5ECF6",
              "width": 0.5
             },
             "pattern": {
              "fillmode": "overlay",
              "size": 10,
              "solidity": 0.2
             }
            },
            "type": "bar"
           }
          ],
          "barpolar": [
           {
            "marker": {
             "line": {
              "color": "#E5ECF6",
              "width": 0.5
             },
             "pattern": {
              "fillmode": "overlay",
              "size": 10,
              "solidity": 0.2
             }
            },
            "type": "barpolar"
           }
          ],
          "carpet": [
           {
            "aaxis": {
             "endlinecolor": "#2a3f5f",
             "gridcolor": "white",
             "linecolor": "white",
             "minorgridcolor": "white",
             "startlinecolor": "#2a3f5f"
            },
            "baxis": {
             "endlinecolor": "#2a3f5f",
             "gridcolor": "white",
             "linecolor": "white",
             "minorgridcolor": "white",
             "startlinecolor": "#2a3f5f"
            },
            "type": "carpet"
           }
          ],
          "choropleth": [
           {
            "colorbar": {
             "outlinewidth": 0,
             "ticks": ""
            },
            "type": "choropleth"
           }
          ],
          "contour": [
           {
            "colorbar": {
             "outlinewidth": 0,
             "ticks": ""
            },
            "colorscale": [
             [
              0,
              "#0d0887"
             ],
             [
              0.1111111111111111,
              "#46039f"
             ],
             [
              0.2222222222222222,
              "#7201a8"
             ],
             [
              0.3333333333333333,
              "#9c179e"
             ],
             [
              0.4444444444444444,
              "#bd3786"
             ],
             [
              0.5555555555555556,
              "#d8576b"
             ],
             [
              0.6666666666666666,
              "#ed7953"
             ],
             [
              0.7777777777777778,
              "#fb9f3a"
             ],
             [
              0.8888888888888888,
              "#fdca26"
             ],
             [
              1,
              "#f0f921"
             ]
            ],
            "type": "contour"
           }
          ],
          "contourcarpet": [
           {
            "colorbar": {
             "outlinewidth": 0,
             "ticks": ""
            },
            "type": "contourcarpet"
           }
          ],
          "heatmap": [
           {
            "colorbar": {
             "outlinewidth": 0,
             "ticks": ""
            },
            "colorscale": [
             [
              0,
              "#0d0887"
             ],
             [
              0.1111111111111111,
              "#46039f"
             ],
             [
              0.2222222222222222,
              "#7201a8"
             ],
             [
              0.3333333333333333,
              "#9c179e"
             ],
             [
              0.4444444444444444,
              "#bd3786"
             ],
             [
              0.5555555555555556,
              "#d8576b"
             ],
             [
              0.6666666666666666,
              "#ed7953"
             ],
             [
              0.7777777777777778,
              "#fb9f3a"
             ],
             [
              0.8888888888888888,
              "#fdca26"
             ],
             [
              1,
              "#f0f921"
             ]
            ],
            "type": "heatmap"
           }
          ],
          "heatmapgl": [
           {
            "colorbar": {
             "outlinewidth": 0,
             "ticks": ""
            },
            "colorscale": [
             [
              0,
              "#0d0887"
             ],
             [
              0.1111111111111111,
              "#46039f"
             ],
             [
              0.2222222222222222,
              "#7201a8"
             ],
             [
              0.3333333333333333,
              "#9c179e"
             ],
             [
              0.4444444444444444,
              "#bd3786"
             ],
             [
              0.5555555555555556,
              "#d8576b"
             ],
             [
              0.6666666666666666,
              "#ed7953"
             ],
             [
              0.7777777777777778,
              "#fb9f3a"
             ],
             [
              0.8888888888888888,
              "#fdca26"
             ],
             [
              1,
              "#f0f921"
             ]
            ],
            "type": "heatmapgl"
           }
          ],
          "histogram": [
           {
            "marker": {
             "pattern": {
              "fillmode": "overlay",
              "size": 10,
              "solidity": 0.2
             }
            },
            "type": "histogram"
           }
          ],
          "histogram2d": [
           {
            "colorbar": {
             "outlinewidth": 0,
             "ticks": ""
            },
            "colorscale": [
             [
              0,
              "#0d0887"
             ],
             [
              0.1111111111111111,
              "#46039f"
             ],
             [
              0.2222222222222222,
              "#7201a8"
             ],
             [
              0.3333333333333333,
              "#9c179e"
             ],
             [
              0.4444444444444444,
              "#bd3786"
             ],
             [
              0.5555555555555556,
              "#d8576b"
             ],
             [
              0.6666666666666666,
              "#ed7953"
             ],
             [
              0.7777777777777778,
              "#fb9f3a"
             ],
             [
              0.8888888888888888,
              "#fdca26"
             ],
             [
              1,
              "#f0f921"
             ]
            ],
            "type": "histogram2d"
           }
          ],
          "histogram2dcontour": [
           {
            "colorbar": {
             "outlinewidth": 0,
             "ticks": ""
            },
            "colorscale": [
             [
              0,
              "#0d0887"
             ],
             [
              0.1111111111111111,
              "#46039f"
             ],
             [
              0.2222222222222222,
              "#7201a8"
             ],
             [
              0.3333333333333333,
              "#9c179e"
             ],
             [
              0.4444444444444444,
              "#bd3786"
             ],
             [
              0.5555555555555556,
              "#d8576b"
             ],
             [
              0.6666666666666666,
              "#ed7953"
             ],
             [
              0.7777777777777778,
              "#fb9f3a"
             ],
             [
              0.8888888888888888,
              "#fdca26"
             ],
             [
              1,
              "#f0f921"
             ]
            ],
            "type": "histogram2dcontour"
           }
          ],
          "mesh3d": [
           {
            "colorbar": {
             "outlinewidth": 0,
             "ticks": ""
            },
            "type": "mesh3d"
           }
          ],
          "parcoords": [
           {
            "line": {
             "colorbar": {
              "outlinewidth": 0,
              "ticks": ""
             }
            },
            "type": "parcoords"
           }
          ],
          "pie": [
           {
            "automargin": true,
            "type": "pie"
           }
          ],
          "scatter": [
           {
            "fillpattern": {
             "fillmode": "overlay",
             "size": 10,
             "solidity": 0.2
            },
            "type": "scatter"
           }
          ],
          "scatter3d": [
           {
            "line": {
             "colorbar": {
              "outlinewidth": 0,
              "ticks": ""
             }
            },
            "marker": {
             "colorbar": {
              "outlinewidth": 0,
              "ticks": ""
             }
            },
            "type": "scatter3d"
           }
          ],
          "scattercarpet": [
           {
            "marker": {
             "colorbar": {
              "outlinewidth": 0,
              "ticks": ""
             }
            },
            "type": "scattercarpet"
           }
          ],
          "scattergeo": [
           {
            "marker": {
             "colorbar": {
              "outlinewidth": 0,
              "ticks": ""
             }
            },
            "type": "scattergeo"
           }
          ],
          "scattergl": [
           {
            "marker": {
             "colorbar": {
              "outlinewidth": 0,
              "ticks": ""
             }
            },
            "type": "scattergl"
           }
          ],
          "scattermapbox": [
           {
            "marker": {
             "colorbar": {
              "outlinewidth": 0,
              "ticks": ""
             }
            },
            "type": "scattermapbox"
           }
          ],
          "scatterpolar": [
           {
            "marker": {
             "colorbar": {
              "outlinewidth": 0,
              "ticks": ""
             }
            },
            "type": "scatterpolar"
           }
          ],
          "scatterpolargl": [
           {
            "marker": {
             "colorbar": {
              "outlinewidth": 0,
              "ticks": ""
             }
            },
            "type": "scatterpolargl"
           }
          ],
          "scatterternary": [
           {
            "marker": {
             "colorbar": {
              "outlinewidth": 0,
              "ticks": ""
             }
            },
            "type": "scatterternary"
           }
          ],
          "surface": [
           {
            "colorbar": {
             "outlinewidth": 0,
             "ticks": ""
            },
            "colorscale": [
             [
              0,
              "#0d0887"
             ],
             [
              0.1111111111111111,
              "#46039f"
             ],
             [
              0.2222222222222222,
              "#7201a8"
             ],
             [
              0.3333333333333333,
              "#9c179e"
             ],
             [
              0.4444444444444444,
              "#bd3786"
             ],
             [
              0.5555555555555556,
              "#d8576b"
             ],
             [
              0.6666666666666666,
              "#ed7953"
             ],
             [
              0.7777777777777778,
              "#fb9f3a"
             ],
             [
              0.8888888888888888,
              "#fdca26"
             ],
             [
              1,
              "#f0f921"
             ]
            ],
            "type": "surface"
           }
          ],
          "table": [
           {
            "cells": {
             "fill": {
              "color": "#EBF0F8"
             },
             "line": {
              "color": "white"
             }
            },
            "header": {
             "fill": {
              "color": "#C8D4E3"
             },
             "line": {
              "color": "white"
             }
            },
            "type": "table"
           }
          ]
         },
         "layout": {
          "annotationdefaults": {
           "arrowcolor": "#2a3f5f",
           "arrowhead": 0,
           "arrowwidth": 1
          },
          "autotypenumbers": "strict",
          "coloraxis": {
           "colorbar": {
            "outlinewidth": 0,
            "ticks": ""
           }
          },
          "colorscale": {
           "diverging": [
            [
             0,
             "#8e0152"
            ],
            [
             0.1,
             "#c51b7d"
            ],
            [
             0.2,
             "#de77ae"
            ],
            [
             0.3,
             "#f1b6da"
            ],
            [
             0.4,
             "#fde0ef"
            ],
            [
             0.5,
             "#f7f7f7"
            ],
            [
             0.6,
             "#e6f5d0"
            ],
            [
             0.7,
             "#b8e186"
            ],
            [
             0.8,
             "#7fbc41"
            ],
            [
             0.9,
             "#4d9221"
            ],
            [
             1,
             "#276419"
            ]
           ],
           "sequential": [
            [
             0,
             "#0d0887"
            ],
            [
             0.1111111111111111,
             "#46039f"
            ],
            [
             0.2222222222222222,
             "#7201a8"
            ],
            [
             0.3333333333333333,
             "#9c179e"
            ],
            [
             0.4444444444444444,
             "#bd3786"
            ],
            [
             0.5555555555555556,
             "#d8576b"
            ],
            [
             0.6666666666666666,
             "#ed7953"
            ],
            [
             0.7777777777777778,
             "#fb9f3a"
            ],
            [
             0.8888888888888888,
             "#fdca26"
            ],
            [
             1,
             "#f0f921"
            ]
           ],
           "sequentialminus": [
            [
             0,
             "#0d0887"
            ],
            [
             0.1111111111111111,
             "#46039f"
            ],
            [
             0.2222222222222222,
             "#7201a8"
            ],
            [
             0.3333333333333333,
             "#9c179e"
            ],
            [
             0.4444444444444444,
             "#bd3786"
            ],
            [
             0.5555555555555556,
             "#d8576b"
            ],
            [
             0.6666666666666666,
             "#ed7953"
            ],
            [
             0.7777777777777778,
             "#fb9f3a"
            ],
            [
             0.8888888888888888,
             "#fdca26"
            ],
            [
             1,
             "#f0f921"
            ]
           ]
          },
          "colorway": [
           "#636efa",
           "#EF553B",
           "#00cc96",
           "#ab63fa",
           "#FFA15A",
           "#19d3f3",
           "#FF6692",
           "#B6E880",
           "#FF97FF",
           "#FECB52"
          ],
          "font": {
           "color": "#2a3f5f"
          },
          "geo": {
           "bgcolor": "white",
           "lakecolor": "white",
           "landcolor": "#E5ECF6",
           "showlakes": true,
           "showland": true,
           "subunitcolor": "white"
          },
          "hoverlabel": {
           "align": "left"
          },
          "hovermode": "closest",
          "mapbox": {
           "style": "light"
          },
          "paper_bgcolor": "white",
          "plot_bgcolor": "#E5ECF6",
          "polar": {
           "angularaxis": {
            "gridcolor": "white",
            "linecolor": "white",
            "ticks": ""
           },
           "bgcolor": "#E5ECF6",
           "radialaxis": {
            "gridcolor": "white",
            "linecolor": "white",
            "ticks": ""
           }
          },
          "scene": {
           "xaxis": {
            "backgroundcolor": "#E5ECF6",
            "gridcolor": "white",
            "gridwidth": 2,
            "linecolor": "white",
            "showbackground": true,
            "ticks": "",
            "zerolinecolor": "white"
           },
           "yaxis": {
            "backgroundcolor": "#E5ECF6",
            "gridcolor": "white",
            "gridwidth": 2,
            "linecolor": "white",
            "showbackground": true,
            "ticks": "",
            "zerolinecolor": "white"
           },
           "zaxis": {
            "backgroundcolor": "#E5ECF6",
            "gridcolor": "white",
            "gridwidth": 2,
            "linecolor": "white",
            "showbackground": true,
            "ticks": "",
            "zerolinecolor": "white"
           }
          },
          "shapedefaults": {
           "line": {
            "color": "#2a3f5f"
           }
          },
          "ternary": {
           "aaxis": {
            "gridcolor": "white",
            "linecolor": "white",
            "ticks": ""
           },
           "baxis": {
            "gridcolor": "white",
            "linecolor": "white",
            "ticks": ""
           },
           "bgcolor": "#E5ECF6",
           "caxis": {
            "gridcolor": "white",
            "linecolor": "white",
            "ticks": ""
           }
          },
          "title": {
           "x": 0.05
          },
          "xaxis": {
           "automargin": true,
           "gridcolor": "white",
           "linecolor": "white",
           "ticks": "",
           "title": {
            "standoff": 15
           },
           "zerolinecolor": "white",
           "zerolinewidth": 2
          },
          "yaxis": {
           "automargin": true,
           "gridcolor": "white",
           "linecolor": "white",
           "ticks": "",
           "title": {
            "standoff": 15
           },
           "zerolinecolor": "white",
           "zerolinewidth": 2
          }
         }
        },
        "title": {
         "text": "Resultado Medio de las Simulaciones - Elecciones Presidenciales 2020"
        },
        "width": 1200
       }
      }
     },
     "metadata": {},
     "output_type": "display_data"
    }
   ],
   "source": [
    "# Crear el mapa coroplético usando Plotly Express con códigos de estado\n",
    "fig = px.choropleth(accumulated_pred_state,\n",
    "                    locations='state_code',  # Usar la nueva columna con códigos de estado\n",
    "                    locationmode=\"USA-states\",  # Modo de localización para los códigos de estado\n",
    "                    color='Winner',  # Métrica que deseas visualizar\n",
    "                    hover_name='state_code',  # Mostrar el código del estado en hover\n",
    "                    hover_data={\n",
    "                        'state_code': True,  # Mostrar el código del estado\n",
    "                        'Perc_Biden_2020': ':.2%',  # Mostrar el porcentaje de Biden en formato de porcentaje\n",
    "                        'Perc_Trump_2020': ':.2%'  # Mostrar el porcentaje de Trump en formato de porcentaje\n",
    "                    },\n",
    "                    scope='usa',  # Limitar el mapa a EE.UU.\n",
    "                    color_discrete_map={'Biden': '#3951a2', 'Trump': '#af2b39'},  # Colores asignados\n",
    "                    labels={'Winner': 'Ganador 2020'},  # Etiqueta para la barra de color\n",
    "                    title=\"Resultado Medio de las Simulaciones - Elecciones Presidenciales 2020\"\n",
    "                   )\n",
    "\n",
    "# # Crear un nuevo rastro para añadir los códigos de los estados en el mapa\n",
    "# fig.add_trace(go.Scattergeo(\n",
    "#     locationmode='USA-states',\n",
    "#     locations=accumulated_pred_state['state_code'],  # Usar los códigos de los estados\n",
    "#     text=accumulated_pred_state['state_code'],  # Mostrar los códigos dentro del mapa\n",
    "#     mode='text',  # Solo texto\n",
    "#     textfont=dict(size=12, color=\"black\"),  # Tamaño y color de la fuente\n",
    "# ))\n",
    "\n",
    "# Ajustar el tamaño del gráfico\n",
    "fig.update_layout(\n",
    "    width=1200,  # Ajustar el ancho del gráfico\n",
    "    height=800   # Ajustar la altura del gráfico\n",
    ")\n",
    "\n",
    "# Ajustar visualización y mostrar el gráfico\n",
    "fig.update_geos(fitbounds=\"locations\", visible=False)  # Ajustar el mapa a las ubicaciones\n",
    "fig.show()\n"
   ]
  },
  {
   "cell_type": "code",
   "execution_count": 204,
   "metadata": {},
   "outputs": [
    {
     "data": {
      "application/vnd.plotly.v1+json": {
       "config": {
        "plotlyServerURL": "https://plot.ly"
       },
       "data": [
        {
         "colorscale": [
          [
           0,
           "#af2b39"
          ],
          [
           1,
           "#af2b39"
          ]
         ],
         "customdata": [
          [
           "AL",
           0.38376495557191004,
           0.6162350444280903
          ],
          [
           "AR",
           0.36749718752737714,
           0.632502812472623
          ],
          [
           "ID",
           0.34901774437631616,
           0.650982255623684
          ],
          [
           "IN",
           0.4170614645627998,
           0.5829385354372
          ],
          [
           "IA",
           0.44674207640317926,
           0.5532579235968209
          ],
          [
           "KS",
           0.4255883268493513,
           0.574411673150649
          ],
          [
           "KY",
           0.3718303414920217,
           0.6281696585079788
          ],
          [
           "LA",
           0.4175032714372719,
           0.5824967285627277
          ],
          [
           "MS",
           0.4183361092991379,
           0.5816638907008626
          ],
          [
           "MO",
           0.4207708934761619,
           0.5792291065238384
          ],
          [
           "MT",
           0.4135463915701589,
           0.5864536084298414
          ],
          [
           "NE",
           0.40585984022209254,
           0.5941401597779079
          ],
          [
           "ND",
           0.3438243329374085,
           0.656175667062592
          ],
          [
           "OK",
           0.3494548486197291,
           0.6505451513802709
          ],
          [
           "SC",
           0.44438133108561256,
           0.5556186689143876
          ],
          [
           "SD",
           0.36888323506034737,
           0.6311167649396527
          ],
          [
           "TN",
           0.3907285471947561,
           0.6092714528052445
          ],
          [
           "UT",
           0.4096985273507661,
           0.5903014726492335
          ],
          [
           "WV",
           0.3089370921832324,
           0.6910629078167682
          ],
          [
           "WY",
           0.2989601977812841,
           0.7010398022187168
          ]
         ],
         "geo": "geo",
         "hovertemplate": "<b>%{hovertext}</b><br><br>Status=Safe Trump<br>state_code=%{customdata[0]}<br>Perc_Biden_2020=%{customdata[1]:.2%}<br>Perc_Trump_2020=%{customdata[2]:.2%}<extra></extra>",
         "hovertext": [
          "AL",
          "AR",
          "ID",
          "IN",
          "IA",
          "KS",
          "KY",
          "LA",
          "MS",
          "MO",
          "MT",
          "NE",
          "ND",
          "OK",
          "SC",
          "SD",
          "TN",
          "UT",
          "WV",
          "WY"
         ],
         "locationmode": "USA-states",
         "locations": [
          "AL",
          "AR",
          "ID",
          "IN",
          "IA",
          "KS",
          "KY",
          "LA",
          "MS",
          "MO",
          "MT",
          "NE",
          "ND",
          "OK",
          "SC",
          "SD",
          "TN",
          "UT",
          "WV",
          "WY"
         ],
         "name": "Safe Trump",
         "showlegend": true,
         "showscale": false,
         "type": "choropleth",
         "z": [
          1,
          1,
          1,
          1,
          1,
          1,
          1,
          1,
          1,
          1,
          1,
          1,
          1,
          1,
          1,
          1,
          1,
          1,
          1,
          1
         ]
        },
        {
         "colorscale": [
          [
           0,
           "#b6b164"
          ],
          [
           1,
           "#b6b164"
          ]
         ],
         "customdata": [
          [
           "AZ",
           0.5091432277961059,
           0.4908567722038941
          ],
          [
           "FL",
           0.4905744133295937,
           0.5094255866704063
          ],
          [
           "GA",
           0.4998828140253325,
           0.5001171859746675
          ],
          [
           "MI",
           0.5089430006074187,
           0.49105699939258113
          ],
          [
           "NC",
           0.4895960007664653,
           0.5104039992335347
          ],
          [
           "PA",
           0.5026576894204384,
           0.49734231057956163
          ],
          [
           "WI",
           0.49020709995914424,
           0.5097929000408559
          ]
         ],
         "geo": "geo",
         "hovertemplate": "<b>%{hovertext}</b><br><br>Status=Toss-Up<br>state_code=%{customdata[0]}<br>Perc_Biden_2020=%{customdata[1]:.2%}<br>Perc_Trump_2020=%{customdata[2]:.2%}<extra></extra>",
         "hovertext": [
          "AZ",
          "FL",
          "GA",
          "MI",
          "NC",
          "PA",
          "WI"
         ],
         "locationmode": "USA-states",
         "locations": [
          "AZ",
          "FL",
          "GA",
          "MI",
          "NC",
          "PA",
          "WI"
         ],
         "name": "Toss-Up",
         "showlegend": true,
         "showscale": false,
         "type": "choropleth",
         "z": [
          1,
          1,
          1,
          1,
          1,
          1,
          1
         ]
        },
        {
         "colorscale": [
          [
           0,
           "#3951a2"
          ],
          [
           1,
           "#3951a2"
          ]
         ],
         "customdata": [
          [
           "CA",
           0.6481709612691686,
           0.3518290387308313
          ],
          [
           "CO",
           0.5605939816723494,
           0.4394060183276507
          ],
          [
           "CT",
           0.5967564538421816,
           0.4032435461578188
          ],
          [
           "DE",
           0.5812238910623733,
           0.4187761089376263
          ],
          [
           "DC",
           0.9048509186060162,
           0.0951490813939815
          ],
          [
           "HI",
           0.6454439470099228,
           0.3545560529900766
          ],
          [
           "IL",
           0.5798001017018973,
           0.4201998982981031
          ],
          [
           "MD",
           0.654549068460368,
           0.3454509315396325
          ],
          [
           "MA",
           0.6580273456131737,
           0.3419726543868259
          ],
          [
           "NJ",
           0.5822060365466372,
           0.4177939634533628
          ],
          [
           "NY",
           0.6121064663955086,
           0.38789353360449164
          ],
          [
           "OR",
           0.56468008322446,
           0.4353199167755402
          ],
          [
           "RI",
           0.5910088626811366,
           0.4089911373188639
          ],
          [
           "VT",
           0.6405035958840309,
           0.3594964041159694
          ],
          [
           "WA",
           0.5880053008157246,
           0.4119946991842751
          ]
         ],
         "geo": "geo",
         "hovertemplate": "<b>%{hovertext}</b><br><br>Status=Safe Biden<br>state_code=%{customdata[0]}<br>Perc_Biden_2020=%{customdata[1]:.2%}<br>Perc_Trump_2020=%{customdata[2]:.2%}<extra></extra>",
         "hovertext": [
          "CA",
          "CO",
          "CT",
          "DE",
          "DC",
          "HI",
          "IL",
          "MD",
          "MA",
          "NJ",
          "NY",
          "OR",
          "RI",
          "VT",
          "WA"
         ],
         "locationmode": "USA-states",
         "locations": [
          "CA",
          "CO",
          "CT",
          "DE",
          "DC",
          "HI",
          "IL",
          "MD",
          "MA",
          "NJ",
          "NY",
          "OR",
          "RI",
          "VT",
          "WA"
         ],
         "name": "Safe Biden",
         "showlegend": true,
         "showscale": false,
         "type": "choropleth",
         "z": [
          1,
          1,
          1,
          1,
          1,
          1,
          1,
          1,
          1,
          1,
          1,
          1,
          1,
          1,
          1
         ]
        },
        {
         "colorscale": [
          [
           0,
           "#a3cef1"
          ],
          [
           1,
           "#a3cef1"
          ]
         ],
         "customdata": [
          [
           "ME",
           0.5199299849825456,
           0.4800700150174544
          ],
          [
           "MN",
           0.5253834994271731,
           0.474616500572827
          ],
          [
           "NV",
           0.5175158184791254,
           0.4824841815208744
          ],
          [
           "NH",
           0.525768723786846,
           0.4742312762131536
          ],
          [
           "NM",
           0.5430596772959403,
           0.4569403227040597
          ],
          [
           "VA",
           0.5427719093786731,
           0.45722809062132674
          ]
         ],
         "geo": "geo",
         "hovertemplate": "<b>%{hovertext}</b><br><br>Status=Likely Biden<br>state_code=%{customdata[0]}<br>Perc_Biden_2020=%{customdata[1]:.2%}<br>Perc_Trump_2020=%{customdata[2]:.2%}<extra></extra>",
         "hovertext": [
          "ME",
          "MN",
          "NV",
          "NH",
          "NM",
          "VA"
         ],
         "locationmode": "USA-states",
         "locations": [
          "ME",
          "MN",
          "NV",
          "NH",
          "NM",
          "VA"
         ],
         "name": "Likely Biden",
         "showlegend": true,
         "showscale": false,
         "type": "choropleth",
         "z": [
          1,
          1,
          1,
          1,
          1,
          1
         ]
        },
        {
         "colorscale": [
          [
           0,
           "#d56062"
          ],
          [
           1,
           "#d56062"
          ]
         ],
         "customdata": [
          [
           "OH",
           0.4578220420269009,
           0.5421779579730991
          ],
          [
           "TX",
           0.47895738591668646,
           0.5210426140833136
          ]
         ],
         "geo": "geo",
         "hovertemplate": "<b>%{hovertext}</b><br><br>Status=Likely Trump<br>state_code=%{customdata[0]}<br>Perc_Biden_2020=%{customdata[1]:.2%}<br>Perc_Trump_2020=%{customdata[2]:.2%}<extra></extra>",
         "hovertext": [
          "OH",
          "TX"
         ],
         "locationmode": "USA-states",
         "locations": [
          "OH",
          "TX"
         ],
         "name": "Likely Trump",
         "showlegend": true,
         "showscale": false,
         "type": "choropleth",
         "z": [
          1,
          1
         ]
        }
       ],
       "layout": {
        "geo": {
         "center": {},
         "domain": {
          "x": [
           0,
           1
          ],
          "y": [
           0,
           1
          ]
         },
         "fitbounds": "locations",
         "scope": "usa",
         "visible": false
        },
        "height": 800,
        "legend": {
         "title": {
          "text": "Status"
         },
         "tracegroupgap": 0
        },
        "template": {
         "data": {
          "bar": [
           {
            "error_x": {
             "color": "#2a3f5f"
            },
            "error_y": {
             "color": "#2a3f5f"
            },
            "marker": {
             "line": {
              "color": "#E5ECF6",
              "width": 0.5
             },
             "pattern": {
              "fillmode": "overlay",
              "size": 10,
              "solidity": 0.2
             }
            },
            "type": "bar"
           }
          ],
          "barpolar": [
           {
            "marker": {
             "line": {
              "color": "#E5ECF6",
              "width": 0.5
             },
             "pattern": {
              "fillmode": "overlay",
              "size": 10,
              "solidity": 0.2
             }
            },
            "type": "barpolar"
           }
          ],
          "carpet": [
           {
            "aaxis": {
             "endlinecolor": "#2a3f5f",
             "gridcolor": "white",
             "linecolor": "white",
             "minorgridcolor": "white",
             "startlinecolor": "#2a3f5f"
            },
            "baxis": {
             "endlinecolor": "#2a3f5f",
             "gridcolor": "white",
             "linecolor": "white",
             "minorgridcolor": "white",
             "startlinecolor": "#2a3f5f"
            },
            "type": "carpet"
           }
          ],
          "choropleth": [
           {
            "colorbar": {
             "outlinewidth": 0,
             "ticks": ""
            },
            "type": "choropleth"
           }
          ],
          "contour": [
           {
            "colorbar": {
             "outlinewidth": 0,
             "ticks": ""
            },
            "colorscale": [
             [
              0,
              "#0d0887"
             ],
             [
              0.1111111111111111,
              "#46039f"
             ],
             [
              0.2222222222222222,
              "#7201a8"
             ],
             [
              0.3333333333333333,
              "#9c179e"
             ],
             [
              0.4444444444444444,
              "#bd3786"
             ],
             [
              0.5555555555555556,
              "#d8576b"
             ],
             [
              0.6666666666666666,
              "#ed7953"
             ],
             [
              0.7777777777777778,
              "#fb9f3a"
             ],
             [
              0.8888888888888888,
              "#fdca26"
             ],
             [
              1,
              "#f0f921"
             ]
            ],
            "type": "contour"
           }
          ],
          "contourcarpet": [
           {
            "colorbar": {
             "outlinewidth": 0,
             "ticks": ""
            },
            "type": "contourcarpet"
           }
          ],
          "heatmap": [
           {
            "colorbar": {
             "outlinewidth": 0,
             "ticks": ""
            },
            "colorscale": [
             [
              0,
              "#0d0887"
             ],
             [
              0.1111111111111111,
              "#46039f"
             ],
             [
              0.2222222222222222,
              "#7201a8"
             ],
             [
              0.3333333333333333,
              "#9c179e"
             ],
             [
              0.4444444444444444,
              "#bd3786"
             ],
             [
              0.5555555555555556,
              "#d8576b"
             ],
             [
              0.6666666666666666,
              "#ed7953"
             ],
             [
              0.7777777777777778,
              "#fb9f3a"
             ],
             [
              0.8888888888888888,
              "#fdca26"
             ],
             [
              1,
              "#f0f921"
             ]
            ],
            "type": "heatmap"
           }
          ],
          "heatmapgl": [
           {
            "colorbar": {
             "outlinewidth": 0,
             "ticks": ""
            },
            "colorscale": [
             [
              0,
              "#0d0887"
             ],
             [
              0.1111111111111111,
              "#46039f"
             ],
             [
              0.2222222222222222,
              "#7201a8"
             ],
             [
              0.3333333333333333,
              "#9c179e"
             ],
             [
              0.4444444444444444,
              "#bd3786"
             ],
             [
              0.5555555555555556,
              "#d8576b"
             ],
             [
              0.6666666666666666,
              "#ed7953"
             ],
             [
              0.7777777777777778,
              "#fb9f3a"
             ],
             [
              0.8888888888888888,
              "#fdca26"
             ],
             [
              1,
              "#f0f921"
             ]
            ],
            "type": "heatmapgl"
           }
          ],
          "histogram": [
           {
            "marker": {
             "pattern": {
              "fillmode": "overlay",
              "size": 10,
              "solidity": 0.2
             }
            },
            "type": "histogram"
           }
          ],
          "histogram2d": [
           {
            "colorbar": {
             "outlinewidth": 0,
             "ticks": ""
            },
            "colorscale": [
             [
              0,
              "#0d0887"
             ],
             [
              0.1111111111111111,
              "#46039f"
             ],
             [
              0.2222222222222222,
              "#7201a8"
             ],
             [
              0.3333333333333333,
              "#9c179e"
             ],
             [
              0.4444444444444444,
              "#bd3786"
             ],
             [
              0.5555555555555556,
              "#d8576b"
             ],
             [
              0.6666666666666666,
              "#ed7953"
             ],
             [
              0.7777777777777778,
              "#fb9f3a"
             ],
             [
              0.8888888888888888,
              "#fdca26"
             ],
             [
              1,
              "#f0f921"
             ]
            ],
            "type": "histogram2d"
           }
          ],
          "histogram2dcontour": [
           {
            "colorbar": {
             "outlinewidth": 0,
             "ticks": ""
            },
            "colorscale": [
             [
              0,
              "#0d0887"
             ],
             [
              0.1111111111111111,
              "#46039f"
             ],
             [
              0.2222222222222222,
              "#7201a8"
             ],
             [
              0.3333333333333333,
              "#9c179e"
             ],
             [
              0.4444444444444444,
              "#bd3786"
             ],
             [
              0.5555555555555556,
              "#d8576b"
             ],
             [
              0.6666666666666666,
              "#ed7953"
             ],
             [
              0.7777777777777778,
              "#fb9f3a"
             ],
             [
              0.8888888888888888,
              "#fdca26"
             ],
             [
              1,
              "#f0f921"
             ]
            ],
            "type": "histogram2dcontour"
           }
          ],
          "mesh3d": [
           {
            "colorbar": {
             "outlinewidth": 0,
             "ticks": ""
            },
            "type": "mesh3d"
           }
          ],
          "parcoords": [
           {
            "line": {
             "colorbar": {
              "outlinewidth": 0,
              "ticks": ""
             }
            },
            "type": "parcoords"
           }
          ],
          "pie": [
           {
            "automargin": true,
            "type": "pie"
           }
          ],
          "scatter": [
           {
            "fillpattern": {
             "fillmode": "overlay",
             "size": 10,
             "solidity": 0.2
            },
            "type": "scatter"
           }
          ],
          "scatter3d": [
           {
            "line": {
             "colorbar": {
              "outlinewidth": 0,
              "ticks": ""
             }
            },
            "marker": {
             "colorbar": {
              "outlinewidth": 0,
              "ticks": ""
             }
            },
            "type": "scatter3d"
           }
          ],
          "scattercarpet": [
           {
            "marker": {
             "colorbar": {
              "outlinewidth": 0,
              "ticks": ""
             }
            },
            "type": "scattercarpet"
           }
          ],
          "scattergeo": [
           {
            "marker": {
             "colorbar": {
              "outlinewidth": 0,
              "ticks": ""
             }
            },
            "type": "scattergeo"
           }
          ],
          "scattergl": [
           {
            "marker": {
             "colorbar": {
              "outlinewidth": 0,
              "ticks": ""
             }
            },
            "type": "scattergl"
           }
          ],
          "scattermapbox": [
           {
            "marker": {
             "colorbar": {
              "outlinewidth": 0,
              "ticks": ""
             }
            },
            "type": "scattermapbox"
           }
          ],
          "scatterpolar": [
           {
            "marker": {
             "colorbar": {
              "outlinewidth": 0,
              "ticks": ""
             }
            },
            "type": "scatterpolar"
           }
          ],
          "scatterpolargl": [
           {
            "marker": {
             "colorbar": {
              "outlinewidth": 0,
              "ticks": ""
             }
            },
            "type": "scatterpolargl"
           }
          ],
          "scatterternary": [
           {
            "marker": {
             "colorbar": {
              "outlinewidth": 0,
              "ticks": ""
             }
            },
            "type": "scatterternary"
           }
          ],
          "surface": [
           {
            "colorbar": {
             "outlinewidth": 0,
             "ticks": ""
            },
            "colorscale": [
             [
              0,
              "#0d0887"
             ],
             [
              0.1111111111111111,
              "#46039f"
             ],
             [
              0.2222222222222222,
              "#7201a8"
             ],
             [
              0.3333333333333333,
              "#9c179e"
             ],
             [
              0.4444444444444444,
              "#bd3786"
             ],
             [
              0.5555555555555556,
              "#d8576b"
             ],
             [
              0.6666666666666666,
              "#ed7953"
             ],
             [
              0.7777777777777778,
              "#fb9f3a"
             ],
             [
              0.8888888888888888,
              "#fdca26"
             ],
             [
              1,
              "#f0f921"
             ]
            ],
            "type": "surface"
           }
          ],
          "table": [
           {
            "cells": {
             "fill": {
              "color": "#EBF0F8"
             },
             "line": {
              "color": "white"
             }
            },
            "header": {
             "fill": {
              "color": "#C8D4E3"
             },
             "line": {
              "color": "white"
             }
            },
            "type": "table"
           }
          ]
         },
         "layout": {
          "annotationdefaults": {
           "arrowcolor": "#2a3f5f",
           "arrowhead": 0,
           "arrowwidth": 1
          },
          "autotypenumbers": "strict",
          "coloraxis": {
           "colorbar": {
            "outlinewidth": 0,
            "ticks": ""
           }
          },
          "colorscale": {
           "diverging": [
            [
             0,
             "#8e0152"
            ],
            [
             0.1,
             "#c51b7d"
            ],
            [
             0.2,
             "#de77ae"
            ],
            [
             0.3,
             "#f1b6da"
            ],
            [
             0.4,
             "#fde0ef"
            ],
            [
             0.5,
             "#f7f7f7"
            ],
            [
             0.6,
             "#e6f5d0"
            ],
            [
             0.7,
             "#b8e186"
            ],
            [
             0.8,
             "#7fbc41"
            ],
            [
             0.9,
             "#4d9221"
            ],
            [
             1,
             "#276419"
            ]
           ],
           "sequential": [
            [
             0,
             "#0d0887"
            ],
            [
             0.1111111111111111,
             "#46039f"
            ],
            [
             0.2222222222222222,
             "#7201a8"
            ],
            [
             0.3333333333333333,
             "#9c179e"
            ],
            [
             0.4444444444444444,
             "#bd3786"
            ],
            [
             0.5555555555555556,
             "#d8576b"
            ],
            [
             0.6666666666666666,
             "#ed7953"
            ],
            [
             0.7777777777777778,
             "#fb9f3a"
            ],
            [
             0.8888888888888888,
             "#fdca26"
            ],
            [
             1,
             "#f0f921"
            ]
           ],
           "sequentialminus": [
            [
             0,
             "#0d0887"
            ],
            [
             0.1111111111111111,
             "#46039f"
            ],
            [
             0.2222222222222222,
             "#7201a8"
            ],
            [
             0.3333333333333333,
             "#9c179e"
            ],
            [
             0.4444444444444444,
             "#bd3786"
            ],
            [
             0.5555555555555556,
             "#d8576b"
            ],
            [
             0.6666666666666666,
             "#ed7953"
            ],
            [
             0.7777777777777778,
             "#fb9f3a"
            ],
            [
             0.8888888888888888,
             "#fdca26"
            ],
            [
             1,
             "#f0f921"
            ]
           ]
          },
          "colorway": [
           "#636efa",
           "#EF553B",
           "#00cc96",
           "#ab63fa",
           "#FFA15A",
           "#19d3f3",
           "#FF6692",
           "#B6E880",
           "#FF97FF",
           "#FECB52"
          ],
          "font": {
           "color": "#2a3f5f"
          },
          "geo": {
           "bgcolor": "white",
           "lakecolor": "white",
           "landcolor": "#E5ECF6",
           "showlakes": true,
           "showland": true,
           "subunitcolor": "white"
          },
          "hoverlabel": {
           "align": "left"
          },
          "hovermode": "closest",
          "mapbox": {
           "style": "light"
          },
          "paper_bgcolor": "white",
          "plot_bgcolor": "#E5ECF6",
          "polar": {
           "angularaxis": {
            "gridcolor": "white",
            "linecolor": "white",
            "ticks": ""
           },
           "bgcolor": "#E5ECF6",
           "radialaxis": {
            "gridcolor": "white",
            "linecolor": "white",
            "ticks": ""
           }
          },
          "scene": {
           "xaxis": {
            "backgroundcolor": "#E5ECF6",
            "gridcolor": "white",
            "gridwidth": 2,
            "linecolor": "white",
            "showbackground": true,
            "ticks": "",
            "zerolinecolor": "white"
           },
           "yaxis": {
            "backgroundcolor": "#E5ECF6",
            "gridcolor": "white",
            "gridwidth": 2,
            "linecolor": "white",
            "showbackground": true,
            "ticks": "",
            "zerolinecolor": "white"
           },
           "zaxis": {
            "backgroundcolor": "#E5ECF6",
            "gridcolor": "white",
            "gridwidth": 2,
            "linecolor": "white",
            "showbackground": true,
            "ticks": "",
            "zerolinecolor": "white"
           }
          },
          "shapedefaults": {
           "line": {
            "color": "#2a3f5f"
           }
          },
          "ternary": {
           "aaxis": {
            "gridcolor": "white",
            "linecolor": "white",
            "ticks": ""
           },
           "baxis": {
            "gridcolor": "white",
            "linecolor": "white",
            "ticks": ""
           },
           "bgcolor": "#E5ECF6",
           "caxis": {
            "gridcolor": "white",
            "linecolor": "white",
            "ticks": ""
           }
          },
          "title": {
           "x": 0.05
          },
          "xaxis": {
           "automargin": true,
           "gridcolor": "white",
           "linecolor": "white",
           "ticks": "",
           "title": {
            "standoff": 15
           },
           "zerolinecolor": "white",
           "zerolinewidth": 2
          },
          "yaxis": {
           "automargin": true,
           "gridcolor": "white",
           "linecolor": "white",
           "ticks": "",
           "title": {
            "standoff": 15
           },
           "zerolinecolor": "white",
           "zerolinewidth": 2
          }
         }
        },
        "title": {
         "text": "Status de los Estados en las Simulaciones - Elecciones Presidenciales 2020"
        },
        "width": 1200
       }
      }
     },
     "metadata": {},
     "output_type": "display_data"
    }
   ],
   "source": [
    "# Crear el mapa coroplético usando Plotly Express con códigos de estado\n",
    "fig = px.choropleth(accumulated_pred_state,\n",
    "                    locations='state_code',  # Usar la nueva columna con códigos de estado\n",
    "                    locationmode=\"USA-states\",  # Modo de localización para los códigos de estado\n",
    "                    color='Status',  # Métrica que deseas visualizar\n",
    "                    hover_name='state_code',  # Mostrar el código del estado en hover\n",
    "                    hover_data={\n",
    "                        'state_code': True,  # Mostrar el código del estado\n",
    "                        'Perc_Biden_2020': ':.2%',  # Mostrar el porcentaje de Biden en formato de porcentaje\n",
    "                        'Perc_Trump_2020': ':.2%'  # Mostrar el porcentaje de Trump en formato de porcentaje\n",
    "                    },\n",
    "                    scope='usa',  # Limitar el mapa a EE.UU.\n",
    "                    color_discrete_map={'Safe Biden': '#3951a2', \n",
    "                                        'Likely Biden': '#a3cef1', \n",
    "                                        'Toss-Up': '#b6b164', \n",
    "                                        'Likely Trump': '#d56062', \n",
    "                                        'Safe Trump': '#af2b39'},\n",
    "                    labels={'Winner': 'Ganador 2020'},  # Etiqueta para la barra de color\n",
    "                    title=\"Status de los Estados en las Simulaciones - Elecciones Presidenciales 2020\"\n",
    "                   )\n",
    "\n",
    "# # Crear un nuevo rastro para añadir los códigos de los estados en el mapa\n",
    "# fig.add_trace(go.Scattergeo(\n",
    "#     locationmode='USA-states',\n",
    "#     locations=accumulated_pred_state['state_code'],  # Usar los códigos de los estados\n",
    "#     text=accumulated_pred_state['state_code'],  # Mostrar los códigos dentro del mapa\n",
    "#     mode='text',  # Solo texto\n",
    "#     textfont=dict(size=12, color=\"black\"),  # Tamaño y color de la fuente\n",
    "# ))\n",
    "\n",
    "# Ajustar el tamaño del gráfico\n",
    "fig.update_layout(\n",
    "    width=1200,  # Ajustar el ancho del gráfico\n",
    "    height=800   # Ajustar la altura del gráfico\n",
    ")\n",
    "\n",
    "# Ajustar visualización y mostrar el gráfico\n",
    "fig.update_geos(fitbounds=\"locations\", visible=False)  # Ajustar el mapa a las ubicaciones\n",
    "fig.show()\n"
   ]
  },
  {
   "cell_type": "markdown",
   "metadata": {},
   "source": [
    "### Real"
   ]
  },
  {
   "cell_type": "code",
   "execution_count": 205,
   "metadata": {},
   "outputs": [
    {
     "data": {
      "application/vnd.plotly.v1+json": {
       "config": {
        "plotlyServerURL": "https://plot.ly"
       },
       "data": [
        {
         "colorscale": [
          [
           0,
           "#3951a2"
          ],
          [
           1,
           "#3951a2"
          ]
         ],
         "customdata": [
          [
           "CA",
           0.6349922090345022,
           0.3432780788831399
          ],
          [
           "NY",
           0.6086213129794381,
           0.37722291890687376
          ],
          [
           "PA",
           0.4996094728641761,
           0.487817849306632
          ],
          [
           "IL",
           0.5749298293549269,
           0.40519155137153595
          ],
          [
           "MI",
           0.5062081829082437,
           0.4783729069113762
          ],
          [
           "GA",
           0.4949526943907977,
           0.49259581776955713
          ],
          [
           "NJ",
           0.5714726720847354,
           0.41261556703709756
          ],
          [
           "VA",
           0.5410951717780242,
           0.4399550366728214
          ],
          [
           "WA",
           0.5797030113530306,
           0.3876697774334327
          ],
          [
           "MA",
           0.6560006300596849,
           0.3214191103050557
          ],
          [
           "AZ",
           0.49364690614366613,
           0.4905598103046474
          ],
          [
           "WI",
           0.4945401643500603,
           0.488290300823206
          ],
          [
           "MN",
           0.5239509930974001,
           0.4528494240916937
          ],
          [
           "MD",
           0.6536066486007711,
           0.32150291567748757
          ],
          [
           "CO",
           0.5540000116673468,
           0.4189827117554352
          ],
          [
           "OR",
           0.5645331865404888,
           0.4036724604634335
          ],
          [
           "CT",
           0.5923871335540597,
           0.3920949634924463
          ],
          [
           "NV",
           0.5005678195728402,
           0.4766624732455941
          ],
          [
           "NM",
           0.5392179469502831,
           0.438703757410938
          ],
          [
           "RI",
           0.5929900868154064,
           0.386993762381798
          ],
          [
           "NH",
           0.5282261974317218,
           0.45455042701042975
          ],
          [
           "ME",
           0.5290055791776243,
           0.4422776316759653
          ],
          [
           "HI",
           0.6373363923901899,
           0.3426886394217965
          ],
          [
           "VT",
           0.6608641693066397,
           0.3067376465593259
          ],
          [
           "DE",
           0.5878216702049562,
           0.39801392829507354
          ],
          [
           "DC",
           0.9214969392140692,
           0.05397321376714795
          ]
         ],
         "geo": "geo",
         "hovertemplate": "<b>%{hovertext}</b><br><br>Ganador 2020=Biden<br>state_code=%{customdata[0]}<br>Perc_Biden_2020=%{customdata[1]:.2%}<br>Perc_Trump_2020=%{customdata[2]:.2%}<extra></extra>",
         "hovertext": [
          "CA",
          "NY",
          "PA",
          "IL",
          "MI",
          "GA",
          "NJ",
          "VA",
          "WA",
          "MA",
          "AZ",
          "WI",
          "MN",
          "MD",
          "CO",
          "OR",
          "CT",
          "NV",
          "NM",
          "RI",
          "NH",
          "ME",
          "HI",
          "VT",
          "DE",
          "DC"
         ],
         "locationmode": "USA-states",
         "locations": [
          "CA",
          "NY",
          "PA",
          "IL",
          "MI",
          "GA",
          "NJ",
          "VA",
          "WA",
          "MA",
          "AZ",
          "WI",
          "MN",
          "MD",
          "CO",
          "OR",
          "CT",
          "NV",
          "NM",
          "RI",
          "NH",
          "ME",
          "HI",
          "VT",
          "DE",
          "DC"
         ],
         "name": "Biden",
         "showlegend": true,
         "showscale": false,
         "type": "choropleth",
         "z": [
          1,
          1,
          1,
          1,
          1,
          1,
          1,
          1,
          1,
          1,
          1,
          1,
          1,
          1,
          1,
          1,
          1,
          1,
          1,
          1,
          1,
          1,
          1,
          1,
          1,
          1
         ]
        },
        {
         "colorscale": [
          [
           0,
           "#af2b39"
          ],
          [
           1,
           "#af2b39"
          ]
         ],
         "customdata": [
          [
           "TX",
           0.4646728534974343,
           0.5204447181109659
          ],
          [
           "FL",
           0.47861450725442234,
           0.5121981962250404
          ],
          [
           "OH",
           0.45239338340705026,
           0.5327130010087464
          ],
          [
           "NC",
           0.48586220571564476,
           0.4993434152650928
          ],
          [
           "TN",
           0.37451434271023704,
           0.6066029416628381
          ],
          [
           "IN",
           0.40963201215350925,
           0.5703063235568532
          ],
          [
           "MO",
           0.4140878173618836,
           0.5679965577888949
          ],
          [
           "SC",
           0.43430088142061785,
           0.5511029395674024
          ],
          [
           "AL",
           0.36570676932506463,
           0.6203096968799606
          ],
          [
           "LA",
           0.39851456801526214,
           0.5846088241400853
          ],
          [
           "KY",
           0.3615151481115404,
           0.6208657186929044
          ],
          [
           "OK",
           0.32286174335986634,
           0.6537327184806295
          ],
          [
           "UT",
           0.37646048583306063,
           0.5812983902991959
          ],
          [
           "MS",
           0.41013307704356367,
           0.5754080436260339
          ],
          [
           "KS",
           0.413961663259401,
           0.5617357270887625
          ],
          [
           "IA",
           0.44891715571442176,
           0.5308932496920227
          ],
          [
           "AR",
           0.34775061953014963,
           0.6239572985614432
          ],
          [
           "WV",
           0.29696521244519614,
           0.6863155192461606
          ],
          [
           "NE",
           0.391667947539626,
           0.5822440685125876
          ],
          [
           "ID",
           0.33062935935169135,
           0.6383075780003571
          ],
          [
           "WY",
           0.26553574332014523,
           0.6993622748541181
          ],
          [
           "SD",
           0.3560525213613529,
           0.6176938967225024
          ],
          [
           "ND",
           0.31756762359080093,
           0.6511404873707572
          ],
          [
           "MT",
           0.4041040033016921,
           0.5672340074288073
          ]
         ],
         "geo": "geo",
         "hovertemplate": "<b>%{hovertext}</b><br><br>Ganador 2020=Trump<br>state_code=%{customdata[0]}<br>Perc_Biden_2020=%{customdata[1]:.2%}<br>Perc_Trump_2020=%{customdata[2]:.2%}<extra></extra>",
         "hovertext": [
          "TX",
          "FL",
          "OH",
          "NC",
          "TN",
          "IN",
          "MO",
          "SC",
          "AL",
          "LA",
          "KY",
          "OK",
          "UT",
          "MS",
          "KS",
          "IA",
          "AR",
          "WV",
          "NE",
          "ID",
          "WY",
          "SD",
          "ND",
          "MT"
         ],
         "locationmode": "USA-states",
         "locations": [
          "TX",
          "FL",
          "OH",
          "NC",
          "TN",
          "IN",
          "MO",
          "SC",
          "AL",
          "LA",
          "KY",
          "OK",
          "UT",
          "MS",
          "KS",
          "IA",
          "AR",
          "WV",
          "NE",
          "ID",
          "WY",
          "SD",
          "ND",
          "MT"
         ],
         "name": "Trump",
         "showlegend": true,
         "showscale": false,
         "type": "choropleth",
         "z": [
          1,
          1,
          1,
          1,
          1,
          1,
          1,
          1,
          1,
          1,
          1,
          1,
          1,
          1,
          1,
          1,
          1,
          1,
          1,
          1,
          1,
          1,
          1,
          1
         ]
        }
       ],
       "layout": {
        "geo": {
         "center": {},
         "domain": {
          "x": [
           0,
           1
          ],
          "y": [
           0,
           1
          ]
         },
         "fitbounds": "locations",
         "scope": "usa",
         "visible": false
        },
        "height": 800,
        "legend": {
         "title": {
          "text": "Ganador 2020"
         },
         "tracegroupgap": 0
        },
        "template": {
         "data": {
          "bar": [
           {
            "error_x": {
             "color": "#2a3f5f"
            },
            "error_y": {
             "color": "#2a3f5f"
            },
            "marker": {
             "line": {
              "color": "#E5ECF6",
              "width": 0.5
             },
             "pattern": {
              "fillmode": "overlay",
              "size": 10,
              "solidity": 0.2
             }
            },
            "type": "bar"
           }
          ],
          "barpolar": [
           {
            "marker": {
             "line": {
              "color": "#E5ECF6",
              "width": 0.5
             },
             "pattern": {
              "fillmode": "overlay",
              "size": 10,
              "solidity": 0.2
             }
            },
            "type": "barpolar"
           }
          ],
          "carpet": [
           {
            "aaxis": {
             "endlinecolor": "#2a3f5f",
             "gridcolor": "white",
             "linecolor": "white",
             "minorgridcolor": "white",
             "startlinecolor": "#2a3f5f"
            },
            "baxis": {
             "endlinecolor": "#2a3f5f",
             "gridcolor": "white",
             "linecolor": "white",
             "minorgridcolor": "white",
             "startlinecolor": "#2a3f5f"
            },
            "type": "carpet"
           }
          ],
          "choropleth": [
           {
            "colorbar": {
             "outlinewidth": 0,
             "ticks": ""
            },
            "type": "choropleth"
           }
          ],
          "contour": [
           {
            "colorbar": {
             "outlinewidth": 0,
             "ticks": ""
            },
            "colorscale": [
             [
              0,
              "#0d0887"
             ],
             [
              0.1111111111111111,
              "#46039f"
             ],
             [
              0.2222222222222222,
              "#7201a8"
             ],
             [
              0.3333333333333333,
              "#9c179e"
             ],
             [
              0.4444444444444444,
              "#bd3786"
             ],
             [
              0.5555555555555556,
              "#d8576b"
             ],
             [
              0.6666666666666666,
              "#ed7953"
             ],
             [
              0.7777777777777778,
              "#fb9f3a"
             ],
             [
              0.8888888888888888,
              "#fdca26"
             ],
             [
              1,
              "#f0f921"
             ]
            ],
            "type": "contour"
           }
          ],
          "contourcarpet": [
           {
            "colorbar": {
             "outlinewidth": 0,
             "ticks": ""
            },
            "type": "contourcarpet"
           }
          ],
          "heatmap": [
           {
            "colorbar": {
             "outlinewidth": 0,
             "ticks": ""
            },
            "colorscale": [
             [
              0,
              "#0d0887"
             ],
             [
              0.1111111111111111,
              "#46039f"
             ],
             [
              0.2222222222222222,
              "#7201a8"
             ],
             [
              0.3333333333333333,
              "#9c179e"
             ],
             [
              0.4444444444444444,
              "#bd3786"
             ],
             [
              0.5555555555555556,
              "#d8576b"
             ],
             [
              0.6666666666666666,
              "#ed7953"
             ],
             [
              0.7777777777777778,
              "#fb9f3a"
             ],
             [
              0.8888888888888888,
              "#fdca26"
             ],
             [
              1,
              "#f0f921"
             ]
            ],
            "type": "heatmap"
           }
          ],
          "heatmapgl": [
           {
            "colorbar": {
             "outlinewidth": 0,
             "ticks": ""
            },
            "colorscale": [
             [
              0,
              "#0d0887"
             ],
             [
              0.1111111111111111,
              "#46039f"
             ],
             [
              0.2222222222222222,
              "#7201a8"
             ],
             [
              0.3333333333333333,
              "#9c179e"
             ],
             [
              0.4444444444444444,
              "#bd3786"
             ],
             [
              0.5555555555555556,
              "#d8576b"
             ],
             [
              0.6666666666666666,
              "#ed7953"
             ],
             [
              0.7777777777777778,
              "#fb9f3a"
             ],
             [
              0.8888888888888888,
              "#fdca26"
             ],
             [
              1,
              "#f0f921"
             ]
            ],
            "type": "heatmapgl"
           }
          ],
          "histogram": [
           {
            "marker": {
             "pattern": {
              "fillmode": "overlay",
              "size": 10,
              "solidity": 0.2
             }
            },
            "type": "histogram"
           }
          ],
          "histogram2d": [
           {
            "colorbar": {
             "outlinewidth": 0,
             "ticks": ""
            },
            "colorscale": [
             [
              0,
              "#0d0887"
             ],
             [
              0.1111111111111111,
              "#46039f"
             ],
             [
              0.2222222222222222,
              "#7201a8"
             ],
             [
              0.3333333333333333,
              "#9c179e"
             ],
             [
              0.4444444444444444,
              "#bd3786"
             ],
             [
              0.5555555555555556,
              "#d8576b"
             ],
             [
              0.6666666666666666,
              "#ed7953"
             ],
             [
              0.7777777777777778,
              "#fb9f3a"
             ],
             [
              0.8888888888888888,
              "#fdca26"
             ],
             [
              1,
              "#f0f921"
             ]
            ],
            "type": "histogram2d"
           }
          ],
          "histogram2dcontour": [
           {
            "colorbar": {
             "outlinewidth": 0,
             "ticks": ""
            },
            "colorscale": [
             [
              0,
              "#0d0887"
             ],
             [
              0.1111111111111111,
              "#46039f"
             ],
             [
              0.2222222222222222,
              "#7201a8"
             ],
             [
              0.3333333333333333,
              "#9c179e"
             ],
             [
              0.4444444444444444,
              "#bd3786"
             ],
             [
              0.5555555555555556,
              "#d8576b"
             ],
             [
              0.6666666666666666,
              "#ed7953"
             ],
             [
              0.7777777777777778,
              "#fb9f3a"
             ],
             [
              0.8888888888888888,
              "#fdca26"
             ],
             [
              1,
              "#f0f921"
             ]
            ],
            "type": "histogram2dcontour"
           }
          ],
          "mesh3d": [
           {
            "colorbar": {
             "outlinewidth": 0,
             "ticks": ""
            },
            "type": "mesh3d"
           }
          ],
          "parcoords": [
           {
            "line": {
             "colorbar": {
              "outlinewidth": 0,
              "ticks": ""
             }
            },
            "type": "parcoords"
           }
          ],
          "pie": [
           {
            "automargin": true,
            "type": "pie"
           }
          ],
          "scatter": [
           {
            "fillpattern": {
             "fillmode": "overlay",
             "size": 10,
             "solidity": 0.2
            },
            "type": "scatter"
           }
          ],
          "scatter3d": [
           {
            "line": {
             "colorbar": {
              "outlinewidth": 0,
              "ticks": ""
             }
            },
            "marker": {
             "colorbar": {
              "outlinewidth": 0,
              "ticks": ""
             }
            },
            "type": "scatter3d"
           }
          ],
          "scattercarpet": [
           {
            "marker": {
             "colorbar": {
              "outlinewidth": 0,
              "ticks": ""
             }
            },
            "type": "scattercarpet"
           }
          ],
          "scattergeo": [
           {
            "marker": {
             "colorbar": {
              "outlinewidth": 0,
              "ticks": ""
             }
            },
            "type": "scattergeo"
           }
          ],
          "scattergl": [
           {
            "marker": {
             "colorbar": {
              "outlinewidth": 0,
              "ticks": ""
             }
            },
            "type": "scattergl"
           }
          ],
          "scattermapbox": [
           {
            "marker": {
             "colorbar": {
              "outlinewidth": 0,
              "ticks": ""
             }
            },
            "type": "scattermapbox"
           }
          ],
          "scatterpolar": [
           {
            "marker": {
             "colorbar": {
              "outlinewidth": 0,
              "ticks": ""
             }
            },
            "type": "scatterpolar"
           }
          ],
          "scatterpolargl": [
           {
            "marker": {
             "colorbar": {
              "outlinewidth": 0,
              "ticks": ""
             }
            },
            "type": "scatterpolargl"
           }
          ],
          "scatterternary": [
           {
            "marker": {
             "colorbar": {
              "outlinewidth": 0,
              "ticks": ""
             }
            },
            "type": "scatterternary"
           }
          ],
          "surface": [
           {
            "colorbar": {
             "outlinewidth": 0,
             "ticks": ""
            },
            "colorscale": [
             [
              0,
              "#0d0887"
             ],
             [
              0.1111111111111111,
              "#46039f"
             ],
             [
              0.2222222222222222,
              "#7201a8"
             ],
             [
              0.3333333333333333,
              "#9c179e"
             ],
             [
              0.4444444444444444,
              "#bd3786"
             ],
             [
              0.5555555555555556,
              "#d8576b"
             ],
             [
              0.6666666666666666,
              "#ed7953"
             ],
             [
              0.7777777777777778,
              "#fb9f3a"
             ],
             [
              0.8888888888888888,
              "#fdca26"
             ],
             [
              1,
              "#f0f921"
             ]
            ],
            "type": "surface"
           }
          ],
          "table": [
           {
            "cells": {
             "fill": {
              "color": "#EBF0F8"
             },
             "line": {
              "color": "white"
             }
            },
            "header": {
             "fill": {
              "color": "#C8D4E3"
             },
             "line": {
              "color": "white"
             }
            },
            "type": "table"
           }
          ]
         },
         "layout": {
          "annotationdefaults": {
           "arrowcolor": "#2a3f5f",
           "arrowhead": 0,
           "arrowwidth": 1
          },
          "autotypenumbers": "strict",
          "coloraxis": {
           "colorbar": {
            "outlinewidth": 0,
            "ticks": ""
           }
          },
          "colorscale": {
           "diverging": [
            [
             0,
             "#8e0152"
            ],
            [
             0.1,
             "#c51b7d"
            ],
            [
             0.2,
             "#de77ae"
            ],
            [
             0.3,
             "#f1b6da"
            ],
            [
             0.4,
             "#fde0ef"
            ],
            [
             0.5,
             "#f7f7f7"
            ],
            [
             0.6,
             "#e6f5d0"
            ],
            [
             0.7,
             "#b8e186"
            ],
            [
             0.8,
             "#7fbc41"
            ],
            [
             0.9,
             "#4d9221"
            ],
            [
             1,
             "#276419"
            ]
           ],
           "sequential": [
            [
             0,
             "#0d0887"
            ],
            [
             0.1111111111111111,
             "#46039f"
            ],
            [
             0.2222222222222222,
             "#7201a8"
            ],
            [
             0.3333333333333333,
             "#9c179e"
            ],
            [
             0.4444444444444444,
             "#bd3786"
            ],
            [
             0.5555555555555556,
             "#d8576b"
            ],
            [
             0.6666666666666666,
             "#ed7953"
            ],
            [
             0.7777777777777778,
             "#fb9f3a"
            ],
            [
             0.8888888888888888,
             "#fdca26"
            ],
            [
             1,
             "#f0f921"
            ]
           ],
           "sequentialminus": [
            [
             0,
             "#0d0887"
            ],
            [
             0.1111111111111111,
             "#46039f"
            ],
            [
             0.2222222222222222,
             "#7201a8"
            ],
            [
             0.3333333333333333,
             "#9c179e"
            ],
            [
             0.4444444444444444,
             "#bd3786"
            ],
            [
             0.5555555555555556,
             "#d8576b"
            ],
            [
             0.6666666666666666,
             "#ed7953"
            ],
            [
             0.7777777777777778,
             "#fb9f3a"
            ],
            [
             0.8888888888888888,
             "#fdca26"
            ],
            [
             1,
             "#f0f921"
            ]
           ]
          },
          "colorway": [
           "#636efa",
           "#EF553B",
           "#00cc96",
           "#ab63fa",
           "#FFA15A",
           "#19d3f3",
           "#FF6692",
           "#B6E880",
           "#FF97FF",
           "#FECB52"
          ],
          "font": {
           "color": "#2a3f5f"
          },
          "geo": {
           "bgcolor": "white",
           "lakecolor": "white",
           "landcolor": "#E5ECF6",
           "showlakes": true,
           "showland": true,
           "subunitcolor": "white"
          },
          "hoverlabel": {
           "align": "left"
          },
          "hovermode": "closest",
          "mapbox": {
           "style": "light"
          },
          "paper_bgcolor": "white",
          "plot_bgcolor": "#E5ECF6",
          "polar": {
           "angularaxis": {
            "gridcolor": "white",
            "linecolor": "white",
            "ticks": ""
           },
           "bgcolor": "#E5ECF6",
           "radialaxis": {
            "gridcolor": "white",
            "linecolor": "white",
            "ticks": ""
           }
          },
          "scene": {
           "xaxis": {
            "backgroundcolor": "#E5ECF6",
            "gridcolor": "white",
            "gridwidth": 2,
            "linecolor": "white",
            "showbackground": true,
            "ticks": "",
            "zerolinecolor": "white"
           },
           "yaxis": {
            "backgroundcolor": "#E5ECF6",
            "gridcolor": "white",
            "gridwidth": 2,
            "linecolor": "white",
            "showbackground": true,
            "ticks": "",
            "zerolinecolor": "white"
           },
           "zaxis": {
            "backgroundcolor": "#E5ECF6",
            "gridcolor": "white",
            "gridwidth": 2,
            "linecolor": "white",
            "showbackground": true,
            "ticks": "",
            "zerolinecolor": "white"
           }
          },
          "shapedefaults": {
           "line": {
            "color": "#2a3f5f"
           }
          },
          "ternary": {
           "aaxis": {
            "gridcolor": "white",
            "linecolor": "white",
            "ticks": ""
           },
           "baxis": {
            "gridcolor": "white",
            "linecolor": "white",
            "ticks": ""
           },
           "bgcolor": "#E5ECF6",
           "caxis": {
            "gridcolor": "white",
            "linecolor": "white",
            "ticks": ""
           }
          },
          "title": {
           "x": 0.05
          },
          "xaxis": {
           "automargin": true,
           "gridcolor": "white",
           "linecolor": "white",
           "ticks": "",
           "title": {
            "standoff": 15
           },
           "zerolinecolor": "white",
           "zerolinewidth": 2
          },
          "yaxis": {
           "automargin": true,
           "gridcolor": "white",
           "linecolor": "white",
           "ticks": "",
           "title": {
            "standoff": 15
           },
           "zerolinecolor": "white",
           "zerolinewidth": 2
          }
         }
        },
        "title": {
         "text": "Resultado Real de las Simulaciones - Elecciones Presidenciales 2020"
        },
        "width": 1200
       }
      }
     },
     "metadata": {},
     "output_type": "display_data"
    }
   ],
   "source": [
    "# Crear el mapa coroplético usando Plotly Express con códigos de estado\n",
    "fig = px.choropleth(full_df_actual_state,\n",
    "                    locations='state_code',  # Usar la nueva columna con códigos de estado\n",
    "                    locationmode=\"USA-states\",  # Modo de localización para los códigos de estado\n",
    "                    color='Winner_2020',  # Métrica que deseas visualizar\n",
    "                    hover_name='state_code',  # Mostrar el código del estado en hover\n",
    "                    hover_data={\n",
    "                        'state_code': True,  # Mostrar el código del estado\n",
    "                        'Perc_Biden_2020': ':.2%',  # Mostrar el porcentaje de Biden en formato de porcentaje\n",
    "                        'Perc_Trump_2020': ':.2%'  # Mostrar el porcentaje de Trump en formato de porcentaje\n",
    "                    },\n",
    "                    scope='usa',  # Limitar el mapa a EE.UU.\n",
    "                    color_discrete_map={'Biden': '#3951a2', 'Trump': '#af2b39'},  # Colores asignados\n",
    "                    labels={'Winner_2020': 'Ganador 2020'},  # Etiqueta para la barra de color\n",
    "                    title=\"Resultado Real de las Simulaciones - Elecciones Presidenciales 2020\"\n",
    "                   )\n",
    "\n",
    "# # Crear un nuevo rastro para añadir los códigos de los estados en el mapa\n",
    "# fig.add_trace(go.Scattergeo(\n",
    "#     locationmode='USA-states',\n",
    "#     locations=accumulated_pred_state['state_code'],  # Usar los códigos de los estados\n",
    "#     text=accumulated_pred_state['state_code'],  # Mostrar los códigos dentro del mapa\n",
    "#     mode='text',  # Solo texto\n",
    "#     textfont=dict(size=8, color=\"white\"),  # Tamaño y color de la fuente\n",
    "# ))\n",
    "\n",
    "# Ajustar el tamaño del gráfico\n",
    "fig.update_layout(\n",
    "    width=1200,  # Ajustar el ancho del gráfico\n",
    "    height=800   # Ajustar la altura del gráfico\n",
    ")\n",
    "\n",
    "# Ajustar visualización y mostrar el gráfico\n",
    "fig.update_geos(fitbounds=\"locations\", visible=False)  # Ajustar el mapa a las ubicaciones\n",
    "fig.show()\n"
   ]
  },
  {
   "cell_type": "code",
   "execution_count": 208,
   "metadata": {},
   "outputs": [
    {
     "data": {
      "application/vnd.plotly.v1+json": {
       "config": {
        "plotlyServerURL": "https://plot.ly"
       },
       "data": [
        {
         "colorscale": [
          [
           0,
           "#3951a2"
          ],
          [
           1,
           "#3951a2"
          ]
         ],
         "customdata": [
          [
           "CA",
           0.6349922090345022,
           0.3432780788831399
          ],
          [
           "NY",
           0.6086213129794381,
           0.37722291890687376
          ],
          [
           "IL",
           0.5749298293549269,
           0.40519155137153595
          ],
          [
           "NJ",
           0.5714726720847354,
           0.41261556703709756
          ],
          [
           "VA",
           0.5410951717780242,
           0.4399550366728214
          ],
          [
           "WA",
           0.5797030113530306,
           0.3876697774334327
          ],
          [
           "MA",
           0.6560006300596849,
           0.3214191103050557
          ],
          [
           "MD",
           0.6536066486007711,
           0.32150291567748757
          ],
          [
           "CO",
           0.5540000116673468,
           0.4189827117554352
          ],
          [
           "OR",
           0.5645331865404888,
           0.4036724604634335
          ],
          [
           "CT",
           0.5923871335540597,
           0.3920949634924463
          ],
          [
           "NM",
           0.5392179469502831,
           0.438703757410938
          ],
          [
           "RI",
           0.5929900868154064,
           0.386993762381798
          ],
          [
           "HI",
           0.6373363923901899,
           0.3426886394217965
          ],
          [
           "VT",
           0.6608641693066397,
           0.3067376465593259
          ],
          [
           "DE",
           0.5878216702049562,
           0.39801392829507354
          ],
          [
           "DC",
           0.9214969392140692,
           0.05397321376714795
          ]
         ],
         "geo": "geo",
         "hovertemplate": "<b>%{hovertext}</b><br><br>Status=Safe Biden<br>state_code=%{customdata[0]}<br>Perc_Biden_2020=%{customdata[1]:.2%}<br>Perc_Trump_2020=%{customdata[2]:.2%}<extra></extra>",
         "hovertext": [
          "CA",
          "NY",
          "IL",
          "NJ",
          "VA",
          "WA",
          "MA",
          "MD",
          "CO",
          "OR",
          "CT",
          "NM",
          "RI",
          "HI",
          "VT",
          "DE",
          "DC"
         ],
         "locationmode": "USA-states",
         "locations": [
          "CA",
          "NY",
          "IL",
          "NJ",
          "VA",
          "WA",
          "MA",
          "MD",
          "CO",
          "OR",
          "CT",
          "NM",
          "RI",
          "HI",
          "VT",
          "DE",
          "DC"
         ],
         "name": "Safe Biden",
         "showlegend": true,
         "showscale": false,
         "type": "choropleth",
         "z": [
          1,
          1,
          1,
          1,
          1,
          1,
          1,
          1,
          1,
          1,
          1,
          1,
          1,
          1,
          1,
          1,
          1
         ]
        },
        {
         "colorscale": [
          [
           0,
           "#d56062"
          ],
          [
           1,
           "#d56062"
          ]
         ],
         "customdata": [
          [
           "TX",
           0.4646728534974343,
           0.5204447181109659
          ],
          [
           "FL",
           0.47861450725442234,
           0.5121981962250404
          ],
          [
           "OH",
           0.45239338340705026,
           0.5327130010087464
          ],
          [
           "IA",
           0.44891715571442176,
           0.5308932496920227
          ]
         ],
         "geo": "geo",
         "hovertemplate": "<b>%{hovertext}</b><br><br>Status=Likely Trump<br>state_code=%{customdata[0]}<br>Perc_Biden_2020=%{customdata[1]:.2%}<br>Perc_Trump_2020=%{customdata[2]:.2%}<extra></extra>",
         "hovertext": [
          "TX",
          "FL",
          "OH",
          "IA"
         ],
         "locationmode": "USA-states",
         "locations": [
          "TX",
          "FL",
          "OH",
          "IA"
         ],
         "name": "Likely Trump",
         "showlegend": true,
         "showscale": false,
         "type": "choropleth",
         "z": [
          1,
          1,
          1,
          1
         ]
        },
        {
         "colorscale": [
          [
           0,
           "#b6b164"
          ],
          [
           1,
           "#b6b164"
          ]
         ],
         "customdata": [
          [
           "PA",
           0.4996094728641761,
           0.487817849306632
          ],
          [
           "GA",
           0.4949526943907977,
           0.49259581776955713
          ],
          [
           "NC",
           0.48586220571564476,
           0.4993434152650928
          ],
          [
           "AZ",
           0.49364690614366613,
           0.4905598103046474
          ],
          [
           "WI",
           0.4945401643500603,
           0.488290300823206
          ],
          [
           "NV",
           0.5005678195728402,
           0.4766624732455941
          ]
         ],
         "geo": "geo",
         "hovertemplate": "<b>%{hovertext}</b><br><br>Status=Toss-Up<br>state_code=%{customdata[0]}<br>Perc_Biden_2020=%{customdata[1]:.2%}<br>Perc_Trump_2020=%{customdata[2]:.2%}<extra></extra>",
         "hovertext": [
          "PA",
          "GA",
          "NC",
          "AZ",
          "WI",
          "NV"
         ],
         "locationmode": "USA-states",
         "locations": [
          "PA",
          "GA",
          "NC",
          "AZ",
          "WI",
          "NV"
         ],
         "name": "Toss-Up",
         "showlegend": true,
         "showscale": false,
         "type": "choropleth",
         "z": [
          1,
          1,
          1,
          1,
          1,
          1
         ]
        },
        {
         "colorscale": [
          [
           0,
           "#a3cef1"
          ],
          [
           1,
           "#a3cef1"
          ]
         ],
         "customdata": [
          [
           "MI",
           0.5062081829082437,
           0.4783729069113762
          ],
          [
           "MN",
           0.5239509930974001,
           0.4528494240916937
          ],
          [
           "NH",
           0.5282261974317218,
           0.45455042701042975
          ],
          [
           "ME",
           0.5290055791776243,
           0.4422776316759653
          ]
         ],
         "geo": "geo",
         "hovertemplate": "<b>%{hovertext}</b><br><br>Status=Likely Biden<br>state_code=%{customdata[0]}<br>Perc_Biden_2020=%{customdata[1]:.2%}<br>Perc_Trump_2020=%{customdata[2]:.2%}<extra></extra>",
         "hovertext": [
          "MI",
          "MN",
          "NH",
          "ME"
         ],
         "locationmode": "USA-states",
         "locations": [
          "MI",
          "MN",
          "NH",
          "ME"
         ],
         "name": "Likely Biden",
         "showlegend": true,
         "showscale": false,
         "type": "choropleth",
         "z": [
          1,
          1,
          1,
          1
         ]
        },
        {
         "colorscale": [
          [
           0,
           "#af2b39"
          ],
          [
           1,
           "#af2b39"
          ]
         ],
         "customdata": [
          [
           "TN",
           0.37451434271023704,
           0.6066029416628381
          ],
          [
           "IN",
           0.40963201215350925,
           0.5703063235568532
          ],
          [
           "MO",
           0.4140878173618836,
           0.5679965577888949
          ],
          [
           "SC",
           0.43430088142061785,
           0.5511029395674024
          ],
          [
           "AL",
           0.36570676932506463,
           0.6203096968799606
          ],
          [
           "LA",
           0.39851456801526214,
           0.5846088241400853
          ],
          [
           "KY",
           0.3615151481115404,
           0.6208657186929044
          ],
          [
           "OK",
           0.32286174335986634,
           0.6537327184806295
          ],
          [
           "UT",
           0.37646048583306063,
           0.5812983902991959
          ],
          [
           "MS",
           0.41013307704356367,
           0.5754080436260339
          ],
          [
           "KS",
           0.413961663259401,
           0.5617357270887625
          ],
          [
           "AR",
           0.34775061953014963,
           0.6239572985614432
          ],
          [
           "WV",
           0.29696521244519614,
           0.6863155192461606
          ],
          [
           "NE",
           0.391667947539626,
           0.5822440685125876
          ],
          [
           "ID",
           0.33062935935169135,
           0.6383075780003571
          ],
          [
           "WY",
           0.26553574332014523,
           0.6993622748541181
          ],
          [
           "SD",
           0.3560525213613529,
           0.6176938967225024
          ],
          [
           "ND",
           0.31756762359080093,
           0.6511404873707572
          ],
          [
           "MT",
           0.4041040033016921,
           0.5672340074288073
          ]
         ],
         "geo": "geo",
         "hovertemplate": "<b>%{hovertext}</b><br><br>Status=Safe Trump<br>state_code=%{customdata[0]}<br>Perc_Biden_2020=%{customdata[1]:.2%}<br>Perc_Trump_2020=%{customdata[2]:.2%}<extra></extra>",
         "hovertext": [
          "TN",
          "IN",
          "MO",
          "SC",
          "AL",
          "LA",
          "KY",
          "OK",
          "UT",
          "MS",
          "KS",
          "AR",
          "WV",
          "NE",
          "ID",
          "WY",
          "SD",
          "ND",
          "MT"
         ],
         "locationmode": "USA-states",
         "locations": [
          "TN",
          "IN",
          "MO",
          "SC",
          "AL",
          "LA",
          "KY",
          "OK",
          "UT",
          "MS",
          "KS",
          "AR",
          "WV",
          "NE",
          "ID",
          "WY",
          "SD",
          "ND",
          "MT"
         ],
         "name": "Safe Trump",
         "showlegend": true,
         "showscale": false,
         "type": "choropleth",
         "z": [
          1,
          1,
          1,
          1,
          1,
          1,
          1,
          1,
          1,
          1,
          1,
          1,
          1,
          1,
          1,
          1,
          1,
          1,
          1
         ]
        }
       ],
       "layout": {
        "geo": {
         "center": {},
         "domain": {
          "x": [
           0,
           1
          ],
          "y": [
           0,
           1
          ]
         },
         "fitbounds": "locations",
         "scope": "usa",
         "visible": false
        },
        "height": 800,
        "legend": {
         "title": {
          "text": "Status"
         },
         "tracegroupgap": 0
        },
        "template": {
         "data": {
          "bar": [
           {
            "error_x": {
             "color": "#2a3f5f"
            },
            "error_y": {
             "color": "#2a3f5f"
            },
            "marker": {
             "line": {
              "color": "#E5ECF6",
              "width": 0.5
             },
             "pattern": {
              "fillmode": "overlay",
              "size": 10,
              "solidity": 0.2
             }
            },
            "type": "bar"
           }
          ],
          "barpolar": [
           {
            "marker": {
             "line": {
              "color": "#E5ECF6",
              "width": 0.5
             },
             "pattern": {
              "fillmode": "overlay",
              "size": 10,
              "solidity": 0.2
             }
            },
            "type": "barpolar"
           }
          ],
          "carpet": [
           {
            "aaxis": {
             "endlinecolor": "#2a3f5f",
             "gridcolor": "white",
             "linecolor": "white",
             "minorgridcolor": "white",
             "startlinecolor": "#2a3f5f"
            },
            "baxis": {
             "endlinecolor": "#2a3f5f",
             "gridcolor": "white",
             "linecolor": "white",
             "minorgridcolor": "white",
             "startlinecolor": "#2a3f5f"
            },
            "type": "carpet"
           }
          ],
          "choropleth": [
           {
            "colorbar": {
             "outlinewidth": 0,
             "ticks": ""
            },
            "type": "choropleth"
           }
          ],
          "contour": [
           {
            "colorbar": {
             "outlinewidth": 0,
             "ticks": ""
            },
            "colorscale": [
             [
              0,
              "#0d0887"
             ],
             [
              0.1111111111111111,
              "#46039f"
             ],
             [
              0.2222222222222222,
              "#7201a8"
             ],
             [
              0.3333333333333333,
              "#9c179e"
             ],
             [
              0.4444444444444444,
              "#bd3786"
             ],
             [
              0.5555555555555556,
              "#d8576b"
             ],
             [
              0.6666666666666666,
              "#ed7953"
             ],
             [
              0.7777777777777778,
              "#fb9f3a"
             ],
             [
              0.8888888888888888,
              "#fdca26"
             ],
             [
              1,
              "#f0f921"
             ]
            ],
            "type": "contour"
           }
          ],
          "contourcarpet": [
           {
            "colorbar": {
             "outlinewidth": 0,
             "ticks": ""
            },
            "type": "contourcarpet"
           }
          ],
          "heatmap": [
           {
            "colorbar": {
             "outlinewidth": 0,
             "ticks": ""
            },
            "colorscale": [
             [
              0,
              "#0d0887"
             ],
             [
              0.1111111111111111,
              "#46039f"
             ],
             [
              0.2222222222222222,
              "#7201a8"
             ],
             [
              0.3333333333333333,
              "#9c179e"
             ],
             [
              0.4444444444444444,
              "#bd3786"
             ],
             [
              0.5555555555555556,
              "#d8576b"
             ],
             [
              0.6666666666666666,
              "#ed7953"
             ],
             [
              0.7777777777777778,
              "#fb9f3a"
             ],
             [
              0.8888888888888888,
              "#fdca26"
             ],
             [
              1,
              "#f0f921"
             ]
            ],
            "type": "heatmap"
           }
          ],
          "heatmapgl": [
           {
            "colorbar": {
             "outlinewidth": 0,
             "ticks": ""
            },
            "colorscale": [
             [
              0,
              "#0d0887"
             ],
             [
              0.1111111111111111,
              "#46039f"
             ],
             [
              0.2222222222222222,
              "#7201a8"
             ],
             [
              0.3333333333333333,
              "#9c179e"
             ],
             [
              0.4444444444444444,
              "#bd3786"
             ],
             [
              0.5555555555555556,
              "#d8576b"
             ],
             [
              0.6666666666666666,
              "#ed7953"
             ],
             [
              0.7777777777777778,
              "#fb9f3a"
             ],
             [
              0.8888888888888888,
              "#fdca26"
             ],
             [
              1,
              "#f0f921"
             ]
            ],
            "type": "heatmapgl"
           }
          ],
          "histogram": [
           {
            "marker": {
             "pattern": {
              "fillmode": "overlay",
              "size": 10,
              "solidity": 0.2
             }
            },
            "type": "histogram"
           }
          ],
          "histogram2d": [
           {
            "colorbar": {
             "outlinewidth": 0,
             "ticks": ""
            },
            "colorscale": [
             [
              0,
              "#0d0887"
             ],
             [
              0.1111111111111111,
              "#46039f"
             ],
             [
              0.2222222222222222,
              "#7201a8"
             ],
             [
              0.3333333333333333,
              "#9c179e"
             ],
             [
              0.4444444444444444,
              "#bd3786"
             ],
             [
              0.5555555555555556,
              "#d8576b"
             ],
             [
              0.6666666666666666,
              "#ed7953"
             ],
             [
              0.7777777777777778,
              "#fb9f3a"
             ],
             [
              0.8888888888888888,
              "#fdca26"
             ],
             [
              1,
              "#f0f921"
             ]
            ],
            "type": "histogram2d"
           }
          ],
          "histogram2dcontour": [
           {
            "colorbar": {
             "outlinewidth": 0,
             "ticks": ""
            },
            "colorscale": [
             [
              0,
              "#0d0887"
             ],
             [
              0.1111111111111111,
              "#46039f"
             ],
             [
              0.2222222222222222,
              "#7201a8"
             ],
             [
              0.3333333333333333,
              "#9c179e"
             ],
             [
              0.4444444444444444,
              "#bd3786"
             ],
             [
              0.5555555555555556,
              "#d8576b"
             ],
             [
              0.6666666666666666,
              "#ed7953"
             ],
             [
              0.7777777777777778,
              "#fb9f3a"
             ],
             [
              0.8888888888888888,
              "#fdca26"
             ],
             [
              1,
              "#f0f921"
             ]
            ],
            "type": "histogram2dcontour"
           }
          ],
          "mesh3d": [
           {
            "colorbar": {
             "outlinewidth": 0,
             "ticks": ""
            },
            "type": "mesh3d"
           }
          ],
          "parcoords": [
           {
            "line": {
             "colorbar": {
              "outlinewidth": 0,
              "ticks": ""
             }
            },
            "type": "parcoords"
           }
          ],
          "pie": [
           {
            "automargin": true,
            "type": "pie"
           }
          ],
          "scatter": [
           {
            "fillpattern": {
             "fillmode": "overlay",
             "size": 10,
             "solidity": 0.2
            },
            "type": "scatter"
           }
          ],
          "scatter3d": [
           {
            "line": {
             "colorbar": {
              "outlinewidth": 0,
              "ticks": ""
             }
            },
            "marker": {
             "colorbar": {
              "outlinewidth": 0,
              "ticks": ""
             }
            },
            "type": "scatter3d"
           }
          ],
          "scattercarpet": [
           {
            "marker": {
             "colorbar": {
              "outlinewidth": 0,
              "ticks": ""
             }
            },
            "type": "scattercarpet"
           }
          ],
          "scattergeo": [
           {
            "marker": {
             "colorbar": {
              "outlinewidth": 0,
              "ticks": ""
             }
            },
            "type": "scattergeo"
           }
          ],
          "scattergl": [
           {
            "marker": {
             "colorbar": {
              "outlinewidth": 0,
              "ticks": ""
             }
            },
            "type": "scattergl"
           }
          ],
          "scattermapbox": [
           {
            "marker": {
             "colorbar": {
              "outlinewidth": 0,
              "ticks": ""
             }
            },
            "type": "scattermapbox"
           }
          ],
          "scatterpolar": [
           {
            "marker": {
             "colorbar": {
              "outlinewidth": 0,
              "ticks": ""
             }
            },
            "type": "scatterpolar"
           }
          ],
          "scatterpolargl": [
           {
            "marker": {
             "colorbar": {
              "outlinewidth": 0,
              "ticks": ""
             }
            },
            "type": "scatterpolargl"
           }
          ],
          "scatterternary": [
           {
            "marker": {
             "colorbar": {
              "outlinewidth": 0,
              "ticks": ""
             }
            },
            "type": "scatterternary"
           }
          ],
          "surface": [
           {
            "colorbar": {
             "outlinewidth": 0,
             "ticks": ""
            },
            "colorscale": [
             [
              0,
              "#0d0887"
             ],
             [
              0.1111111111111111,
              "#46039f"
             ],
             [
              0.2222222222222222,
              "#7201a8"
             ],
             [
              0.3333333333333333,
              "#9c179e"
             ],
             [
              0.4444444444444444,
              "#bd3786"
             ],
             [
              0.5555555555555556,
              "#d8576b"
             ],
             [
              0.6666666666666666,
              "#ed7953"
             ],
             [
              0.7777777777777778,
              "#fb9f3a"
             ],
             [
              0.8888888888888888,
              "#fdca26"
             ],
             [
              1,
              "#f0f921"
             ]
            ],
            "type": "surface"
           }
          ],
          "table": [
           {
            "cells": {
             "fill": {
              "color": "#EBF0F8"
             },
             "line": {
              "color": "white"
             }
            },
            "header": {
             "fill": {
              "color": "#C8D4E3"
             },
             "line": {
              "color": "white"
             }
            },
            "type": "table"
           }
          ]
         },
         "layout": {
          "annotationdefaults": {
           "arrowcolor": "#2a3f5f",
           "arrowhead": 0,
           "arrowwidth": 1
          },
          "autotypenumbers": "strict",
          "coloraxis": {
           "colorbar": {
            "outlinewidth": 0,
            "ticks": ""
           }
          },
          "colorscale": {
           "diverging": [
            [
             0,
             "#8e0152"
            ],
            [
             0.1,
             "#c51b7d"
            ],
            [
             0.2,
             "#de77ae"
            ],
            [
             0.3,
             "#f1b6da"
            ],
            [
             0.4,
             "#fde0ef"
            ],
            [
             0.5,
             "#f7f7f7"
            ],
            [
             0.6,
             "#e6f5d0"
            ],
            [
             0.7,
             "#b8e186"
            ],
            [
             0.8,
             "#7fbc41"
            ],
            [
             0.9,
             "#4d9221"
            ],
            [
             1,
             "#276419"
            ]
           ],
           "sequential": [
            [
             0,
             "#0d0887"
            ],
            [
             0.1111111111111111,
             "#46039f"
            ],
            [
             0.2222222222222222,
             "#7201a8"
            ],
            [
             0.3333333333333333,
             "#9c179e"
            ],
            [
             0.4444444444444444,
             "#bd3786"
            ],
            [
             0.5555555555555556,
             "#d8576b"
            ],
            [
             0.6666666666666666,
             "#ed7953"
            ],
            [
             0.7777777777777778,
             "#fb9f3a"
            ],
            [
             0.8888888888888888,
             "#fdca26"
            ],
            [
             1,
             "#f0f921"
            ]
           ],
           "sequentialminus": [
            [
             0,
             "#0d0887"
            ],
            [
             0.1111111111111111,
             "#46039f"
            ],
            [
             0.2222222222222222,
             "#7201a8"
            ],
            [
             0.3333333333333333,
             "#9c179e"
            ],
            [
             0.4444444444444444,
             "#bd3786"
            ],
            [
             0.5555555555555556,
             "#d8576b"
            ],
            [
             0.6666666666666666,
             "#ed7953"
            ],
            [
             0.7777777777777778,
             "#fb9f3a"
            ],
            [
             0.8888888888888888,
             "#fdca26"
            ],
            [
             1,
             "#f0f921"
            ]
           ]
          },
          "colorway": [
           "#636efa",
           "#EF553B",
           "#00cc96",
           "#ab63fa",
           "#FFA15A",
           "#19d3f3",
           "#FF6692",
           "#B6E880",
           "#FF97FF",
           "#FECB52"
          ],
          "font": {
           "color": "#2a3f5f"
          },
          "geo": {
           "bgcolor": "white",
           "lakecolor": "white",
           "landcolor": "#E5ECF6",
           "showlakes": true,
           "showland": true,
           "subunitcolor": "white"
          },
          "hoverlabel": {
           "align": "left"
          },
          "hovermode": "closest",
          "mapbox": {
           "style": "light"
          },
          "paper_bgcolor": "white",
          "plot_bgcolor": "#E5ECF6",
          "polar": {
           "angularaxis": {
            "gridcolor": "white",
            "linecolor": "white",
            "ticks": ""
           },
           "bgcolor": "#E5ECF6",
           "radialaxis": {
            "gridcolor": "white",
            "linecolor": "white",
            "ticks": ""
           }
          },
          "scene": {
           "xaxis": {
            "backgroundcolor": "#E5ECF6",
            "gridcolor": "white",
            "gridwidth": 2,
            "linecolor": "white",
            "showbackground": true,
            "ticks": "",
            "zerolinecolor": "white"
           },
           "yaxis": {
            "backgroundcolor": "#E5ECF6",
            "gridcolor": "white",
            "gridwidth": 2,
            "linecolor": "white",
            "showbackground": true,
            "ticks": "",
            "zerolinecolor": "white"
           },
           "zaxis": {
            "backgroundcolor": "#E5ECF6",
            "gridcolor": "white",
            "gridwidth": 2,
            "linecolor": "white",
            "showbackground": true,
            "ticks": "",
            "zerolinecolor": "white"
           }
          },
          "shapedefaults": {
           "line": {
            "color": "#2a3f5f"
           }
          },
          "ternary": {
           "aaxis": {
            "gridcolor": "white",
            "linecolor": "white",
            "ticks": ""
           },
           "baxis": {
            "gridcolor": "white",
            "linecolor": "white",
            "ticks": ""
           },
           "bgcolor": "#E5ECF6",
           "caxis": {
            "gridcolor": "white",
            "linecolor": "white",
            "ticks": ""
           }
          },
          "title": {
           "x": 0.05
          },
          "xaxis": {
           "automargin": true,
           "gridcolor": "white",
           "linecolor": "white",
           "ticks": "",
           "title": {
            "standoff": 15
           },
           "zerolinecolor": "white",
           "zerolinewidth": 2
          },
          "yaxis": {
           "automargin": true,
           "gridcolor": "white",
           "linecolor": "white",
           "ticks": "",
           "title": {
            "standoff": 15
           },
           "zerolinecolor": "white",
           "zerolinewidth": 2
          }
         }
        },
        "title": {
         "text": "Status de los Estados en las Simulaciones - Elecciones Presidenciales 2020"
        },
        "width": 1200
       }
      }
     },
     "metadata": {},
     "output_type": "display_data"
    }
   ],
   "source": [
    "# Crear el mapa coroplético usando Plotly Express con códigos de estado\n",
    "fig = px.choropleth(full_df_actual_state,\n",
    "                    locations='state_code',  # Usar la nueva columna con códigos de estado\n",
    "                    locationmode=\"USA-states\",  # Modo de localización para los códigos de estado\n",
    "                    color='Status',  # Métrica que deseas visualizar\n",
    "                    hover_name='state_code',  # Mostrar el código del estado en hover\n",
    "                    hover_data={\n",
    "                        'state_code': True,  # Mostrar el código del estado\n",
    "                        'Perc_Biden_2020': ':.2%',  # Mostrar el porcentaje de Biden en formato de porcentaje\n",
    "                        'Perc_Trump_2020': ':.2%'  # Mostrar el porcentaje de Trump en formato de porcentaje\n",
    "                    },\n",
    "                    scope='usa',  # Limitar el mapa a EE.UU.\n",
    "                    color_discrete_map={'Safe Biden': '#3951a2', \n",
    "                                        'Likely Biden': '#a3cef1', \n",
    "                                        'Toss-Up': '#b6b164', \n",
    "                                        'Likely Trump': '#d56062', \n",
    "                                        'Safe Trump': '#af2b39'},\n",
    "                    labels={'Winner_2020': 'Ganador 2020'},  # Etiqueta para la barra de color\n",
    "                    title=\"Status de los Estados en las Simulaciones - Elecciones Presidenciales 2020\"\n",
    "                   )\n",
    "\n",
    "# # Crear un nuevo rastro para añadir los códigos de los estados en el mapa\n",
    "# fig.add_trace(go.Scattergeo(\n",
    "#     locationmode='USA-states',\n",
    "#     locations=accumulated_pred_state['state_code'],  # Usar los códigos de los estados\n",
    "#     text=accumulated_pred_state['state_code'],  # Mostrar los códigos dentro del mapa\n",
    "#     mode='text',  # Solo texto\n",
    "#     textfont=dict(size=12, color=\"black\"),  # Tamaño y color de la fuente\n",
    "# ))\n",
    "\n",
    "# Ajustar el tamaño del gráfico\n",
    "fig.update_layout(\n",
    "    width=1200,  # Ajustar el ancho del gráfico\n",
    "    height=800   # Ajustar la altura del gráfico\n",
    ")\n",
    "\n",
    "\n",
    "\n",
    "# Ajustar visualización y mostrar el gráfico\n",
    "fig.update_geos(fitbounds=\"locations\", visible=False)  # Ajustar el mapa a las ubicaciones\n",
    "fig.show()\n"
   ]
  }
 ],
 "metadata": {
  "kernelspec": {
   "display_name": ".venv",
   "language": "python",
   "name": "python3"
  },
  "language_info": {
   "codemirror_mode": {
    "name": "ipython",
    "version": 3
   },
   "file_extension": ".py",
   "mimetype": "text/x-python",
   "name": "python",
   "nbconvert_exporter": "python",
   "pygments_lexer": "ipython3",
   "version": "3.11.2"
  }
 },
 "nbformat": 4,
 "nbformat_minor": 2
}
